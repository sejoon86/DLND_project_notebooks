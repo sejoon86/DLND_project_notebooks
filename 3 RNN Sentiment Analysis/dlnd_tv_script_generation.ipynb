{
 "cells": [
  {
   "cell_type": "markdown",
   "metadata": {},
   "source": [
    "# TV Script Generation\n",
    "\n",
    "In this project, you'll generate your own [Seinfeld](https://en.wikipedia.org/wiki/Seinfeld) TV scripts using RNNs.  You'll be using part of the [Seinfeld dataset](https://www.kaggle.com/thec03u5/seinfeld-chronicles#scripts.csv) of scripts from 9 seasons.  The Neural Network you'll build will generate a new ,\"fake\" TV script, based on patterns it recognizes in this training data.\n",
    "\n",
    "## Get the Data\n",
    "\n",
    "The data is already provided for you in `./data/Seinfeld_Scripts.txt` and you're encouraged to open that file and look at the text. \n",
    ">* As a first step, we'll load in this data and look at some samples. \n",
    "* Then, you'll be tasked with defining and training an RNN to generate a new script!"
   ]
  },
  {
   "cell_type": "code",
   "execution_count": 1,
   "metadata": {},
   "outputs": [],
   "source": [
    "\"\"\"\n",
    "DON'T MODIFY ANYTHING IN THIS CELL\n",
    "\"\"\"\n",
    "# load in data\n",
    "import helper\n",
    "data_dir = './data/Seinfeld_Scripts.txt'\n",
    "text = helper.load_data(data_dir)"
   ]
  },
  {
   "cell_type": "code",
   "execution_count": 2,
   "metadata": {},
   "outputs": [
    {
     "name": "stdout",
     "output_type": "stream",
     "text": [
      "jerry: do you know what this is all about? do you know, why were here? to be out, this is out...and \n"
     ]
    }
   ],
   "source": [
    "print(text[:100])"
   ]
  },
  {
   "cell_type": "markdown",
   "metadata": {},
   "source": [
    "## Explore the Data\n",
    "Play around with `view_line_range` to view different parts of the data. This will give you a sense of the data you'll be working with. You can see, for example, that it is all lowercase text, and each new line of dialogue is separated by a newline character `\\n`."
   ]
  },
  {
   "cell_type": "code",
   "execution_count": 3,
   "metadata": {},
   "outputs": [
    {
     "name": "stdout",
     "output_type": "stream",
     "text": [
      "Dataset Stats\n",
      "Roughly the number of unique words: 46367\n",
      "Number of lines: 109233\n",
      "Average number of words in each line: 5.544240293684143\n",
      "\n",
      "The lines 0 to 10:\n",
      "jerry: do you know what this is all about? do you know, why were here? to be out, this is out...and out is one of the single most enjoyable experiences of life. people...did you ever hear people talking about we should go out? this is what theyre talking about...this whole thing, were all out now, no one is home. not one person here is home, were all out! there are people trying to find us, they dont know where we are. (on an imaginary phone) did you ring?, i cant find him. where did he go? he didnt tell me where he was going. he must have gone out. you wanna go out you get ready, you pick out the clothes, right? you take the shower, you get all ready, get the cash, get your friends, the car, the spot, the reservation...then youre standing around, what do you do? you go we gotta be getting back. once youre out, you wanna get back! you wanna go to sleep, you wanna get up, you wanna go out again tomorrow, right? where ever you are in life, its my feeling, youve gotta go. \n",
      "\n",
      "jerry: (pointing at georges shirt) see, to me, that button is in the worst possible spot. the second button literally makes or breaks the shirt, look at it. its too high! its in no-mans-land. you look like you live with your mother. \n",
      "\n",
      "george: are you through? \n",
      "\n",
      "jerry: you do of course try on, when you buy? \n",
      "\n",
      "george: yes, it was purple, i liked it, i dont actually recall considering the buttons. \n",
      "\n"
     ]
    }
   ],
   "source": [
    "view_line_range = (0, 10)\n",
    "\n",
    "\"\"\"\n",
    "DON'T MODIFY ANYTHING IN THIS CELL THAT IS BELOW THIS LINE\n",
    "\"\"\"\n",
    "import numpy as np\n",
    "\n",
    "print('Dataset Stats')\n",
    "print('Roughly the number of unique words: {}'.format(len({word: None for word in text.split()})))\n",
    "\n",
    "lines = text.split('\\n')\n",
    "print('Number of lines: {}'.format(len(lines)))\n",
    "word_count_line = [len(line.split()) for line in lines]\n",
    "print('Average number of words in each line: {}'.format(np.average(word_count_line)))\n",
    "\n",
    "print()\n",
    "print('The lines {} to {}:'.format(*view_line_range))\n",
    "print('\\n'.join(text.split('\\n')[view_line_range[0]:view_line_range[1]]))"
   ]
  },
  {
   "cell_type": "markdown",
   "metadata": {},
   "source": [
    "---\n",
    "## Implement Pre-processing Functions\n",
    "The first thing to do to any dataset is pre-processing.  Implement the following pre-processing functions below:\n",
    "- Lookup Table\n",
    "- Tokenize Punctuation\n",
    "\n",
    "### Lookup Table\n",
    "To create a word embedding, you first need to transform the words to ids.  In this function, create two dictionaries:\n",
    "- Dictionary to go from the words to an id, we'll call `vocab_to_int`\n",
    "- Dictionary to go from the id to word, we'll call `int_to_vocab`\n",
    "\n",
    "Return these dictionaries in the following **tuple** `(vocab_to_int, int_to_vocab)`"
   ]
  },
  {
   "cell_type": "code",
   "execution_count": 4,
   "metadata": {},
   "outputs": [
    {
     "name": "stdout",
     "output_type": "stream",
     "text": [
      "Tests Passed\n"
     ]
    }
   ],
   "source": [
    "import problem_unittests as tests\n",
    "from collections import Counter\n",
    "from string import punctuation\n",
    "\n",
    "def create_lookup_tables(text):\n",
    "    \"\"\"\n",
    "    Create lookup tables for vocabulary\n",
    "    :param text: The text of tv scripts split into words\n",
    "    :return: A tuple of dicts (vocab_to_int, int_to_vocab)\n",
    "    \"\"\"\n",
    "     \n",
    "    ## Build a dictionary that maps words to integers\n",
    "    ## text is list of words  \n",
    "    ## text_str is a string\n",
    "    text_str = ' '.join([word for word in text])\n",
    "    text_str = text_str.lower() \n",
    "     \n",
    "    text_split = text_str.split('\\n') \n",
    "    all_text = ''.join([word for word in text_split]) \n",
    "     \n",
    "    words = all_text.split(' ')\n",
    "    word_counts = Counter(words)\n",
    "    #sorting the words from most to least frequent in text occurrence\n",
    "    sorted_vocab = sorted(word_counts, key=word_counts.get, reverse=True)\n",
    "\n",
    "    vocab_to_int = {word: ii for ii, word in enumerate(sorted_vocab,0)}#start at 0?\n",
    "    int_to_vocab = {ii: word for word, ii in vocab_to_int.items()}\n",
    "     \n",
    "    # return tuple\n",
    "    return (vocab_to_int, int_to_vocab)\n",
    "\n",
    "\"\"\"\n",
    "DON'T MODIFY ANYTHING IN THIS CELL THAT IS BELOW THIS LINE\n",
    "\"\"\"\n",
    "tests.test_create_lookup_tables(create_lookup_tables)"
   ]
  },
  {
   "cell_type": "markdown",
   "metadata": {},
   "source": [
    "### Tokenize Punctuation\n",
    "We'll be splitting the script into a word array using spaces as delimiters.  However, punctuations like periods and exclamation marks can create multiple ids for the same word. For example, \"bye\" and \"bye!\" would generate two different word ids.\n",
    "\n",
    "Implement the function `token_lookup` to return a dict that will be used to tokenize symbols like \"!\" into \"||Exclamation_Mark||\".  Create a dictionary for the following symbols where the symbol is the key and value is the token:\n",
    "- Period ( **.** )\n",
    "- Comma ( **,** )\n",
    "- Quotation Mark ( **\"** )\n",
    "- Semicolon ( **;** )\n",
    "- Exclamation mark ( **!** )\n",
    "- Question mark ( **?** )\n",
    "- Left Parentheses ( **(** )\n",
    "- Right Parentheses ( **)** )\n",
    "- Dash ( **-** )\n",
    "- Return ( **\\n** )\n",
    "\n",
    "This dictionary will be used to tokenize the symbols and add the delimiter (space) around it.  This separates each symbols as its own word, making it easier for the neural network to predict the next word. Make sure you don't use a value that could be confused as a word; for example, instead of using the value \"dash\", try using something like \"||dash||\"."
   ]
  },
  {
   "cell_type": "code",
   "execution_count": 5,
   "metadata": {},
   "outputs": [
    {
     "name": "stdout",
     "output_type": "stream",
     "text": [
      "Tests Passed\n"
     ]
    }
   ],
   "source": [
    "def token_lookup():\n",
    "    \"\"\"\n",
    "    Generate a dict to turn punctuation into a token.\n",
    "    :return: Tokenized dictionary where the key is the punctuation and the value is the token\n",
    "    \"\"\"\n",
    "    # TODO: Implement Function\n",
    "    punctuation_dict = {'.':'||period||', \n",
    "                       ',':'||comma||',\n",
    "                       '\"':'||quotationmark||',\n",
    "                       ';':'||semicolon||',\n",
    "                       '!':'||exclamationmark||',\n",
    "                       '?':'||questionmark||',\n",
    "                       '(':'||leftparentheses||',\n",
    "                       ')':'||rightparentheses||',\n",
    "                       '-':'||dash||',\n",
    "                       '\\n':'||return||'}\n",
    "    return punctuation_dict\n",
    "\n",
    "\"\"\"\n",
    "DON'T MODIFY ANYTHING IN THIS CELL THAT IS BELOW THIS LINE\n",
    "\"\"\"\n",
    "tests.test_tokenize(token_lookup)"
   ]
  },
  {
   "cell_type": "markdown",
   "metadata": {},
   "source": [
    "## Pre-process all the data and save it\n",
    "\n",
    "Running the code cell below will pre-process all the data and save it to file. You're encouraged to lok at the code for `preprocess_and_save_data` in the `helpers.py` file to see what it's doing in detail, but you do not need to change this code."
   ]
  },
  {
   "cell_type": "code",
   "execution_count": 6,
   "metadata": {},
   "outputs": [],
   "source": [
    "\"\"\"\n",
    "DON'T MODIFY ANYTHING IN THIS CELL\n",
    "\"\"\"\n",
    "# pre-process training data\n",
    "helper.preprocess_and_save_data(data_dir, token_lookup, create_lookup_tables)"
   ]
  },
  {
   "cell_type": "markdown",
   "metadata": {},
   "source": [
    "# Check Point\n",
    "This is your first checkpoint. If you ever decide to come back to this notebook or have to restart the notebook, you can start from here. The preprocessed data has been saved to disk."
   ]
  },
  {
   "cell_type": "code",
   "execution_count": 7,
   "metadata": {},
   "outputs": [],
   "source": [
    "\"\"\"\n",
    "DON'T MODIFY ANYTHING IN THIS CELL\n",
    "\"\"\"\n",
    "import helper\n",
    "import problem_unittests as tests\n",
    "\n",
    "int_text, vocab_to_int, int_to_vocab, token_dict = helper.load_preprocess()"
   ]
  },
  {
   "cell_type": "code",
   "execution_count": 9,
   "metadata": {},
   "outputs": [
    {
     "name": "stdout",
     "output_type": "stream",
     "text": [
      "<class 'list'>\n",
      "[24, 22, 47, 1, 1, 1, 17, 47, 22, 82, 20, 6, 1252, 545, 8782, 7189, 20, 241, 1, 149, 1, 1, 1, 84, 4, 200, 238, 149, 208, 58]\n",
      "\n",
      "<class 'dict'>\n",
      "130\n",
      "\n",
      "<class 'dict'>\n",
      "jerry:\n",
      "\n",
      "<class 'dict'>\n",
      "||period||\n",
      "\n"
     ]
    }
   ],
   "source": [
    "print(type(int_text))\n",
    "print(int_text[:30])\n",
    "print(\"\")\n",
    "\n",
    "print(type(vocab_to_int))\n",
    "print(vocab_to_int['hi'])\n",
    "print(\"\")\n",
    "\n",
    "print(type(int_to_vocab))\n",
    "print(int_to_vocab[7])\n",
    "print(\"\")\n",
    "\n",
    "print(type(token_dict))\n",
    "print(token_dict['.'])\n",
    "print(\"\")"
   ]
  },
  {
   "cell_type": "markdown",
   "metadata": {},
   "source": [
    "## Build the Neural Network\n",
    "In this section, you'll build the components necessary to build an RNN by implementing the RNN Module and forward and backpropagation functions.\n",
    "\n",
    "### Check Access to GPU"
   ]
  },
  {
   "cell_type": "code",
   "execution_count": 10,
   "metadata": {},
   "outputs": [],
   "source": [
    "\"\"\"\n",
    "DON'T MODIFY ANYTHING IN THIS CELL\n",
    "\"\"\"\n",
    "import torch\n",
    "\n",
    "# Check for a GPU\n",
    "train_on_gpu = torch.cuda.is_available()\n",
    "if not train_on_gpu:\n",
    "    print('No GPU found. Please use a GPU to train your neural network.')"
   ]
  },
  {
   "cell_type": "markdown",
   "metadata": {},
   "source": [
    "## Input\n",
    "Let's start with the preprocessed input data. We'll use [TensorDataset](http://pytorch.org/docs/master/data.html#torch.utils.data.TensorDataset) to provide a known format to our dataset; in combination with [DataLoader](http://pytorch.org/docs/master/data.html#torch.utils.data.DataLoader), it will handle batching, shuffling, and other dataset iteration functions.\n",
    "\n",
    "You can create data with TensorDataset by passing in feature and target tensors. Then create a DataLoader as usual.\n",
    "```\n",
    "data = TensorDataset(feature_tensors, target_tensors)\n",
    "data_loader = torch.utils.data.DataLoader(data, \n",
    "                                          batch_size=batch_size)\n",
    "```\n",
    "\n",
    "### Batching\n",
    "Implement the `batch_data` function to batch `words` data into chunks of size `batch_size` using the `TensorDataset` and `DataLoader` classes.\n",
    "\n",
    ">You can batch words using the DataLoader, but it will be up to you to create `feature_tensors` and `target_tensors` of the correct size and content for a given `sequence_length`.\n",
    "\n",
    "For example, say we have these as input:\n",
    "```\n",
    "words = [1, 2, 3, 4, 5, 6, 7]\n",
    "sequence_length = 4\n",
    "```\n",
    "\n",
    "Your first `feature_tensor` should contain the values:\n",
    "```\n",
    "[1, 2, 3, 4]\n",
    "```\n",
    "And the corresponding `target_tensor` should just be the next \"word\"/tokenized word value:\n",
    "```\n",
    "5\n",
    "```\n",
    "This should continue with the second `feature_tensor`, `target_tensor` being:\n",
    "```\n",
    "[2, 3, 4, 5]  # features\n",
    "6             # target\n",
    "```"
   ]
  },
  {
   "cell_type": "code",
   "execution_count": 11,
   "metadata": {},
   "outputs": [],
   "source": [
    "from torch.utils.data import TensorDataset, DataLoader\n",
    "\n",
    "\n",
    "def batch_data(words, sequence_length, batch_size):\n",
    "    \"\"\"\n",
    "    Batch the neural network data using DataLoader\n",
    "    :param words: The word ids of the TV scripts\n",
    "    :param sequence_length: The sequence length of each batch\n",
    "    :param batch_size: The size of each batch; the number of sequences in a batch\n",
    "    :return: DataLoader with batched data\n",
    "    \"\"\"\n",
    "    # TODO: Implement function\n",
    "    torch_words = np.array(words)\n",
    "    #print(torch_words)\n",
    "    \n",
    "    #total_batch_num = len(words)//(sequence_length- 1)\n",
    "    #print(total_batch_num)\n",
    "    \n",
    "    \n",
    "    train_x = []\n",
    "    train_y = []\n",
    "    \n",
    "    for N in range(0,len(torch_words)-sequence_length,1): ## so it won't cycle around\n",
    "        train_x.append(torch_words[N:N+sequence_length])\n",
    "        train_y.append(torch_words[N+sequence_length])\n",
    "        \n",
    "    #print(train_x[0])\n",
    "    \n",
    "    train_data = TensorDataset(torch.IntTensor(train_x), torch.IntTensor(train_y))\n",
    "    train_loader = DataLoader(train_data, shuffle=True, batch_size=batch_size)\n",
    "    print(\"len(train_loader) = {}\".format(len(train_loader)))\n",
    "    \n",
    "    # return a dataloader\n",
    "    return train_loader\n",
    "\n",
    "# there is no test for this function, but you are encouraged to create\n",
    "# print statements and tests of your own\n"
   ]
  },
  {
   "cell_type": "markdown",
   "metadata": {},
   "source": [
    "is there a faster way to make train_x??\n",
    "also, is the output format correct??\n"
   ]
  },
  {
   "cell_type": "code",
   "execution_count": 12,
   "metadata": {
    "scrolled": true
   },
   "outputs": [
    {
     "name": "stdout",
     "output_type": "stream",
     "text": [
      "892110\n",
      "<class 'list'>\n",
      "[24, 22, 47, 1, 1, 1, 17, 47, 22, 82]\n",
      " \n",
      "[24 22 47  1  1  1 17 47 22 82]\n",
      " \n",
      "tensor([ 24,  22,  47,   1,   1,   1,  17,  47,  22,  82], dtype=torch.int32)\n",
      " \n",
      "len(train_loader) = 297369\n"
     ]
    }
   ],
   "source": [
    "sequence_length = 5\n",
    "batch_size = 3\n",
    "int_text\n",
    "print(len(int_text)) \n",
    "print(type(int_text))\n",
    "print(int_text[:10]), print(\" \")\n",
    "print(np.array(int_text[:10])) , print(\" \")\n",
    "print(torch.IntTensor(int_text[:10])), print(\" \")\n",
    "word_dataloader = batch_data(int_text, sequence_length, batch_size)"
   ]
  },
  {
   "cell_type": "code",
   "execution_count": 13,
   "metadata": {},
   "outputs": [
    {
     "data": {
      "text/plain": [
       "[tensor([[ 186,   19,  109,    3,    0],\n",
       "         [   0,    0,   14,   26,    2],\n",
       "         [   0,   13,   29,    5,  991]], dtype=torch.int32),\n",
       " tensor([  0,  74,   6], dtype=torch.int32)]"
      ]
     },
     "execution_count": 13,
     "metadata": {},
     "output_type": "execute_result"
    }
   ],
   "source": [
    "next(iter(word_dataloader))"
   ]
  },
  {
   "cell_type": "markdown",
   "metadata": {},
   "source": [
    "### Test your dataloader \n",
    "\n",
    "You'll have to modify this code to test a batching function, but it should look fairly similar.\n",
    "\n",
    "Below, we're generating some test text data and defining a dataloader using the function you defined, above. Then, we are getting some sample batch of inputs `sample_x` and targets `sample_y` from our dataloader.\n",
    "\n",
    "Your code should return something like the following (likely in a different order, if you shuffled your data):\n",
    "\n",
    "```\n",
    "torch.Size([10, 5])\n",
    "tensor([[ 28,  29,  30,  31,  32],\n",
    "        [ 21,  22,  23,  24,  25],\n",
    "        [ 17,  18,  19,  20,  21],\n",
    "        [ 34,  35,  36,  37,  38],\n",
    "        [ 11,  12,  13,  14,  15],\n",
    "        [ 23,  24,  25,  26,  27],\n",
    "        [  6,   7,   8,   9,  10],\n",
    "        [ 38,  39,  40,  41,  42],\n",
    "        [ 25,  26,  27,  28,  29],\n",
    "        [  7,   8,   9,  10,  11]])\n",
    "\n",
    "torch.Size([10])\n",
    "tensor([ 33,  26,  22,  39,  16,  28,  11,  43,  30,  12])\n",
    "```\n",
    "\n",
    "### Sizes\n",
    "Your sample_x should be of size `(batch_size, sequence_length)` or (10, 5) in this case and sample_y should just have one dimension: batch_size (10). \n",
    "\n",
    "### Values\n",
    "\n",
    "You should also notice that the targets, sample_y, are the *next* value in the ordered test_text data. So, for an input sequence `[ 28,  29,  30,  31,  32]` that ends with the value `32`, the corresponding output should be `33`."
   ]
  },
  {
   "cell_type": "code",
   "execution_count": 14,
   "metadata": {},
   "outputs": [
    {
     "name": "stdout",
     "output_type": "stream",
     "text": [
      "len(train_loader) = 6\n",
      "torch.Size([8, 5])\n",
      "tensor([[  9,  10,  11,  12,  13],\n",
      "        [ 30,  31,  32,  33,  34],\n",
      "        [ 35,  36,  37,  38,  39],\n",
      "        [  2,   3,   4,   5,   6],\n",
      "        [ 33,  34,  35,  36,  37],\n",
      "        [ 36,  37,  38,  39,  40],\n",
      "        [ 28,  29,  30,  31,  32],\n",
      "        [ 42,  43,  44,  45,  46]], dtype=torch.int32)\n",
      "\n",
      "torch.Size([8])\n",
      "tensor([ 14,  35,  40,   7,  38,  41,  33,  47], dtype=torch.int32)\n"
     ]
    }
   ],
   "source": [
    "# test dataloader\n",
    "\n",
    "test_text = range(50)\n",
    "t_loader = batch_data(test_text, sequence_length=5, batch_size=8)\n",
    "\n",
    "data_iter = iter(t_loader)\n",
    "sample_x, sample_y = data_iter.next()\n",
    "\n",
    "print(sample_x.shape)\n",
    "print(sample_x)\n",
    "print()\n",
    "print(sample_y.shape)\n",
    "print(sample_y) "
   ]
  },
  {
   "cell_type": "markdown",
   "metadata": {},
   "source": [
    "---\n",
    "## Build the Neural Network\n",
    "Implement an RNN using PyTorch's [Module class](http://pytorch.org/docs/master/nn.html#torch.nn.Module). You may choose to use a GRU or an LSTM. To complete the RNN, you'll have to implement the following functions for the class:\n",
    " - `__init__` - The initialize function. \n",
    " - `init_hidden` - The initialization function for an LSTM/GRU hidden state\n",
    " - `forward` - Forward propagation function.\n",
    " \n",
    "The initialize function should create the layers of the neural network and save them to the class. The forward propagation function will use these layers to run forward propagation and generate an output and a hidden state.\n",
    "\n",
    "**The output of this model should be the *last* batch of word scores** after a complete sequence has been processed. That is, for each input sequence of words, we only want to output the word scores for a single, most likely, next word.\n",
    "\n",
    "### Hints\n",
    "\n",
    "1. Make sure to stack the outputs of the lstm to pass to your fully-connected layer, you can do this with `lstm_output = lstm_output.contiguous().view(-1, self.hidden_dim)`\n",
    "2. You can get the last batch of word scores by shaping the output of the final, fully-connected layer like so:\n",
    "\n",
    "```\n",
    "# reshape into (batch_size, seq_length, output_size)\n",
    "output = output.view(batch_size, -1, self.output_size)\n",
    "# get last batch\n",
    "out = output[:, -1]\n",
    "```"
   ]
  },
  {
   "cell_type": "code",
   "execution_count": 15,
   "metadata": {
    "scrolled": false
   },
   "outputs": [
    {
     "name": "stdout",
     "output_type": "stream",
     "text": [
      "Tests Passed\n"
     ]
    }
   ],
   "source": [
    "import torch.nn as nn\n",
    "\n",
    "class RNN(nn.Module):\n",
    "    \n",
    "    def __init__(self, vocab_size, output_size, embedding_dim, hidden_dim, n_layers, dropout=0.5):\n",
    "        \"\"\"\n",
    "        Initialize the PyTorch RNN Module\n",
    "        :param vocab_size: The number of input dimensions of the neural network (the size of the vocabulary)\n",
    "        :param output_size: The number of output dimensions of the neural network\n",
    "        :param embedding_dim: The size of embeddings, should you choose to use them        \n",
    "        :param hidden_dim: The size of the hidden layer outputs\n",
    "        :param dropout: dropout to add in between LSTM/GRU layers\n",
    "        \"\"\"\n",
    "        super(RNN, self).__init__()\n",
    "        # TODO: Implement function\n",
    "\n",
    "        # set class variables\n",
    "        self.vocab_size      = vocab_size\n",
    "        self.output_size     = output_size\n",
    "        self.embedding_dim   = embedding_dim\n",
    "        self.hidden_dim      = hidden_dim\n",
    "        self.n_layers        = n_layers\n",
    "        self.dropout         = dropout\n",
    "        \n",
    "        # define model layers\n",
    "        self.embed = nn.Embedding(vocab_size,embedding_dim)\n",
    "        self.lstm  = nn.LSTM(embedding_dim, hidden_dim, n_layers, dropout=dropout, batch_first=True)\n",
    "        self.fc    = nn.Linear(hidden_dim, vocab_size) ## output_size가 아니라 vocab_size가 아닐런지?\n",
    "        self.drop_out = nn.Dropout(p=dropout)\n",
    "        self.sigmoid = nn.Sigmoid()\n",
    "        \n",
    "         \n",
    "    \n",
    "    def forward(self, nn_input, hidden):\n",
    "        \"\"\"\n",
    "        Forward propagation of the neural network\n",
    "        :param nn_input: The input to the neural network\n",
    "        :param hidden: The hidden state        \n",
    "        :return: Two Tensors, the output of the neural network and the latest hidden state\n",
    "        \"\"\"\n",
    "        # TODO: Implement function   \n",
    "        embed_word = self.embed(nn_input.long())\n",
    "        r_output, hidden = self.lstm(embed_word, hidden)\n",
    "        out = self.drop_out(r_output)\n",
    "        out = out[:,-1,:] # 어떻게 하면 output_size를 쓸 수 있는거지??\n",
    "        out = out.contiguous().view(-1,self.hidden_dim) #before going into FC. lstm out would be ([batch]x[seq len=1])x[hid dim]\n",
    "        \n",
    "        out = self.fc(out)\n",
    "        \n",
    "        # return one batch of output word scores and the hidden state\n",
    "        return out, hidden\n",
    "    \n",
    "    \n",
    "    def init_hidden(self, batch_size):\n",
    "        '''\n",
    "        Initialize the hidden state of an LSTM/GRU\n",
    "        :param batch_size: The batch_size of the hidden state\n",
    "        :return: hidden state of dims (n_layers, batch_size, hidden_dim)\n",
    "        '''\n",
    "        # Implement function\n",
    "        \n",
    "        # initialize hidden state with zero weights, and move to GPU if available\n",
    "        weight = next(self.parameters()).data\n",
    "        if train_on_gpu:\n",
    "            hidden = (weight.new(self.n_layers, batch_size, self.hidden_dim).zero_().cuda(),\n",
    "                      weight.new(self.n_layers, batch_size, self.hidden_dim).zero_().cuda())\n",
    "        else:\n",
    "            hidden = (weight.new(self.n_layers, batch_size, self.hidden_dim).zero_(),\n",
    "                      weight.new(self.n_layers, batch_size, self.hidden_dim).zero_())\n",
    "        \n",
    "        return hidden\n",
    "\n",
    "         \n",
    "    \n",
    "    \n",
    "\"\"\"\n",
    "DON'T MODIFY ANYTHING IN THIS CELL THAT IS BELOW THIS LINE\n",
    "\"\"\"\n",
    "tests.test_rnn(RNN, train_on_gpu)"
   ]
  },
  {
   "cell_type": "markdown",
   "metadata": {},
   "source": [
    "#### testing LSTM (for my own understanding)"
   ]
  },
  {
   "cell_type": "code",
   "execution_count": 16,
   "metadata": {
    "scrolled": true
   },
   "outputs": [],
   "source": [
    "batch = 2\n",
    "seq_len = 10\n",
    "layer = 2\n",
    "hidden = 6\n",
    "input_len = 5\n",
    "\n",
    "input_all = torch.randn(batch, seq_len, input_len) #  batch / seq length / input size \n"
   ]
  },
  {
   "cell_type": "code",
   "execution_count": 17,
   "metadata": {},
   "outputs": [
    {
     "name": "stdout",
     "output_type": "stream",
     "text": [
      "torch.Size([1, 1, 6])\n",
      "tensor([[[ 0.0472, -0.0148, -0.1355, -0.0290,  0.0142, -0.0207]]])\n"
     ]
    }
   ],
   "source": [
    "batch = 1\n",
    "rnn = nn.LSTM(input_len, hidden, layer, batch_first=True)\n",
    "\n",
    "input = input_all[:batch,:1,:]\n",
    "\n",
    "h0 = torch.zeros(layer, batch, hidden) # layer size / batch / hidden size\n",
    "c0 = torch.zeros(layer, batch, hidden)\n",
    "output, hn = rnn(input, (h0, c0))\n",
    "print(output.size())\n",
    "print(output)"
   ]
  },
  {
   "cell_type": "code",
   "execution_count": 18,
   "metadata": {
    "scrolled": true
   },
   "outputs": [
    {
     "name": "stdout",
     "output_type": "stream",
     "text": [
      "torch.Size([2, 3, 6])\n",
      "tensor([[[ 0.0472, -0.0148, -0.1355, -0.0290,  0.0142, -0.0207],\n",
      "         [ 0.1089,  0.0215, -0.2309, -0.0764,  0.0479, -0.0769],\n",
      "         [ 0.1047, -0.0028, -0.2674, -0.0792,  0.0525, -0.1049]],\n",
      "\n",
      "        [[ 0.0376, -0.0160, -0.1527, -0.0344,  0.0298, -0.0599],\n",
      "         [ 0.0872, -0.0023, -0.2342, -0.0656,  0.0479, -0.0833],\n",
      "         [ 0.1333,  0.0218, -0.2831, -0.0925,  0.0668, -0.1153]]])\n"
     ]
    }
   ],
   "source": [
    "batch = 2\n",
    "input = input_all[:batch,:3,:]\n",
    "\n",
    "h0 = torch.zeros(layer, batch, hidden) # layer size / batch / hidden size\n",
    "c0 = torch.zeros(layer, batch, hidden)\n",
    "output, hn = rnn(input, (h0, c0))\n",
    "print(output.size())\n",
    "print(output)"
   ]
  },
  {
   "cell_type": "code",
   "execution_count": 19,
   "metadata": {},
   "outputs": [
    {
     "name": "stdout",
     "output_type": "stream",
     "text": [
      "tensor([[ 0.1047, -0.0028, -0.2674, -0.0792,  0.0525, -0.1049],\n",
      "        [ 0.1333,  0.0218, -0.2831, -0.0925,  0.0668, -0.1153]])\n",
      "\n",
      "tensor([[ 0.1047, -0.0028, -0.2674, -0.0792,  0.0525, -0.1049],\n",
      "        [ 0.1333,  0.0218, -0.2831, -0.0925,  0.0668, -0.1153]])\n",
      "\n",
      "tensor([[ 0.1047, -0.0028, -0.2674, -0.0792,  0.0525, -0.1049],\n",
      "        [ 0.1333,  0.0218, -0.2831, -0.0925,  0.0668, -0.1153]])\n"
     ]
    }
   ],
   "source": [
    "out = output[:,-1,:]\n",
    "print(out)\n",
    "print()\n",
    "print(out.view(-1,hidden))\n",
    "print()\n",
    "print(out.contiguous().view(-1,hidden))"
   ]
  },
  {
   "cell_type": "code",
   "execution_count": 20,
   "metadata": {},
   "outputs": [
    {
     "name": "stdout",
     "output_type": "stream",
     "text": [
      "torch.Size([1, 3, 5])\n",
      "torch.Size([1, 3, 6])\n",
      "tensor([[[ 0.0376, -0.0160, -0.1527, -0.0344,  0.0298, -0.0599],\n",
      "         [ 0.0872, -0.0023, -0.2342, -0.0656,  0.0479, -0.0833],\n",
      "         [ 0.1333,  0.0218, -0.2831, -0.0925,  0.0668, -0.1153]]])\n"
     ]
    }
   ],
   "source": [
    "#rnn = nn.LSTM(input_len, hidden, layer, batch_first=True)\n",
    "batch = 1\n",
    "input = input_all[batch,:3,:].view(-1,3,5)\n",
    "print(input.shape)\n",
    "\n",
    "h0 = torch.zeros(layer, batch, hidden) # layer size / batch / hidden size\n",
    "c0 = torch.zeros(layer, batch, hidden)\n",
    "output, hn = rnn(input, (h0, c0))\n",
    "print(output.size())\n",
    "print(output)\n"
   ]
  },
  {
   "cell_type": "code",
   "execution_count": null,
   "metadata": {},
   "outputs": [],
   "source": []
  },
  {
   "cell_type": "code",
   "execution_count": 21,
   "metadata": {},
   "outputs": [
    {
     "name": "stdout",
     "output_type": "stream",
     "text": [
      "[ 1  2  3  4  5  6  7  8  9 10 11 12 13 14 15 16 17 18 19 20 21 22 23 24]\n",
      "\n",
      "[[[ 1  2]\n",
      "  [ 3  4]\n",
      "  [ 5  6]\n",
      "  [ 7  8]]\n",
      "\n",
      " [[ 9 10]\n",
      "  [11 12]\n",
      "  [13 14]\n",
      "  [15 16]]\n",
      "\n",
      " [[17 18]\n",
      "  [19 20]\n",
      "  [21 22]\n",
      "  [23 24]]]\n",
      "\n",
      "(3, 4, 2)\n",
      "[[ 7  8]\n",
      " [15 16]\n",
      " [23 24]]\n",
      "(3, 2)\n"
     ]
    }
   ],
   "source": [
    "a = np.arange(1,25,1)\n",
    "print(a), print()\n",
    "print(a.reshape(3,4,2)) #(batch, seq, hidden dim)\n",
    "print() \n",
    "b = a.reshape(3,4,2)\n",
    "print(b.shape)\n",
    "print(b[:,-1,:])\n",
    "print(b[:,-1,:].shape)\n",
    "#print(b.reshape(-1,2))\n",
    "#print(b.reshape(2,-1))"
   ]
  },
  {
   "cell_type": "code",
   "execution_count": 22,
   "metadata": {},
   "outputs": [
    {
     "name": "stdout",
     "output_type": "stream",
     "text": [
      "3\n"
     ]
    }
   ],
   "source": [
    "print(b.shape[0])"
   ]
  },
  {
   "cell_type": "markdown",
   "metadata": {},
   "source": [
    "### Define forward and backpropagation\n",
    "\n",
    "Use the RNN class you implemented to apply forward and back propagation. This function will be called, iteratively, in the training loop as follows:\n",
    "```\n",
    "loss = forward_back_prop(decoder, decoder_optimizer, criterion, inp, target)\n",
    "```\n",
    "\n",
    "And it should return the average loss over a batch and the hidden state returned by a call to `RNN(inp, hidden)`. Recall that you can get this loss by computing it, as usual, and calling `loss.item()`.\n",
    "\n",
    "**If a GPU is available, you should move your data to that GPU device, here.**"
   ]
  },
  {
   "cell_type": "code",
   "execution_count": 23,
   "metadata": {
    "scrolled": true
   },
   "outputs": [
    {
     "name": "stdout",
     "output_type": "stream",
     "text": [
      "tensor([[-1.1043,  0.8488, -1.1012,  0.4814, -0.8007,  0.3867],\n",
      "        [ 0.8799,  1.5459,  0.2281,  1.9288, -0.4703, -1.1351],\n",
      "        [-1.1881,  0.3061, -1.5316, -0.3409,  2.4679,  0.1062]])\n",
      "tensor([[ 0.8488],\n",
      "        [ 1.9288],\n",
      "        [ 2.4679]])\n",
      "tensor([[ 1],\n",
      "        [ 3],\n",
      "        [ 4]])\n"
     ]
    }
   ],
   "source": [
    "a = torch.randn(3,6)\n",
    "print(a)\n",
    "top_val, top_idx = torch.topk(a,k=1, dim=1)\n",
    "print(top_val)\n",
    "print(top_idx)"
   ]
  },
  {
   "cell_type": "code",
   "execution_count": 24,
   "metadata": {},
   "outputs": [],
   "source": [
    "\n",
    "top_val, top_idx = torch.topk(a,k=1, dim=1)"
   ]
  },
  {
   "cell_type": "code",
   "execution_count": null,
   "metadata": {},
   "outputs": [],
   "source": []
  },
  {
   "cell_type": "code",
   "execution_count": 25,
   "metadata": {
    "scrolled": true
   },
   "outputs": [
    {
     "name": "stdout",
     "output_type": "stream",
     "text": [
      "Tests Passed\n"
     ]
    }
   ],
   "source": [
    "def forward_back_prop(rnn, optimizer, criterion, inp, target, hidden):\n",
    "    \"\"\"\n",
    "    Forward and backward propagation on the neural network\n",
    "    :param decoder: The PyTorch Module that holds the neural network\n",
    "    :param decoder_optimizer: The PyTorch optimizer for the neural network\n",
    "    :param criterion: The PyTorch loss function\n",
    "    :param inp: A batch of input to the neural network\n",
    "    :param target: The target output for the batch of input\n",
    "    :return: The loss and the latest hidden state Tensor\n",
    "    \"\"\"\n",
    "    \n",
    "    # TODO: Implement Function\n",
    "    if train_on_gpu:\n",
    "        inp, target = inp.cuda(), target.cuda() ## 복붙\n",
    "        \n",
    "    hidden = tuple([each.data for each in hidden]) ## 복붙\n",
    "     \n",
    "    \n",
    "    # move data to GPU, if available\n",
    "    # perform backpropagation and optimization\n",
    "\n",
    "    rnn.zero_grad()## 수정함\n",
    "    output, hidden = rnn(inp, hidden) \n",
    "    loss = criterion(output, target.long())\n",
    "    loss.backward() \n",
    "    optimizer.step()\n",
    "    # return the loss over a batch and the hidden state produced by our model\n",
    "    return loss.item(), hidden\n",
    "\n",
    "# Note that these tests aren't completely extensive.\n",
    "# they are here to act as general checks on the expected outputs of your functions\n",
    "\"\"\"\n",
    "DON'T MODIFY ANYTHING IN THIS CELL THAT IS BELOW THIS LINE\n",
    "\"\"\"\n",
    "tests.test_forward_back_prop(RNN, forward_back_prop, train_on_gpu)"
   ]
  },
  {
   "cell_type": "markdown",
   "metadata": {},
   "source": [
    "### try unsqueeze(0)\n",
    "### check all the dimensions of output and target and etc"
   ]
  },
  {
   "cell_type": "markdown",
   "metadata": {},
   "source": [
    "## Neural Network Training\n",
    "\n",
    "With the structure of the network complete and data ready to be fed in the neural network, it's time to train it.\n",
    "\n",
    "### Train Loop\n",
    "\n",
    "The training loop is implemented for you in the `train_decoder` function. This function will train the network over all the batches for the number of epochs given. The model progress will be shown every number of batches. This number is set with the `show_every_n_batches` parameter. You'll set this parameter along with other parameters in the next section."
   ]
  },
  {
   "cell_type": "code",
   "execution_count": 26,
   "metadata": {},
   "outputs": [],
   "source": [
    "\"\"\"\n",
    "DON'T MODIFY ANYTHING IN THIS CELL\n",
    "\"\"\"\n",
    "\n",
    "def train_rnn(rnn, batch_size, optimizer, criterion, n_epochs, show_every_n_batches=100):\n",
    "    batch_losses = []\n",
    "    \n",
    "    rnn.train()\n",
    "\n",
    "    print(\"Training for %d epoch(s)...\" % n_epochs)\n",
    "    for epoch_i in range(1, n_epochs + 1):\n",
    "        \n",
    "        # initialize hidden state\n",
    "        hidden = rnn.init_hidden(batch_size)\n",
    "        \n",
    "        for batch_i, (inputs, labels) in enumerate(train_loader, 1):\n",
    "            \n",
    "            # make sure you iterate over completely full batches, only\n",
    "            n_batches = len(train_loader.dataset)//batch_size\n",
    "            if(batch_i > n_batches):\n",
    "                break\n",
    "            \n",
    "            # forward, back prop\n",
    "            loss, hidden = forward_back_prop(rnn, optimizer, criterion, inputs, labels, hidden)          \n",
    "            # record loss\n",
    "            batch_losses.append(loss)\n",
    "\n",
    "            # printing loss stats\n",
    "            if batch_i % show_every_n_batches == 0:\n",
    "                print('Epoch: {:>4}/{:<4}  Loss: {}\\n'.format(\n",
    "                    epoch_i, n_epochs, np.average(batch_losses)))\n",
    "                batch_losses = []\n",
    "\n",
    "    # returns a trained rnn\n",
    "    return rnn"
   ]
  },
  {
   "cell_type": "markdown",
   "metadata": {},
   "source": [
    "### Hyperparameters\n",
    "\n",
    "Set and train the neural network with the following parameters:\n",
    "- Set `sequence_length` to the length of a sequence.\n",
    "- Set `batch_size` to the batch size.\n",
    "- Set `num_epochs` to the number of epochs to train for.\n",
    "- Set `learning_rate` to the learning rate for an Adam optimizer.\n",
    "- Set `vocab_size` to the number of uniqe tokens in our vocabulary.\n",
    "- Set `output_size` to the desired size of the output.\n",
    "- Set `embedding_dim` to the embedding dimension; smaller than the vocab_size.\n",
    "- Set `hidden_dim` to the hidden dimension of your RNN.\n",
    "- Set `n_layers` to the number of layers/cells in your RNN.\n",
    "- Set `show_every_n_batches` to the number of batches at which the neural network should print progress.\n",
    "\n",
    "If the network isn't getting the desired results, tweak these parameters and/or the layers in the `RNN` class."
   ]
  },
  {
   "cell_type": "code",
   "execution_count": 27,
   "metadata": {
    "scrolled": true
   },
   "outputs": [
    {
     "name": "stdout",
     "output_type": "stream",
     "text": [
      "len(train_loader) = 6970\n",
      "892110\n"
     ]
    }
   ],
   "source": [
    "# Data params\n",
    "# Sequence Length\n",
    "sequence_length = 15 # of words in a sequence\n",
    "# Batch Size\n",
    "batch_size = 128\n",
    "\n",
    "# data loader - do not change\n",
    "train_loader = batch_data(int_text, sequence_length, batch_size)\n",
    "print(len(int_text))"
   ]
  },
  {
   "cell_type": "code",
   "execution_count": 28,
   "metadata": {},
   "outputs": [
    {
     "name": "stdout",
     "output_type": "stream",
     "text": [
      "21388\n"
     ]
    }
   ],
   "source": [
    "print(len(vocab_to_int))"
   ]
  },
  {
   "cell_type": "code",
   "execution_count": 29,
   "metadata": {},
   "outputs": [],
   "source": [
    "# Training parameters\n",
    "# Number of Epochs\n",
    "num_epochs = 30\n",
    "# Learning Rate\n",
    "learning_rate = 0.001\n",
    "\n",
    "# Model parameters\n",
    "# Vocab size\n",
    "vocab_size = len(vocab_to_int)\n",
    "# Output size\n",
    "output_size = len(vocab_to_int)+0 # since I used starting from zero. I don't add +1\n",
    "# Embedding Dimension\n",
    "embedding_dim = 32 # because vocab size is only 21388 (small)\n",
    "# Hidden Dimension\n",
    "hidden_dim = 512 # 512 to capture complexity \n",
    "# Number of RNN Layers\n",
    "n_layers = 2 # for basic complexity\n",
    "\n",
    "# Show stats for every n number of batches\n",
    "show_every_n_batches = 2000"
   ]
  },
  {
   "cell_type": "markdown",
   "metadata": {},
   "source": [
    "### Train\n",
    "In the next cell, you'll train the neural network on the pre-processed data.  If you have a hard time getting a good loss, you may consider changing your hyperparameters. In general, you may get better results with larger hidden and n_layer dimensions, but larger models take a longer time to train. \n",
    "> **You should aim for a loss less than 3.5.** \n",
    "\n",
    "You should also experiment with different sequence lengths, which determine the size of the long range dependencies that a model can learn."
   ]
  },
  {
   "cell_type": "code",
   "execution_count": 30,
   "metadata": {},
   "outputs": [],
   "source": [
    "import time \n",
    "\n",
    "from utils import active_session"
   ]
  },
  {
   "cell_type": "code",
   "execution_count": 31,
   "metadata": {},
   "outputs": [
    {
     "name": "stdout",
     "output_type": "stream",
     "text": [
      "Training for 30 epoch(s)...\n",
      "Epoch:    1/30    Loss: 5.1527889180183415\n",
      "\n",
      "Epoch:    1/30    Loss: 4.673709942579269\n",
      "\n",
      "Epoch:    1/30    Loss: 4.490023180127144\n",
      "\n",
      "Epoch:    2/30    Loss: 4.347083592101676\n",
      "\n",
      "Epoch:    2/30    Loss: 4.258337285041809\n",
      "\n",
      "Epoch:    2/30    Loss: 4.2046842648983\n",
      "\n",
      "Epoch:    3/30    Loss: 4.128791713762781\n",
      "\n",
      "Epoch:    3/30    Loss: 4.085967494964599\n",
      "\n",
      "Epoch:    3/30    Loss: 4.065880186796188\n",
      "\n",
      "Epoch:    4/30    Loss: 4.019406336973556\n",
      "\n",
      "Epoch:    4/30    Loss: 3.9885030537843704\n",
      "\n",
      "Epoch:    4/30    Loss: 3.977553366780281\n",
      "\n",
      "Epoch:    5/30    Loss: 3.9401121212601784\n",
      "\n",
      "Epoch:    5/30    Loss: 3.92414988219738\n",
      "\n",
      "Epoch:    5/30    Loss: 3.9228277777433394\n",
      "\n",
      "Epoch:    6/30    Loss: 3.870088492792116\n",
      "\n",
      "Epoch:    6/30    Loss: 3.869240129470825\n",
      "\n",
      "Epoch:    6/30    Loss: 3.8789056355953218\n",
      "\n",
      "Epoch:    7/30    Loss: 3.8348847609571672\n",
      "\n",
      "Epoch:    7/30    Loss: 3.8177287784814835\n",
      "\n",
      "Epoch:    7/30    Loss: 3.826958104252815\n",
      "\n",
      "Epoch:    8/30    Loss: 3.7904071004031765\n",
      "\n",
      "Epoch:    8/30    Loss: 3.785047004342079\n",
      "\n",
      "Epoch:    8/30    Loss: 3.804498129248619\n",
      "\n",
      "Epoch:    9/30    Loss: 3.7576623741084374\n",
      "\n",
      "Epoch:    9/30    Loss: 3.757397877573967\n",
      "\n",
      "Epoch:    9/30    Loss: 3.7650100486278535\n",
      "\n",
      "Epoch:   10/30    Loss: 3.7242573036734767\n",
      "\n",
      "Epoch:   10/30    Loss: 3.72542768239975\n",
      "\n",
      "Epoch:   10/30    Loss: 3.7388130828142168\n",
      "\n",
      "Epoch:   11/30    Loss: 3.700657829767769\n",
      "\n",
      "Epoch:   11/30    Loss: 3.696254140377045\n",
      "\n",
      "Epoch:   11/30    Loss: 3.706037150979042\n",
      "\n",
      "Epoch:   12/30    Loss: 3.6753959632473947\n",
      "\n",
      "Epoch:   12/30    Loss: 3.6641898094415666\n",
      "\n",
      "Epoch:   12/30    Loss: 3.690116703748703\n",
      "\n",
      "Epoch:   13/30    Loss: 3.635538243894105\n",
      "\n",
      "Epoch:   13/30    Loss: 3.6505795199871063\n",
      "\n",
      "Epoch:   13/30    Loss: 3.6663902221918105\n",
      "\n",
      "Epoch:   14/30    Loss: 3.6286855276364114\n",
      "\n",
      "Epoch:   14/30    Loss: 3.622462707400322\n",
      "\n",
      "Epoch:   14/30    Loss: 3.6372232033014296\n",
      "\n",
      "Epoch:   15/30    Loss: 3.599965976761342\n",
      "\n",
      "Epoch:   15/30    Loss: 3.602706073999405\n",
      "\n",
      "Epoch:   15/30    Loss: 3.6244155255556105\n",
      "\n",
      "Epoch:   16/30    Loss: 3.578510471368406\n",
      "\n",
      "Epoch:   16/30    Loss: 3.5853063559532163\n",
      "\n",
      "Epoch:   16/30    Loss: 3.59900146651268\n",
      "\n",
      "Epoch:   17/30    Loss: 3.562719409415199\n",
      "\n",
      "Epoch:   17/30    Loss: 3.5681825199127197\n",
      "\n",
      "Epoch:   17/30    Loss: 3.585925475001335\n",
      "\n",
      "Epoch:   18/30    Loss: 3.541007852907653\n",
      "\n",
      "Epoch:   18/30    Loss: 3.5491036794185638\n",
      "\n",
      "Epoch:   18/30    Loss: 3.5670956691503526\n",
      "\n",
      "Epoch:   19/30    Loss: 3.527754667191523\n",
      "\n",
      "Epoch:   19/30    Loss: 3.522134034395218\n",
      "\n",
      "Epoch:   19/30    Loss: 3.557817879319191\n",
      "\n",
      "Epoch:   20/30    Loss: 3.5069023513280007\n",
      "\n",
      "Epoch:   20/30    Loss: 3.5115899810791014\n",
      "\n",
      "Epoch:   20/30    Loss: 3.545217831015587\n",
      "\n",
      "Epoch:   21/30    Loss: 3.4920203881698972\n",
      "\n",
      "Epoch:   21/30    Loss: 3.509239534497261\n",
      "\n",
      "Epoch:   21/30    Loss: 3.5217347016334535\n",
      "\n",
      "Epoch:   22/30    Loss: 3.480831223812598\n",
      "\n",
      "Epoch:   22/30    Loss: 3.487762328863144\n",
      "\n",
      "Epoch:   22/30    Loss: 3.5152208901643753\n",
      "\n",
      "Epoch:   23/30    Loss: 3.471785358966662\n",
      "\n",
      "Epoch:   23/30    Loss: 3.469945147395134\n",
      "\n",
      "Epoch:   23/30    Loss: 3.5021334190368654\n",
      "\n",
      "Epoch:   24/30    Loss: 3.4577531935029175\n",
      "\n",
      "Epoch:   24/30    Loss: 3.4626577330827715\n",
      "\n",
      "Epoch:   24/30    Loss: 3.4952456797361373\n",
      "\n",
      "Epoch:   25/30    Loss: 3.4403659050293585\n",
      "\n",
      "Epoch:   25/30    Loss: 3.4520387427806853\n",
      "\n",
      "Epoch:   25/30    Loss: 3.4743779357671736\n",
      "\n",
      "Epoch:   26/30    Loss: 3.4419351012749315\n",
      "\n",
      "Epoch:   26/30    Loss: 3.4380402526855467\n",
      "\n",
      "Epoch:   26/30    Loss: 3.4647803151607515\n",
      "\n",
      "Epoch:   27/30    Loss: 3.428198922640067\n",
      "\n",
      "Epoch:   27/30    Loss: 3.422811633348465\n",
      "\n",
      "Epoch:   27/30    Loss: 3.455870684027672\n",
      "\n",
      "Epoch:   28/30    Loss: 3.4245653516236843\n",
      "\n",
      "Epoch:   28/30    Loss: 3.416061142683029\n",
      "\n",
      "Epoch:   28/30    Loss: 3.441914764285088\n",
      "\n",
      "Epoch:   29/30    Loss: 3.397869985004835\n",
      "\n",
      "Epoch:   29/30    Loss: 3.4158879796266555\n",
      "\n",
      "Epoch:   29/30    Loss: 3.4341337769031526\n",
      "\n",
      "Epoch:   30/30    Loss: 3.393160760181847\n",
      "\n",
      "Epoch:   30/30    Loss: 3.4044059411287306\n",
      "\n",
      "Epoch:   30/30    Loss: 3.433740792274475\n",
      "\n",
      "elasped time is = 9728.87750697136 with 324.2959168990453 per epoch\n"
     ]
    },
    {
     "name": "stderr",
     "output_type": "stream",
     "text": [
      "/opt/conda/lib/python3.6/site-packages/torch/serialization.py:193: UserWarning: Couldn't retrieve source code for container of type RNN. It won't be checked for correctness upon loading.\n",
      "  \"type \" + obj.__name__ + \". It won't be checked \"\n"
     ]
    },
    {
     "name": "stdout",
     "output_type": "stream",
     "text": [
      "Model Trained and Saved\n"
     ]
    }
   ],
   "source": [
    "\"\"\"\n",
    "DON'T MODIFY ANYTHING IN THIS CELL\n",
    "\"\"\"\n",
    "\n",
    "# create model and move to gpu if available\n",
    "rnn = RNN(vocab_size, output_size, embedding_dim, hidden_dim, n_layers, dropout=0.5)\n",
    "if train_on_gpu:\n",
    "    rnn.cuda()\n",
    "\n",
    "# defining loss and optimization functions for training\n",
    "optimizer = torch.optim.Adam(rnn.parameters(), lr=learning_rate)\n",
    "criterion = nn.CrossEntropyLoss()\n",
    "\n",
    "# training the model\n",
    "\n",
    "with active_session():\n",
    "    start_time = time.time()\n",
    "    trained_rnn = train_rnn(rnn, batch_size, optimizer, criterion, num_epochs, show_every_n_batches)\n",
    "    elapsed = time.time() - start_time\n",
    "    print(\"elasped time is = {} with {} per epoch\".format(elapsed,elapsed/num_epochs))\n",
    "# saving the trained model\n",
    "helper.save_model('./save/trained_rnn', trained_rnn)\n",
    "print('Model Trained and Saved')"
   ]
  },
  {
   "cell_type": "code",
   "execution_count": 32,
   "metadata": {},
   "outputs": [
    {
     "name": "stdout",
     "output_type": "stream",
     "text": [
      "elasped time is = 9728.87750697136 with 324.2959168990453 per epoch\n"
     ]
    }
   ],
   "source": [
    " \n",
    "print(\"elasped time is = {} with {} per epoch\".format(elapsed,elapsed/num_epochs))\n",
    " "
   ]
  },
  {
   "cell_type": "code",
   "execution_count": null,
   "metadata": {},
   "outputs": [],
   "source": []
  },
  {
   "cell_type": "code",
   "execution_count": 38,
   "metadata": {
    "scrolled": true
   },
   "outputs": [
    {
     "data": {
      "text/plain": [
       "\"\\nDON'T MODIFY ANYTHING IN THIS CELL\\n\\nimport torch\\nimport helper\\nimport problem_unittests as tests\\n\\noptimizer = torch.optim.Adam(rnn.parameters(), lr=learning_rate)\\ncriterion = nn.CrossEntropyLoss()\\n\\n\\n_, vocab_to_int, int_to_vocab, token_dict = helper.load_preprocess()\\ntrained_rnn = helper.load_model('./save/trained_rnn')\\n\\n\\n# training the model\\ntrained_rnn = train_rnn(trained_rnn, batch_size, optimizer, criterion, 3, show_every_n_batches)\\n\\n# saving the trained model\\nhelper.save_model('./save/trained_rnn', trained_rnn)\\nprint('Model Trained and Saved')\\n\""
      ]
     },
     "execution_count": 38,
     "metadata": {},
     "output_type": "execute_result"
    }
   ],
   "source": [
    "\"\"\"\n",
    "DON'T MODIFY ANYTHING IN THIS CELL\n",
    "\n",
    "import torch\n",
    "import helper\n",
    "import problem_unittests as tests\n",
    "\n",
    "optimizer = torch.optim.Adam(rnn.parameters(), lr=learning_rate)\n",
    "criterion = nn.CrossEntropyLoss()\n",
    "\n",
    "\n",
    "_, vocab_to_int, int_to_vocab, token_dict = helper.load_preprocess()\n",
    "trained_rnn = helper.load_model('./save/trained_rnn')\n",
    "\n",
    "\n",
    "# training the model\n",
    "trained_rnn = train_rnn(trained_rnn, batch_size, optimizer, criterion, 3, show_every_n_batches)\n",
    "\n",
    "# saving the trained model\n",
    "helper.save_model('./save/trained_rnn', trained_rnn)\n",
    "print('Model Trained and Saved')\n",
    "\"\"\""
   ]
  },
  {
   "cell_type": "markdown",
   "metadata": {},
   "source": [
    "### Question: How did you decide on your model hyperparameters? \n",
    "For example, did you try different sequence_lengths and find that one size made the model converge faster? What about your hidden_dim and n_layers; how did you decide on those?\n",
    "\n"
   ]
  },
  {
   "cell_type": "markdown",
   "metadata": {},
   "source": [
    "**Answer:** At first, I started with a sequence length about 200 or so. After getting some hints from the knowledge page, I realized, the sequence length doesn't have to be that long. I reduced the sequence length to 6. \n",
    "\n",
    "Hidden dimension was selected from 128, 256, or 512. I fixed the layer with 2. Learning rate was chosen from the range 0.001 ~ 0.01\n",
    "\n",
    "After changing one variable and training it for about 2~3 epochs, it became evident if this set of parameters have any potential. After finding a promising set, I performed 30 epochs and reached 3.433."
   ]
  },
  {
   "cell_type": "code",
   "execution_count": null,
   "metadata": {},
   "outputs": [],
   "source": []
  },
  {
   "cell_type": "markdown",
   "metadata": {},
   "source": [
    "---\n",
    "# Checkpoint\n",
    "\n",
    "After running the above training cell, your model will be saved by name, `trained_rnn`, and if you save your notebook progress, **you can pause here and come back to this code at another time**. You can resume your progress by running the next cell, which will load in our word:id dictionaries _and_ load in your saved model by name!"
   ]
  },
  {
   "cell_type": "code",
   "execution_count": 34,
   "metadata": {},
   "outputs": [],
   "source": [
    "\"\"\"\n",
    "DON'T MODIFY ANYTHING IN THIS CELL\n",
    "\"\"\"\n",
    "import torch\n",
    "import helper\n",
    "import problem_unittests as tests\n",
    "\n",
    "_, vocab_to_int, int_to_vocab, token_dict = helper.load_preprocess()\n",
    "trained_rnn = helper.load_model('./save/trained_rnn')"
   ]
  },
  {
   "cell_type": "markdown",
   "metadata": {},
   "source": [
    "## Generate TV Script\n",
    "With the network trained and saved, you'll use it to generate a new, \"fake\" Seinfeld TV script in this section.\n",
    "\n",
    "### Generate Text\n",
    "To generate the text, the network needs to start with a single word and repeat its predictions until it reaches a set length. You'll be using the `generate` function to do this. It takes a word id to start with, `prime_id`, and generates a set length of text, `predict_len`. Also note that it uses topk sampling to introduce some randomness in choosing the most likely next word, given an output set of word scores!"
   ]
  },
  {
   "cell_type": "code",
   "execution_count": 35,
   "metadata": {},
   "outputs": [],
   "source": [
    "\"\"\"\n",
    "DON'T MODIFY ANYTHING IN THIS CELL THAT IS BELOW THIS LINE\n",
    "\"\"\"\n",
    "import torch.nn.functional as F\n",
    "\n",
    "def generate(rnn, prime_id, int_to_vocab, token_dict, pad_value, predict_len=100):\n",
    "    \"\"\"\n",
    "    Generate text using the neural network\n",
    "    :param decoder: The PyTorch Module that holds the trained neural network\n",
    "    :param prime_id: The word id to start the first prediction\n",
    "    :param int_to_vocab: Dict of word id keys to word values\n",
    "    :param token_dict: Dict of puncuation tokens keys to puncuation values\n",
    "    :param pad_value: The value used to pad a sequence\n",
    "    :param predict_len: The length of text to generate\n",
    "    :return: The generated text\n",
    "    \"\"\"\n",
    "    rnn.eval()\n",
    "    \n",
    "    # create a sequence (batch_size=1) with the prime_id\n",
    "    current_seq = np.full((1, sequence_length), pad_value)\n",
    "    current_seq[-1][-1] = prime_id\n",
    "    predicted = [int_to_vocab[prime_id]]\n",
    "    \n",
    "    for _ in range(predict_len):\n",
    "        if train_on_gpu:\n",
    "            current_seq = torch.LongTensor(current_seq).cuda()\n",
    "        else:\n",
    "            current_seq = torch.LongTensor(current_seq)\n",
    "        \n",
    "        # initialize the hidden state\n",
    "        hidden = rnn.init_hidden(current_seq.size(0))\n",
    "        \n",
    "        # get the output of the rnn\n",
    "        output, _ = rnn(current_seq, hidden)\n",
    "        \n",
    "        # get the next word probabilities\n",
    "        p = F.softmax(output, dim=1).data\n",
    "        if(train_on_gpu):\n",
    "            p = p.cpu() # move to cpu\n",
    "         \n",
    "        # use top_k sampling to get the index of the next word\n",
    "        top_k = 5\n",
    "        p, top_i = p.topk(top_k)\n",
    "        top_i = top_i.numpy().squeeze()\n",
    "        \n",
    "        # select the likely next word index with some element of randomness\n",
    "        p = p.numpy().squeeze()\n",
    "        word_i = np.random.choice(top_i, p=p/p.sum())\n",
    "        \n",
    "        # retrieve that word from the dictionary\n",
    "        word = int_to_vocab[word_i]\n",
    "        predicted.append(word)     \n",
    "        \n",
    "        # the generated word becomes the next \"current sequence\" and the cycle can continue\n",
    "        current_seq = np.roll(current_seq, -1, 1)\n",
    "        current_seq[-1][-1] = word_i\n",
    "    \n",
    "    gen_sentences = ' '.join(predicted)\n",
    "    \n",
    "    # Replace punctuation tokens\n",
    "    for key, token in token_dict.items():\n",
    "        ending = ' ' if key in ['\\n', '(', '\"'] else ''\n",
    "        gen_sentences = gen_sentences.replace(' ' + token.lower(), key)\n",
    "    gen_sentences = gen_sentences.replace('\\n ', '\\n')\n",
    "    gen_sentences = gen_sentences.replace('( ', '(')\n",
    "    \n",
    "    # return all the sentences\n",
    "    return gen_sentences"
   ]
  },
  {
   "cell_type": "markdown",
   "metadata": {},
   "source": [
    "### Generate a New Script\n",
    "It's time to generate the text. Set `gen_length` to the length of TV script you want to generate and set `prime_word` to one of the following to start the prediction:\n",
    "- \"jerry\"\n",
    "- \"elaine\"\n",
    "- \"george\"\n",
    "- \"kramer\"\n",
    "\n",
    "You can set the prime word to _any word_ in our dictionary, but it's best to start with a name for generating a TV script. (You can also start with any other names you find in the original text file!)"
   ]
  },
  {
   "cell_type": "code",
   "execution_count": 36,
   "metadata": {},
   "outputs": [
    {
     "name": "stderr",
     "output_type": "stream",
     "text": [
      "/opt/conda/lib/python3.6/site-packages/ipykernel_launcher.py:43: UserWarning: RNN module weights are not part of single contiguous chunk of memory. This means they need to be compacted at every call, possibly greatly increasing memory usage. To compact weights again call flatten_parameters().\n"
     ]
    },
    {
     "name": "stdout",
     "output_type": "stream",
     "text": [
      "jerry:.\n",
      "\n",
      "jerry:(to george) hey, i think we need some coffee in this.\n",
      "\n",
      "jerry: what?\n",
      "\n",
      "elaine: i don't have a job.\n",
      "\n",
      "jerry: well, i don't know how you could.\n",
      "\n",
      "kramer: well, i got to get it.\n",
      "\n",
      "elaine:(to george) i told you, jerry, i have a little problem with the yankees.\n",
      "\n",
      "jerry: oh, i don't think so.\n",
      "\n",
      "elaine: i know, i know. i don't even know what to do. i'm not a little too worried. i'm sorry, i can't. i'm sorry.\n",
      "\n",
      "elaine: what about the drake? what is the matter?\n",
      "\n",
      "jerry: what?\n",
      "\n",
      "newman:(jerry enters.)\n",
      "\n",
      "kramer: hey.\n",
      "\n",
      "george:(to jerry) you see?..(turns around, he sees the woman on his face) i don't know.\n",
      "\n",
      "jerry: i don't have any money, but i don't want to talk.\n",
      "\n",
      "elaine: well i can't believe you got a little problem.\n",
      "\n",
      "jerry: oh, i know... what do you want to do?\n",
      "\n",
      "kramer:(pointing at her) i can't believe it!\n",
      "\n",
      "george:(to jerry) what is that?\n",
      "\n",
      "jerry: oh, nothing.\n",
      "\n",
      "kramer: well, i think we got a great time.(jerry is looking at the phone) oh, you gotta get the hell out of here. i don't have a ticket, but i gotta do something with you.\n",
      "\n",
      "kramer: oh, you don't want to do that.\n",
      "\n",
      "kramer: no, it's not that.\n",
      "\n",
      "jerry: oh, i can't wait to be in the middle of a little time.\n",
      "\n",
      "elaine:(smiling) you know, it's the first thing you ever said....\n",
      "\n",
      "kramer:(quietly) well, you know...\n",
      "\n",
      "jerry: what?\n",
      "\n",
      "george: you don't know.\n",
      "\n",
      "jerry: no, no. no. no.\n",
      "\n",
      "\n"
     ]
    }
   ],
   "source": [
    "# run the cell multiple times to get different results!\n",
    "gen_length = 400 # modify the length to your preference\n",
    "prime_word = 'jerry' # name for starting the script\n",
    "\n",
    "import helper\n",
    "\"\"\"\n",
    "DON'T MODIFY ANYTHING IN THIS CELL THAT IS BELOW THIS LINE\n",
    "\"\"\"\n",
    "pad_word = helper.SPECIAL_WORDS['PADDING'] \n",
    "generated_script = generate(trained_rnn, vocab_to_int[prime_word + ':'], int_to_vocab, token_dict, vocab_to_int[pad_word], gen_length)\n",
    "print(generated_script)"
   ]
  },
  {
   "cell_type": "markdown",
   "metadata": {},
   "source": [
    "#### Save your favorite scripts\n",
    "\n",
    "Once you have a script that you like (or find interesting), save it to a text file!"
   ]
  },
  {
   "cell_type": "code",
   "execution_count": 37,
   "metadata": {},
   "outputs": [],
   "source": [
    "# save script to a text file\n",
    "f =  open(\"generated_script_1.txt\",\"w\")\n",
    "f.write(generated_script)\n",
    "f.close()"
   ]
  },
  {
   "cell_type": "markdown",
   "metadata": {},
   "source": [
    "# The TV Script is Not Perfect\n",
    "It's ok if the TV script doesn't make perfect sense. It should look like alternating lines of dialogue, here is one such example of a few generated lines.\n",
    "\n",
    "### Example generated script\n",
    "\n",
    ">jerry: what about me?\n",
    ">\n",
    ">jerry: i don't have to wait.\n",
    ">\n",
    ">kramer:(to the sales table)\n",
    ">\n",
    ">elaine:(to jerry) hey, look at this, i'm a good doctor.\n",
    ">\n",
    ">newman:(to elaine) you think i have no idea of this...\n",
    ">\n",
    ">elaine: oh, you better take the phone, and he was a little nervous.\n",
    ">\n",
    ">kramer:(to the phone) hey, hey, jerry, i don't want to be a little bit.(to kramer and jerry) you can't.\n",
    ">\n",
    ">jerry: oh, yeah. i don't even know, i know.\n",
    ">\n",
    ">jerry:(to the phone) oh, i know.\n",
    ">\n",
    ">kramer:(laughing) you know...(to jerry) you don't know.\n",
    "\n",
    "You can see that there are multiple characters that say (somewhat) complete sentences, but it doesn't have to be perfect! It takes quite a while to get good results, and often, you'll have to use a smaller vocabulary (and discard uncommon words), or get more data.  The Seinfeld dataset is about 3.4 MB, which is big enough for our purposes; for script generation you'll want more than 1 MB of text, generally. \n",
    "\n",
    "# Submitting This Project\n",
    "When submitting this project, make sure to run all the cells before saving the notebook. Save the notebook file as \"dlnd_tv_script_generation.ipynb\" and save another copy as an HTML file by clicking \"File\" -> \"Download as..\"->\"html\". Include the \"helper.py\" and \"problem_unittests.py\" files in your submission. Once you download these files, compress them into one zip file for submission."
   ]
  },
  {
   "cell_type": "code",
   "execution_count": null,
   "metadata": {},
   "outputs": [],
   "source": []
  },
  {
   "cell_type": "markdown",
   "metadata": {},
   "source": [
    "#### 2019-06-22 \n",
    "sequence_length = 50\n",
    "batch_size = 128\n",
    "##### 6970 // 500 = 13 번  print 예정. 4.0 미만으로 내려가야 가능성 확인.\n",
    "learning_rate = 0.003\n",
    "embedding_dim = 64 # because vocab size is only 21388 (small) \n",
    "hidden_dim = 512 # 512 to capture complexity  \n",
    "n_layers = 2 # for basic complexity\n",
    "#### 1st epoch finished @ 4.361\n",
    "#### 2nd epoch finished @ 4.257\n",
    "#### 3rd epoch finished @  4.240694668769836\n",
    "\n",
    "\n",
    "#### 2019-06-22 ver 2\n",
    "sequence_length = 6\n",
    "batch_size = 128\n",
    "##### 6970 // 500 = 13 번  print 예정. 4.0 미만으로 내려가야 가능성 확인.\n",
    "learning_rate = 0.003\n",
    "embedding_dim = 16 # because vocab size is only 21388 (small) \n",
    "hidden_dim = 512 # 512 to capture complexity  \n",
    "n_layers = 2 # for basic complexity\n",
    "#### 1st epoch finished @  4.473 (faster computation)\n",
    "#### 2nd epoch finished @  4.3666\n",
    "#### 3rd epoch finished @  4.367212662696838\n",
    "\n",
    "#### 2019-06-22 ver 3\n",
    "sequence_length = 6 \n",
    "batch_size = 128\n",
    "##### 6970 // 500 = 13 번  print 예정. 4.0 미만으로 내려가야 가능성 확인.\n",
    "learning_rate = 0.001\n",
    "embedding_dim = 32 # increased from 16\n",
    "hidden_dim = 512 # 512 to capture complexity  \n",
    "n_layers = 2 # for basic complexity\n",
    "#### 1st epoch finished @  4.4458\n",
    "#### 2nd epoch finished @  4.3178 \n",
    "#### 3rd epoch finished @  \n",
    "\n",
    "#### 2019-06-22 ver 4\n",
    "sequence_length = 15 # increased seq length\n",
    "batch_size = 128\n",
    "##### 6970 // 500 = 13 번  print 예정. 4.0 미만으로 내려가야 가능성 확인.\n",
    "learning_rate = 0.003\n",
    "embedding_dim = 32 # increased from 16\n",
    "hidden_dim = 512 # 512 to capture complexity  \n",
    "n_layers = 2 # for basic complexity\n",
    "#### 1st epoch finished @  4.39598\n",
    "#### 2nd epoch finished @  4.13928\n",
    "#### 3rd epoch finished @  4.025612763881683\n",
    "954.2194361686707 seconds for 3 epochs\n",
    "\n",
    "#### 2019-06-22 ver 4 (again)\n",
    "sequence_length = 15 # increased seq length\n",
    "batch_size = 128\n",
    "##### 6970 // 500 = 13 번  print 예정. 4.0 미만으로 내려가야 가능성 확인.\n",
    "learning_rate = 0.003\n",
    "embedding_dim = 32 # increased from 16\n",
    "hidden_dim = 512 # 512 to capture complexity  \n",
    "n_layers = 2 # for basic complexity\n",
    "#### 1st epoch finished @  4.39598\n",
    "#### 2nd epoch finished @  4.13928\n",
    "#### 3rd epoch finished @  4.025612763881683\n",
    "954.2194361686707 seconds for 3 epochs\n",
    "\n",
    "epoch 8 : 3.8232\n",
    "\n",
    "#### 2019-06-22 ver 5\n",
    "sequence_length = 15 # increased seq length\n",
    "batch_size = 128\n",
    "##### 6970 // 500 = 13 번  print 예정. 4.0 미만으로 내려가야 가능성 확인.\n",
    "learning_rate = 0.003\n",
    "embedding_dim = 32 # increased from 16\n",
    "hidden_dim = 512 #   \n",
    "n_layers = 2 # for basic complexity\n",
    "#### 1st epoch finished @  4.39598\n",
    "#### 2nd epoch finished @  4.13928\n",
    "#### 3rd epoch finished @  4.025612763881683\n",
    "954.2194361686707 seconds for 3 epochs\n",
    "\n",
    "epoch 10 :3.80641\n",
    "\n",
    "#### 2019-06-22 ver 6\n",
    "sequence_length = 15 # increased seq length\n",
    "batch_size = 128\n",
    "##### 6970 // 500 = 13 번  print 예정. 4.0 미만으로 내려가야 가능성 확인.\n",
    "learning_rate = 0.003\n",
    "embedding_dim = 32 # increased from 16\n",
    "hidden_dim = 256 #   \n",
    "n_layers = 2 # for basic complexity\n",
    "#### 1st epoch finished @  4.39598\n",
    "#### 2nd epoch finished @  4.13928\n",
    "#### 3rd epoch finished @  4.025612763881683\n",
    "954.2194361686707 seconds for 3 epochs\n",
    "\n",
    "epoch 10 :3.897474047422409\n",
    "\n",
    "#### 2019-06-22 ver 7\n",
    "sequence_length = 15 # increased seq length\n",
    "batch_size = 128\n",
    "##### 6970 // 500 = 13 번  print 예정. 4.0 미만으로 내려가야 가능성 확인.\n",
    "learning_rate = 0.001\n",
    "embedding_dim = 32 # increased from 16\n",
    "hidden_dim = 256 #   \n",
    "n_layers = 2 # for basic complexity\n",
    "#### 1st epoch finished @  4.39598\n",
    "#### 2nd epoch finished @  4.13928\n",
    "#### 3rd epoch finished @  4.025612763881683\n",
    "954.2194361686707 seconds for 3 epochs\n",
    "\n",
    "epoch X 3.66\n",
    "\n",
    "#### 2019-06-24 ver 8\n",
    "sequence_length = 15 # increased seq length\n",
    "batch_size = 128\n",
    "##### 6970 // 500 = 13 번  print 예정. 4.0 미만으로 내려가야 가능성 확인.\n",
    "learning_rate = 0.001\n",
    "embedding_dim = 32 # increased from 16\n",
    "hidden_dim = 512 #   \n",
    "n_layers = 2 # for basic complexity\n",
    "#### 1st epoch finished @  4.39598\n",
    "#### 2nd epoch finished @  4.13928\n",
    "#### 3rd epoch finished @  4.025612763881683\n",
    "954.2194361686707 seconds for 3 epochs\n",
    "\n",
    "epoch  "
   ]
  },
  {
   "cell_type": "code",
   "execution_count": null,
   "metadata": {},
   "outputs": [],
   "source": []
  }
 ],
 "metadata": {
  "kernelspec": {
   "display_name": "Python 3",
   "language": "python",
   "name": "python3"
  },
  "language_info": {
   "codemirror_mode": {
    "name": "ipython",
    "version": 3
   },
   "file_extension": ".py",
   "mimetype": "text/x-python",
   "name": "python",
   "nbconvert_exporter": "python",
   "pygments_lexer": "ipython3",
   "version": "3.6.3"
  },
  "widgets": {
   "state": {},
   "version": "1.1.2"
  }
 },
 "nbformat": 4,
 "nbformat_minor": 1
}
