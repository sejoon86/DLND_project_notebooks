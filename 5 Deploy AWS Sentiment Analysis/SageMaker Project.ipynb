{
 "cells": [
  {
   "cell_type": "markdown",
   "metadata": {},
   "source": [
    "# Creating a Sentiment Analysis Web App\n",
    "## Using PyTorch and SageMaker\n",
    "\n",
    "_Deep Learning Nanodegree Program | Deployment_\n",
    "\n",
    "---\n",
    "\n",
    "Now that we have a basic understanding of how SageMaker works we will try to use it to construct a complete project from end to end. Our goal will be to have a simple web page which a user can use to enter a movie review. The web page will then send the review off to our deployed model which will predict the sentiment of the entered review.\n",
    "\n",
    "## Instructions\n",
    "\n",
    "Some template code has already been provided for you, and you will need to implement additional functionality to successfully complete this notebook. You will not need to modify the included code beyond what is requested. Sections that begin with '**TODO**' in the header indicate that you need to complete or implement some portion within them. Instructions will be provided for each section and the specifics of the implementation are marked in the code block with a `# TODO: ...` comment. Please be sure to read the instructions carefully!\n",
    "\n",
    "In addition to implementing code, there will be questions for you to answer which relate to the task and your implementation. Each section where you will answer a question is preceded by a '**Question:**' header. Carefully read each question and provide your answer below the '**Answer:**' header by editing the Markdown cell.\n",
    "\n",
    "> **Note**: Code and Markdown cells can be executed using the **Shift+Enter** keyboard shortcut. In addition, a cell can be edited by typically clicking it (double-click for Markdown cells) or by pressing **Enter** while it is highlighted.\n",
    "\n",
    "## General Outline\n",
    "\n",
    "Recall the general outline for SageMaker projects using a notebook instance.\n",
    "\n",
    "1. Download or otherwise retrieve the data.\n",
    "2. Process / Prepare the data.\n",
    "3. Upload the processed data to S3.\n",
    "4. Train a chosen model.\n",
    "5. Test the trained model (typically using a batch transform job).\n",
    "6. Deploy the trained model.\n",
    "7. Use the deployed model.\n",
    "\n",
    "For this project, you will be following the steps in the general outline with some modifications. \n",
    "\n",
    "First, you will not be testing the model in its own step. You will still be testing the model, however, you will do it by deploying your model and then using the deployed model by sending the test data to it. One of the reasons for doing this is so that you can make sure that your deployed model is working correctly before moving forward.\n",
    "\n",
    "In addition, you will deploy and use your trained model a second time. In the second iteration you will customize the way that your trained model is deployed by including some of your own code. In addition, your newly deployed model will be used in the sentiment analysis web app."
   ]
  },
  {
   "cell_type": "markdown",
   "metadata": {},
   "source": [
    "## Step 1: Downloading the data\n",
    "\n",
    "As in the XGBoost in SageMaker notebook, we will be using the [IMDb dataset](http://ai.stanford.edu/~amaas/data/sentiment/)\n",
    "\n",
    "> Maas, Andrew L., et al. [Learning Word Vectors for Sentiment Analysis](http://ai.stanford.edu/~amaas/data/sentiment/). In _Proceedings of the 49th Annual Meeting of the Association for Computational Linguistics: Human Language Technologies_. Association for Computational Linguistics, 2011."
   ]
  },
  {
   "cell_type": "code",
   "execution_count": 1,
   "metadata": {
    "scrolled": true
   },
   "outputs": [
    {
     "name": "stdout",
     "output_type": "stream",
     "text": [
      "mkdir: cannot create directory ‘../data’: File exists\n",
      "--2019-08-01 09:24:40--  http://ai.stanford.edu/~amaas/data/sentiment/aclImdb_v1.tar.gz\n",
      "Resolving ai.stanford.edu (ai.stanford.edu)... 171.64.68.10\n",
      "Connecting to ai.stanford.edu (ai.stanford.edu)|171.64.68.10|:80... connected.\n",
      "HTTP request sent, awaiting response... 200 OK\n",
      "Length: 84125825 (80M) [application/x-gzip]\n",
      "Saving to: ‘../data/aclImdb_v1.tar.gz’\n",
      "\n",
      "../data/aclImdb_v1. 100%[===================>]  80.23M  11.6MB/s    in 9.0s    \n",
      "\n",
      "2019-08-01 09:24:49 (8.88 MB/s) - ‘../data/aclImdb_v1.tar.gz’ saved [84125825/84125825]\n",
      "\n"
     ]
    }
   ],
   "source": [
    "%mkdir ../data\n",
    "!wget -O ../data/aclImdb_v1.tar.gz http://ai.stanford.edu/~amaas/data/sentiment/aclImdb_v1.tar.gz\n",
    "!tar -zxf ../data/aclImdb_v1.tar.gz -C ../data"
   ]
  },
  {
   "cell_type": "markdown",
   "metadata": {},
   "source": [
    "## Step 2: Preparing and Processing the data\n",
    "\n",
    "Also, as in the XGBoost notebook, we will be doing some initial data processing. The first few steps are the same as in the XGBoost example. To begin with, we will read in each of the reviews and combine them into a single input structure. Then, we will split the dataset into a training set and a testing set."
   ]
  },
  {
   "cell_type": "code",
   "execution_count": 2,
   "metadata": {},
   "outputs": [],
   "source": [
    "import os\n",
    "import glob\n",
    "\n",
    "def read_imdb_data(data_dir='../data/aclImdb'):\n",
    "    data = {}\n",
    "    labels = {}\n",
    "    \n",
    "    for data_type in ['train', 'test']:\n",
    "        data[data_type] = {}\n",
    "        labels[data_type] = {}\n",
    "        \n",
    "        for sentiment in ['pos', 'neg']:\n",
    "            data[data_type][sentiment] = []\n",
    "            labels[data_type][sentiment] = []\n",
    "            \n",
    "            path = os.path.join(data_dir, data_type, sentiment, '*.txt')\n",
    "            files = glob.glob(path)\n",
    "            \n",
    "            for f in files:\n",
    "                with open(f) as review:\n",
    "                    data[data_type][sentiment].append(review.read())\n",
    "                    # Here we represent a positive review by '1' and a negative review by '0'\n",
    "                    labels[data_type][sentiment].append(1 if sentiment == 'pos' else 0)\n",
    "                    \n",
    "            assert len(data[data_type][sentiment]) == len(labels[data_type][sentiment]), \\\n",
    "                    \"{}/{} data size does not match labels size\".format(data_type, sentiment)\n",
    "                \n",
    "    return data, labels"
   ]
  },
  {
   "cell_type": "code",
   "execution_count": 3,
   "metadata": {},
   "outputs": [
    {
     "name": "stdout",
     "output_type": "stream",
     "text": [
      "IMDB reviews: train = 12500 pos / 12500 neg, test = 12500 pos / 12500 neg\n"
     ]
    }
   ],
   "source": [
    "data, labels = read_imdb_data()\n",
    "print(\"IMDB reviews: train = {} pos / {} neg, test = {} pos / {} neg\".format(\n",
    "            len(data['train']['pos']), len(data['train']['neg']),\n",
    "            len(data['test']['pos']), len(data['test']['neg'])))"
   ]
  },
  {
   "cell_type": "code",
   "execution_count": 4,
   "metadata": {},
   "outputs": [
    {
     "name": "stdout",
     "output_type": "stream",
     "text": [
      "<class 'dict'>\n",
      "2\n",
      "\n",
      "<class 'dict'>\n",
      "2\n",
      "\n",
      "<class 'list'>\n",
      "12500\n",
      "\n",
      "<class 'str'>\n",
      "I'm fan of ART, I like anything about Art, I like paintings, sculptures, etc. This movie shows it, so I like it a lot, it shows how a woman wants to paint anything about Art, especially naked bodies, but she can't do it because of her strict family (father), at the beginning of the movie she painted herself naked, but she wanted a man for her paintings, but her family didn't let her paint naked men because it's against the moral. Even so Artemisia could paint her boyfriend and her art teacher completely naked. She falls in love with her art teacher, and it seems the art teacher is absolutely in love with her too, so at the ending he sacrifices his freedom for hers by lying. He said that he raped her, but it wasn't true. Artemisia fell in love with him, but if she says that she will suffer a lot, because in the trial in which Artemisia, her father and the Art teacher were, somebody was hurting her artistic hands to say the truth. I think this a great movie about ART, and an artistic love, It's worth watching. Valentina Cervi is great as Artemisia, she acts very well, I also like her performance in \"The portrait of a lady\" as Pansy Osmond. 8.5/10\n"
     ]
    }
   ],
   "source": [
    "print(type(data))\n",
    "print(len(data))\n",
    "print()\n",
    "print(type(data['train']))\n",
    "print(len(data['train']))\n",
    "print()\n",
    "print(type(data['train']['pos']))\n",
    "print(len(data['train']['pos']))\n",
    "print()\n",
    "print(type(data['train']['pos'][0]))\n",
    "print(data['train']['pos'][0])"
   ]
  },
  {
   "cell_type": "markdown",
   "metadata": {},
   "source": [
    "Now that we've read the raw training and testing data from the downloaded dataset, we will combine the positive and negative reviews and shuffle the resulting records."
   ]
  },
  {
   "cell_type": "code",
   "execution_count": 5,
   "metadata": {},
   "outputs": [],
   "source": [
    "from sklearn.utils import shuffle\n",
    "\n",
    "def prepare_imdb_data(data, labels):\n",
    "    \"\"\"Prepare training and test sets from IMDb movie reviews.\"\"\"\n",
    "    \n",
    "    #Combine positive and negative reviews and labels\n",
    "    data_train = data['train']['pos'] + data['train']['neg']  # combining lists to a big list\n",
    "    data_test = data['test']['pos'] + data['test']['neg']\n",
    "    labels_train = labels['train']['pos'] + labels['train']['neg'] \n",
    "    labels_test = labels['test']['pos'] + labels['test']['neg']\n",
    "    \n",
    "    #Shuffle reviews and corresponding labels within training and test sets\n",
    "    data_train, labels_train = shuffle(data_train, labels_train)\n",
    "    data_test, labels_test = shuffle(data_test, labels_test)\n",
    "    \n",
    "    # Return a unified training data, test data, training labels, test labets\n",
    "    return data_train, data_test, labels_train, labels_test"
   ]
  },
  {
   "cell_type": "code",
   "execution_count": 6,
   "metadata": {},
   "outputs": [
    {
     "name": "stdout",
     "output_type": "stream",
     "text": [
      "[2, 3, 4, 5, 1]\n",
      "[20, 30, 40, 50, 10]\n"
     ]
    }
   ],
   "source": [
    "A = [1,2,3,4,5]\n",
    "B = [10,20,30,40,50]\n",
    "\n",
    "shuff_A, shuff_B = shuffle(A,B)\n",
    "print(shuff_A)\n",
    "print(shuff_B)"
   ]
  },
  {
   "cell_type": "code",
   "execution_count": 7,
   "metadata": {},
   "outputs": [
    {
     "name": "stdout",
     "output_type": "stream",
     "text": [
      "IMDb reviews (combined): train = 25000, test = 25000\n"
     ]
    }
   ],
   "source": [
    "train_X, test_X, train_y, test_y = prepare_imdb_data(data, labels) # returns shuffled results (pos and neg all combined)\n",
    "print(\"IMDb reviews (combined): train = {}, test = {}\".format(len(train_X), len(test_X)))"
   ]
  },
  {
   "cell_type": "markdown",
   "metadata": {},
   "source": [
    "Now that we have our training and testing sets unified and prepared, we should do a quick check and see an example of the data our model will be trained on. This is generally a good idea as it allows you to see how each of the further processing steps affects the reviews and it also ensures that the data has been loaded correctly."
   ]
  },
  {
   "cell_type": "code",
   "execution_count": 8,
   "metadata": {},
   "outputs": [
    {
     "name": "stdout",
     "output_type": "stream",
     "text": [
      "Who in their right mind does anything so stupid as this movie?<br /><br />Accidental killing of a security guard... characters that are so two dimensional that a two year old could have painted drawn them... and better...<br /><br />A red toolbox of death? Please....<br /><br />Hypothermic weak thugs...<br /><br />Acting from hell...<br /><br />Stylistically this movie shifts between teen comedy, thriller, voyeurism and... female ... (uhm) Rambo?<br /><br />Unbelievable and it's an insult to any thinking person. Do not watch, walk away it's more horrible than you may imagine...<br /><br />And on top of it all it's trying to be hip by being overly graphic in it's violence...<br /><br />Mrs Montford: Shoot 'Em Up was fun and funny, this is just pathetic and terrible. Good luck next time. :-(\n",
      "0\n"
     ]
    }
   ],
   "source": [
    "print(train_X[100])\n",
    "print(train_y[100])"
   ]
  },
  {
   "cell_type": "markdown",
   "metadata": {},
   "source": [
    "The first step in processing the reviews is to make sure that any html tags that appear should be removed. In addition we wish to tokenize our input, that way words such as *entertained* and *entertaining* are considered the same with regard to sentiment analysis."
   ]
  },
  {
   "cell_type": "code",
   "execution_count": 9,
   "metadata": {},
   "outputs": [],
   "source": [
    "import nltk\n",
    "from nltk.corpus import stopwords\n",
    "from nltk.stem.porter import * #이런걸 쓰다니??\n",
    "\n",
    "import re\n",
    "from bs4 import BeautifulSoup\n",
    "\n",
    "def review_to_words(review):\n",
    "    nltk.download(\"stopwords\", quiet=True)\n",
    "    stemmer = PorterStemmer()\n",
    "    \n",
    "    text = BeautifulSoup(review, \"html.parser\").get_text() # Remove HTML tags\n",
    "    text = re.sub(r\"[^a-zA-Z0-9]\", \" \", text.lower()) # Convert to lower case\n",
    "    words = text.split() # Split string into words\n",
    "    words = [w for w in words if w not in stopwords.words(\"english\")] # Remove stopwords (그게 뭔디)\n",
    "    words = [PorterStemmer().stem(w) for w in words] # stem\n",
    "     \n",
    "    return words"
   ]
  },
  {
   "cell_type": "markdown",
   "metadata": {},
   "source": [
    "The `review_to_words` method defined above uses `BeautifulSoup` to remove any html tags that appear and uses the `nltk` package to tokenize the reviews. As a check to ensure we know how everything is working, try applying `review_to_words` to one of the reviews in the training set."
   ]
  },
  {
   "cell_type": "code",
   "execution_count": 10,
   "metadata": {},
   "outputs": [
    {
     "name": "stdout",
     "output_type": "stream",
     "text": [
      "['right', 'mind', 'anyth', 'stupid', 'movi', 'accident', 'kill', 'secur', 'guard', 'charact', 'two', 'dimension', 'two', 'year', 'old', 'could', 'paint', 'drawn', 'better', 'red', 'toolbox', 'death', 'pleas', 'hypotherm', 'weak', 'thug', 'act', 'hell', 'stylist', 'movi', 'shift', 'teen', 'comedi', 'thriller', 'voyeur', 'femal', 'uhm', 'rambo', 'unbeliev', 'insult', 'think', 'person', 'watch', 'walk', 'away', 'horribl', 'may', 'imagin', 'top', 'tri', 'hip', 'overli', 'graphic', 'violenc', 'mr', 'montford', 'shoot', 'em', 'fun', 'funni', 'pathet', 'terribl', 'good', 'luck', 'next', 'time']\n"
     ]
    }
   ],
   "source": [
    "# TODO: Apply review_to_words to a review (train_X[100] or any other review)\n",
    "print(review_to_words(train_X[100]))"
   ]
  },
  {
   "cell_type": "markdown",
   "metadata": {},
   "source": [
    "**Question:** Above we mentioned that `review_to_words` method removes html formatting and allows us to tokenize the words found in a review, for example, converting *entertained* and *entertaining* into *entertain* so that they are treated as though they are the same word. What else, if anything, does this method do to the input?"
   ]
  },
  {
   "cell_type": "markdown",
   "metadata": {},
   "source": [
    "**Answer:**\n",
    "\n",
    "* makes all words lowercase\n",
    "* removes all punctuation marks\n",
    "* converts string to list of unique words\n",
    "* removes stopwords such as 'i', 'me', 'my',...'won', \"won't\", 'wouldn', \"wouldn't\" (why though?)"
   ]
  },
  {
   "cell_type": "code",
   "execution_count": null,
   "metadata": {},
   "outputs": [],
   "source": []
  },
  {
   "cell_type": "markdown",
   "metadata": {},
   "source": [
    "The method below applies the `review_to_words` method to each of the reviews in the training and testing datasets. In addition it caches the results. This is because performing this processing step can take a long time. This way if you are unable to complete the notebook in the current session, you can come back without needing to process the data a second time."
   ]
  },
  {
   "cell_type": "code",
   "execution_count": 11,
   "metadata": {},
   "outputs": [],
   "source": [
    "import pickle\n",
    "\n",
    "cache_dir = os.path.join(\"../cache\", \"sentiment_analysis\")  # where to store cache files\n",
    "os.makedirs(cache_dir, exist_ok=True)  # ensure cache directory exists\n",
    "\n",
    "def preprocess_data(data_train, data_test, labels_train, labels_test,\n",
    "                    cache_dir=cache_dir, cache_file=\"preprocessed_data.pkl\"):\n",
    "    \"\"\"Convert each review to words; read from cache if available.\"\"\"\n",
    "\n",
    "    # If cache_file is not None, try to read from it first\n",
    "    cache_data = None\n",
    "    if cache_file is not None:\n",
    "        try:\n",
    "            with open(os.path.join(cache_dir, cache_file), \"rb\") as f:\n",
    "                print(\"opening pre-saved file now:)\")\n",
    "                cache_data = pickle.load(f)\n",
    "            print(\"Read preprocessed data from cache file:\", cache_file)\n",
    "        except:\n",
    "            pass  # unable to read from cache, but that's okay\n",
    "    \n",
    "    # If cache is missing, then do the heavy lifting\n",
    "    if cache_data is None:\n",
    "        # Preprocess training and test data to obtain words for each review\n",
    "        #words_train = list(map(review_to_words, data_train))\n",
    "        #words_test = list(map(review_to_words, data_test))\n",
    "        words_train = [review_to_words(review) for review in data_train] \n",
    "        words_test = [review_to_words(review) for review in data_test]\n",
    "        \n",
    "        # Write to cache file for future runs\n",
    "        if cache_file is not None:\n",
    "            cache_data = dict(words_train=words_train, words_test=words_test,\n",
    "                              labels_train=labels_train, labels_test=labels_test)\n",
    "            with open(os.path.join(cache_dir, cache_file), \"wb\") as f:\n",
    "                pickle.dump(cache_data, f)\n",
    "            print(\"Wrote preprocessed data to cache file:\", cache_file)\n",
    "    else:\n",
    "        # Unpack data loaded from cache file\n",
    "        words_train, words_test, labels_train, labels_test = (cache_data['words_train'],\n",
    "                cache_data['words_test'], cache_data['labels_train'], cache_data['labels_test'])\n",
    "    \n",
    "    return words_train, words_test, labels_train, labels_test"
   ]
  },
  {
   "cell_type": "code",
   "execution_count": 12,
   "metadata": {},
   "outputs": [
    {
     "name": "stdout",
     "output_type": "stream",
     "text": [
      "opening pre-saved file now:)\n",
      "Read preprocessed data from cache file: preprocessed_data.pkl\n"
     ]
    }
   ],
   "source": [
    "# Preprocess data\n",
    "train_X, test_X, train_y, test_y = preprocess_data(train_X, test_X, train_y, test_y)"
   ]
  },
  {
   "cell_type": "code",
   "execution_count": 13,
   "metadata": {},
   "outputs": [
    {
     "data": {
      "text/plain": [
       "['ye',\n",
       " 'pintili',\n",
       " 'like',\n",
       " 'undress',\n",
       " 'actor',\n",
       " 'show',\n",
       " 'publicli',\n",
       " 'privi',\n",
       " 'pintili',\n",
       " 'nake']"
      ]
     },
     "execution_count": 13,
     "metadata": {},
     "output_type": "execute_result"
    }
   ],
   "source": [
    "train_X[0][:10] # this will be a list of words 일부만"
   ]
  },
  {
   "cell_type": "markdown",
   "metadata": {},
   "source": [
    "## Transform the data\n",
    "\n",
    "In the XGBoost notebook we transformed the data from its word representation to a bag-of-words feature representation. For the model we are going to construct in this notebook we will construct a feature representation which is very similar. To start, we will represent each word as an integer. Of course, some of the words that appear in the reviews occur very infrequently and so likely don't contain much information for the purposes of sentiment analysis. The way we will deal with this problem is that we will fix the size of our working vocabulary and we will only include the words that appear most frequently. We will then combine all of the infrequent words into a single category and, in our case, we will label it as `1`.\n",
    "\n",
    "Since we will be using a recurrent neural network, it will be convenient if the length of each review is the same. To do this, we will fix a size for our reviews and then pad short reviews with the category 'no word' (which we will label `0`) and truncate long reviews."
   ]
  },
  {
   "cell_type": "markdown",
   "metadata": {},
   "source": [
    "###### **질문** : ```Convenient```한건 알겠는데, ```Necessary```함?  적당한 길이면 그냥 다 돌리면 안되나? Batch Processing때문인가?"
   ]
  },
  {
   "cell_type": "markdown",
   "metadata": {},
   "source": [
    "### (TODO) Create a word dictionary\n",
    "\n",
    "To begin with, we need to construct a way to map words that appear in the reviews to integers. Here we fix the size of our vocabulary (including the 'no word' and 'infrequent' categories) to be `5000` but you may wish to change this to see how it affects the model.\n",
    "\n",
    "> **TODO:** Complete the implementation for the `build_dict()` method below. Note that even though the vocab_size is set to `5000`, we only want to construct a mapping for the most frequently appearing `4998` words. This is because we want to reserve the special labels `0` for 'no word' and `1` for 'infrequent word'."
   ]
  },
  {
   "cell_type": "code",
   "execution_count": 14,
   "metadata": {
    "scrolled": false
   },
   "outputs": [
    {
     "name": "stdout",
     "output_type": "stream",
     "text": [
      "93\n"
     ]
    }
   ],
   "source": [
    "print(len(train_X[0]))"
   ]
  },
  {
   "cell_type": "code",
   "execution_count": 15,
   "metadata": {},
   "outputs": [
    {
     "name": "stdout",
     "output_type": "stream",
     "text": [
      "<class 'list'>\n",
      "<class 'list'>\n",
      "<class 'str'>\n"
     ]
    }
   ],
   "source": [
    "print(type(train_X))\n",
    "print(type(train_X[0]))\n",
    "print(type(train_X[0][0]))"
   ]
  },
  {
   "cell_type": "code",
   "execution_count": 16,
   "metadata": {},
   "outputs": [],
   "source": [
    "import numpy as np \n",
    "\n",
    "def build_dict(data, vocab_size = 5000):\n",
    "    \"\"\"Construct and return a dictionary mapping each of the most frequently appearing words to a unique integer.\"\"\"\n",
    "    \n",
    "    # TODO: Determine how often each word appears in `data`. Note that `data` is a list of sentences and that a\n",
    "    #       sentence is a list of words.\n",
    "    \n",
    "    word_count = {} # A dict storing the words that appear in the reviews along with how often they occur\n",
    "    \n",
    "    # counting number of times each word comes up in list of words (in dictionary)\n",
    "    for review in data: #다른데서 복붙함 헤헤\n",
    "        for word in review: \n",
    "            word_count[word] = word_count.get(word, 0) + 1 ## dictionary에서 get하고 없으면 0. 어쨌든 +1\n",
    "    \n",
    "    # TODO: Sort the words found in `data` so that sorted_words[0] is the most frequently appearing word and\n",
    "    #       sorted_words[-1] is the least frequently appearing word.\n",
    "    \n",
    "    sorted_words = sorted(word_count.items(), key = lambda x: x[1], reverse = True) ##내가 붙인 코드지만 이해가 안되넹 ㅠㅠ\n",
    "    #sorted_words = sorted(word_count.items(), key = None, reverse = True) ##내가 붙인 코드지만 이해가 안되넹 ㅠㅠ\n",
    "    \n",
    "    \n",
    "    word_dict = {} # This is what we are building, a dictionary that translates words into integers\n",
    "    for idx, word in enumerate(sorted_words[:vocab_size - 2]): # The -2 is so that we save room for the 'no word'\n",
    "        word_dict[word[0]] = idx + 2                              # 'infrequent' labels\n",
    "        \n",
    "    return word_dict"
   ]
  },
  {
   "cell_type": "code",
   "execution_count": 17,
   "metadata": {},
   "outputs": [
    {
     "name": "stdout",
     "output_type": "stream",
     "text": [
      "4998\n"
     ]
    }
   ],
   "source": [
    "word_dict = build_dict(train_X)\n",
    "print(len(word_dict))"
   ]
  },
  {
   "cell_type": "markdown",
   "metadata": {},
   "source": [
    "**Question:** What are the five most frequently appearing (tokenized) words in the training set? Does it makes sense that these words appear frequently in the training set?"
   ]
  },
  {
   "cell_type": "markdown",
   "metadata": {},
   "source": [
    "**Answer:**\n",
    "\n",
    "'movi', 'film', 'one', 'like', 'time' \n",
    "\n",
    "It makes sense."
   ]
  },
  {
   "cell_type": "code",
   "execution_count": 18,
   "metadata": {},
   "outputs": [
    {
     "name": "stdout",
     "output_type": "stream",
     "text": [
      "{'movi': 2, 'film': 3, 'one': 4, 'like': 5, 'time': 6, 'good': 7, 'make': 8, 'charact': 9, 'get': 10, 'see': 11, 'watch': 12, 'stori': 13, 'even': 14, 'would': 15, 'realli': 16, 'well': 17, 'scene': 18, 'look': 19, 'show': 20, 'much': 21, 'end': 22, 'peopl': 23, 'bad': 24, 'go': 25, 'great': 26, 'also': 27, 'first': 28, 'love': 29, 'think': 30, 'way': 31, 'act': 32, 'play': 33, 'made': 34, 'thing': 35, 'could': 36, 'know': 37, 'say': 38, 'seem': 39, 'work': 40, 'plot': 41, 'two': 42, 'actor': 43, 'year': 44, 'come': 45, 'mani': 46, 'seen': 47, 'take': 48, 'life': 49, 'want': 50, 'never': 51, 'littl': 52, 'best': 53, 'tri': 54, 'man': 55, 'ever': 56, 'give': 57, 'better': 58, 'still': 59, 'perform': 60, 'find': 61, 'feel': 62, 'part': 63, 'back': 64, 'use': 65, 'someth': 66, 'director': 67, 'actual': 68, 'interest': 69, 'lot': 70, 'real': 71, 'old': 72, 'cast': 73, 'though': 74, 'live': 75, 'star': 76, 'enjoy': 77, 'guy': 78, 'anoth': 79, 'new': 80, 'role': 81, 'noth': 82, '10': 83, 'funni': 84, 'music': 85, 'point': 86, 'start': 87, 'set': 88, 'girl': 89, 'origin': 90, 'day': 91, 'world': 92, 'everi': 93, 'believ': 94, 'turn': 95, 'quit': 96, 'us': 97, 'direct': 98, 'thought': 99, 'fact': 100, 'minut': 101, 'horror': 102, 'kill': 103, 'action': 104, 'comedi': 105, 'pretti': 106, 'young': 107, 'wonder': 108, 'happen': 109, 'around': 110, 'got': 111, 'effect': 112, 'right': 113, 'long': 114, 'howev': 115, 'big': 116, 'line': 117, 'famili': 118, 'enough': 119, 'seri': 120, 'may': 121, 'need': 122, 'fan': 123, 'bit': 124, 'script': 125, 'beauti': 126, 'person': 127, 'becom': 128, 'without': 129, 'must': 130, 'alway': 131, 'friend': 132, 'tell': 133, 'reason': 134, 'saw': 135, 'last': 136, 'final': 137, 'kid': 138, 'almost': 139, 'put': 140, 'least': 141, 'sure': 142, 'done': 143, 'whole': 144, 'place': 145, 'complet': 146, 'kind': 147, 'differ': 148, 'expect': 149, 'shot': 150, 'far': 151, 'mean': 152, 'anyth': 153, 'book': 154, 'laugh': 155, 'might': 156, 'name': 157, 'sinc': 158, 'begin': 159, '2': 160, 'probabl': 161, 'woman': 162, 'help': 163, 'entertain': 164, 'let': 165, 'screen': 166, 'call': 167, 'tv': 168, 'moment': 169, 'away': 170, 'read': 171, 'yet': 172, 'rather': 173, 'worst': 174, 'run': 175, 'fun': 176, 'lead': 177, 'hard': 178, 'audienc': 179, 'idea': 180, 'anyon': 181, 'episod': 182, 'american': 183, 'found': 184, 'appear': 185, 'bore': 186, 'especi': 187, 'although': 188, 'hope': 189, 'keep': 190, 'cours': 191, 'anim': 192, 'job': 193, 'goe': 194, 'move': 195, 'sens': 196, 'version': 197, 'dvd': 198, 'war': 199, 'money': 200, 'someon': 201, 'mind': 202, 'mayb': 203, 'problem': 204, 'true': 205, 'hous': 206, 'everyth': 207, 'nice': 208, 'second': 209, 'rate': 210, 'three': 211, 'night': 212, 'follow': 213, 'face': 214, 'recommend': 215, 'main': 216, 'product': 217, 'worth': 218, 'leav': 219, 'human': 220, 'special': 221, 'excel': 222, 'togeth': 223, 'wast': 224, 'everyon': 225, 'sound': 226, 'john': 227, 'hand': 228, '1': 229, 'father': 230, 'later': 231, 'eye': 232, 'said': 233, 'view': 234, 'instead': 235, 'review': 236, 'boy': 237, 'high': 238, 'hour': 239, 'miss': 240, 'classic': 241, 'talk': 242, 'wife': 243, 'understand': 244, 'left': 245, 'care': 246, 'black': 247, 'death': 248, 'open': 249, 'murder': 250, 'write': 251, 'half': 252, 'head': 253, 'rememb': 254, 'chang': 255, 'viewer': 256, 'fight': 257, 'gener': 258, 'surpris': 259, 'includ': 260, 'short': 261, 'die': 262, 'fall': 263, 'less': 264, 'els': 265, 'entir': 266, 'piec': 267, 'involv': 268, 'pictur': 269, 'simpli': 270, 'home': 271, 'power': 272, 'top': 273, 'total': 274, 'usual': 275, 'budget': 276, 'attempt': 277, 'suppos': 278, 'releas': 279, 'hollywood': 280, 'terribl': 281, 'song': 282, 'men': 283, 'possibl': 284, 'featur': 285, 'portray': 286, 'disappoint': 287, 'poor': 288, '3': 289, 'coupl': 290, 'camera': 291, 'stupid': 292, 'dead': 293, 'wrong': 294, 'produc': 295, 'low': 296, 'video': 297, 'either': 298, 'aw': 299, 'definit': 300, 'except': 301, 'rest': 302, 'given': 303, 'absolut': 304, 'women': 305, 'lack': 306, 'word': 307, 'writer': 308, 'titl': 309, 'talent': 310, 'decid': 311, 'full': 312, 'perfect': 313, 'along': 314, 'style': 315, 'close': 316, 'truli': 317, 'school': 318, 'emot': 319, 'save': 320, 'age': 321, 'sex': 322, 'next': 323, 'bring': 324, 'mr': 325, 'case': 326, 'killer': 327, 'heart': 328, 'comment': 329, 'sort': 330, 'creat': 331, 'perhap': 332, 'came': 333, 'brother': 334, 'sever': 335, 'joke': 336, 'art': 337, 'dialogu': 338, 'game': 339, 'small': 340, 'base': 341, 'flick': 342, 'written': 343, 'sequenc': 344, 'meet': 345, 'earli': 346, 'often': 347, 'other': 348, 'mother': 349, 'develop': 350, 'humor': 351, 'actress': 352, 'consid': 353, 'dark': 354, 'guess': 355, 'amaz': 356, 'unfortun': 357, 'lost': 358, 'light': 359, 'exampl': 360, 'cinema': 361, 'drama': 362, 'ye': 363, 'white': 364, 'experi': 365, 'imagin': 366, 'mention': 367, 'stop': 368, 'natur': 369, 'forc': 370, 'manag': 371, 'felt': 372, 'cut': 373, 'present': 374, 'children': 375, 'fail': 376, 'son': 377, 'car': 378, 'support': 379, 'qualiti': 380, 'ask': 381, 'hit': 382, 'side': 383, 'voic': 384, 'extrem': 385, 'impress': 386, 'evil': 387, 'wors': 388, 'stand': 389, 'went': 390, 'certainli': 391, 'basic': 392, 'oh': 393, 'overal': 394, 'favorit': 395, 'horribl': 396, 'mysteri': 397, 'number': 398, 'type': 399, 'danc': 400, 'wait': 401, 'hero': 402, '5': 403, 'alreadi': 404, 'learn': 405, 'matter': 406, '4': 407, 'michael': 408, 'genr': 409, 'fine': 410, 'despit': 411, 'throughout': 412, 'walk': 413, 'success': 414, 'histori': 415, 'question': 416, 'zombi': 417, 'town': 418, 'realiz': 419, 'relationship': 420, 'past': 421, 'child': 422, 'daughter': 423, 'late': 424, 'b': 425, 'wish': 426, 'credit': 427, 'hate': 428, 'event': 429, 'theme': 430, 'touch': 431, 'citi': 432, 'today': 433, 'sometim': 434, 'behind': 435, 'god': 436, 'twist': 437, 'sit': 438, 'stay': 439, 'deal': 440, 'annoy': 441, 'abl': 442, 'rent': 443, 'pleas': 444, 'edit': 445, 'blood': 446, 'deserv': 447, 'comic': 448, 'anyway': 449, 'appar': 450, 'soon': 451, 'gave': 452, 'etc': 453, 'level': 454, 'slow': 455, 'chanc': 456, 'score': 457, 'bodi': 458, 'brilliant': 459, 'incred': 460, 'figur': 461, 'situat': 462, 'self': 463, 'major': 464, 'stuff': 465, 'decent': 466, 'element': 467, 'dream': 468, 'return': 469, 'obvious': 470, 'order': 471, 'continu': 472, 'pace': 473, 'ridicul': 474, 'happi': 475, 'highli': 476, 'group': 477, 'add': 478, 'thank': 479, 'ladi': 480, 'novel': 481, 'speak': 482, 'pain': 483, 'career': 484, 'shoot': 485, 'strang': 486, 'heard': 487, 'sad': 488, 'husband': 489, 'polic': 490, 'import': 491, 'break': 492, 'took': 493, 'strong': 494, 'cannot': 495, 'predict': 496, 'robert': 497, 'violenc': 498, 'hilari': 499, 'recent': 500, 'countri': 501, 'known': 502, 'particularli': 503, 'pick': 504, 'documentari': 505, 'season': 506, 'critic': 507, 'jame': 508, 'compar': 509, 'obviou': 510, 'alon': 511, 'told': 512, 'state': 513, 'visual': 514, 'rock': 515, 'theater': 516, 'offer': 517, 'exist': 518, 'opinion': 519, 'gore': 520, 'crap': 521, 'hold': 522, 'result': 523, 'room': 524, 'hear': 525, 'realiti': 526, 'clich': 527, 'effort': 528, 'thriller': 529, 'caus': 530, 'sequel': 531, 'explain': 532, 'serious': 533, 'king': 534, 'local': 535, 'ago': 536, 'none': 537, 'hell': 538, 'note': 539, 'allow': 540, 'sister': 541, 'david': 542, 'simpl': 543, 'femal': 544, 'deliv': 545, 'ok': 546, 'class': 547, 'convinc': 548, 'check': 549, 'suspens': 550, 'win': 551, 'oscar': 552, 'buy': 553, 'huge': 554, 'valu': 555, 'sexual': 556, 'cool': 557, 'scari': 558, 'excit': 559, 'similar': 560, 'apart': 561, 'provid': 562, 'exactli': 563, 'avoid': 564, 'shown': 565, 'seriou': 566, 'english': 567, 'whose': 568, 'taken': 569, 'cinematographi': 570, 'shock': 571, 'polit': 572, 'spoiler': 573, 'offic': 574, 'across': 575, 'middl': 576, 'pass': 577, 'street': 578, 'messag': 579, 'silli': 580, 'charm': 581, 'somewhat': 582, 'modern': 583, 'filmmak': 584, 'confus': 585, 'form': 586, 'tale': 587, 'singl': 588, 'jack': 589, 'mostli': 590, 'carri': 591, 'william': 592, 'attent': 593, 'sing': 594, 'five': 595, 'subject': 596, 'prove': 597, 'richard': 598, 'stage': 599, 'team': 600, 'unlik': 601, 'cop': 602, 'georg': 603, 'monster': 604, 'televis': 605, 'earth': 606, 'cover': 607, 'villain': 608, 'pay': 609, 'marri': 610, 'toward': 611, 'build': 612, 'pull': 613, 'parent': 614, 'due': 615, 'respect': 616, 'fill': 617, 'dialog': 618, 'four': 619, 'remind': 620, 'futur': 621, 'typic': 622, 'weak': 623, '7': 624, 'cheap': 625, 'intellig': 626, 'british': 627, 'atmospher': 628, '80': 629, 'clearli': 630, 'paul': 631, 'non': 632, 'dog': 633, 'artist': 634, 'knew': 635, 'fast': 636, '8': 637, 'crime': 638, 'easili': 639, 'escap': 640, 'doubt': 641, 'adult': 642, 'detail': 643, 'date': 644, 'romant': 645, 'member': 646, 'fire': 647, 'drive': 648, 'gun': 649, 'straight': 650, 'beyond': 651, 'fit': 652, 'attack': 653, 'imag': 654, 'upon': 655, 'posit': 656, 'whether': 657, 'peter': 658, 'fantast': 659, 'aspect': 660, 'appreci': 661, 'captur': 662, 'ten': 663, 'plan': 664, 'discov': 665, 'remain': 666, 'period': 667, 'near': 668, 'realist': 669, 'air': 670, 'mark': 671, 'red': 672, 'dull': 673, 'adapt': 674, 'within': 675, 'spend': 676, 'lose': 677, 'color': 678, 'materi': 679, 'chase': 680, 'mari': 681, 'storylin': 682, 'forget': 683, 'bunch': 684, 'clear': 685, 'lee': 686, 'victim': 687, 'nearli': 688, 'box': 689, 'york': 690, 'match': 691, 'inspir': 692, 'mess': 693, 'finish': 694, 'standard': 695, 'easi': 696, 'truth': 697, 'busi': 698, 'suffer': 699, 'dramat': 700, 'space': 701, 'bill': 702, 'western': 703, 'e': 704, 'list': 705, 'battl': 706, 'notic': 707, 'de': 708, 'french': 709, 'ad': 710, '9': 711, 'tom': 712, 'larg': 713, 'among': 714, 'eventu': 715, 'train': 716, 'accept': 717, 'agre': 718, 'spirit': 719, 'soundtrack': 720, 'third': 721, 'teenag': 722, 'soldier': 723, 'adventur': 724, 'famou': 725, 'drug': 726, 'suggest': 727, 'sorri': 728, 'normal': 729, 'cri': 730, 'babi': 731, 'ultim': 732, 'troubl': 733, 'contain': 734, 'certain': 735, 'cultur': 736, 'romanc': 737, 'rare': 738, 'lame': 739, 'somehow': 740, 'disney': 741, 'mix': 742, 'gone': 743, 'cartoon': 744, 'student': 745, 'reveal': 746, 'fear': 747, 'kept': 748, 'suck': 749, 'attract': 750, 'appeal': 751, 'premis': 752, 'design': 753, 'secret': 754, 'greatest': 755, 'shame': 756, 'throw': 757, 'copi': 758, 'scare': 759, 'wit': 760, 'america': 761, 'admit': 762, 'relat': 763, 'particular': 764, 'brought': 765, 'screenplay': 766, 'whatev': 767, 'pure': 768, '70': 769, 'averag': 770, 'harri': 771, 'master': 772, 'describ': 773, 'male': 774, 'treat': 775, '20': 776, 'fantasi': 777, 'issu': 778, 'warn': 779, 'inde': 780, 'background': 781, 'forward': 782, 'project': 783, 'free': 784, 'memor': 785, 'japanes': 786, 'poorli': 787, 'award': 788, 'locat': 789, 'amus': 790, 'potenti': 791, 'struggl': 792, 'magic': 793, 'weird': 794, 'societi': 795, 'okay': 796, 'doctor': 797, 'accent': 798, 'imdb': 799, 'water': 800, 'hot': 801, '30': 802, 'express': 803, 'dr': 804, 'alien': 805, 'odd': 806, 'crazi': 807, 'choic': 808, 'studio': 809, 'fiction': 810, 'becam': 811, 'control': 812, 'masterpiec': 813, 'fli': 814, 'difficult': 815, 'joe': 816, 'scream': 817, 'costum': 818, 'lover': 819, 'uniqu': 820, 'refer': 821, 'remak': 822, 'vampir': 823, 'girlfriend': 824, 'prison': 825, 'execut': 826, 'wear': 827, 'jump': 828, 'unless': 829, 'wood': 830, 'creepi': 831, 'cheesi': 832, 'superb': 833, 'otherwis': 834, 'parti': 835, 'ghost': 836, 'roll': 837, 'public': 838, 'mad': 839, 'depict': 840, 'week': 841, 'jane': 842, 'moral': 843, 'earlier': 844, 'badli': 845, 'dumb': 846, 'fi': 847, 'grow': 848, 'flaw': 849, 'deep': 850, 'sci': 851, 'maker': 852, 'cat': 853, 'connect': 854, 'older': 855, 'footag': 856, 'plenti': 857, 'bother': 858, 'outsid': 859, 'stick': 860, 'gay': 861, 'catch': 862, 'plu': 863, 'co': 864, 'popular': 865, 'equal': 866, 'social': 867, 'quickli': 868, 'disturb': 869, 'perfectli': 870, 'dress': 871, 'era': 872, '90': 873, 'mistak': 874, 'lie': 875, 'previou': 876, 'ride': 877, 'combin': 878, 'band': 879, 'concept': 880, 'answer': 881, 'surviv': 882, 'rich': 883, 'front': 884, 'sweet': 885, 'christma': 886, 'insid': 887, 'concern': 888, 'bare': 889, 'eat': 890, 'beat': 891, 'ben': 892, 'listen': 893, 'c': 894, 'term': 895, 'serv': 896, 'la': 897, 'meant': 898, 'german': 899, 'stereotyp': 900, 'hardli': 901, 'law': 902, 'innoc': 903, 'desper': 904, 'promis': 905, 'memori': 906, 'cute': 907, 'intent': 908, 'inform': 909, 'steal': 910, 'variou': 911, 'brain': 912, 'post': 913, 'tone': 914, 'island': 915, 'amount': 916, 'nuditi': 917, 'compani': 918, 'track': 919, 'store': 920, 'claim': 921, 'hair': 922, '50': 923, 'flat': 924, 'land': 925, 'univers': 926, 'kick': 927, 'fairli': 928, 'danger': 929, 'scott': 930, 'player': 931, 'crew': 932, 'step': 933, 'plain': 934, 'toni': 935, 'share': 936, 'centuri': 937, 'tast': 938, 'engag': 939, 'achiev': 940, 'cold': 941, 'travel': 942, 'rip': 943, 'suit': 944, 'record': 945, 'sadli': 946, 'manner': 947, 'tension': 948, 'spot': 949, 'wrote': 950, 'intens': 951, 'fascin': 952, 'familiar': 953, 'burn': 954, 'remark': 955, 'depth': 956, 'histor': 957, 'destroy': 958, 'sleep': 959, 'purpos': 960, 'languag': 961, 'ignor': 962, 'ruin': 963, 'delight': 964, 'italian': 965, 'unbeliev': 966, 'abil': 967, 'collect': 968, 'soul': 969, 'detect': 970, 'clever': 971, 'violent': 972, 'rape': 973, 'reach': 974, 'door': 975, 'liter': 976, 'trash': 977, 'scienc': 978, 'commun': 979, 'caught': 980, 'reveng': 981, 'creatur': 982, 'trip': 983, 'approach': 984, 'fashion': 985, 'intrigu': 986, 'skill': 987, 'introduc': 988, 'paint': 989, 'channel': 990, 'complex': 991, 'camp': 992, 'christian': 993, 'hole': 994, 'extra': 995, 'limit': 996, 'mental': 997, 'ann': 998, 'immedi': 999, 'million': 1000, 'comput': 1001, 'mere': 1002, 'slightli': 1003, '6': 1004, 'slasher': 1005, 'conclus': 1006, 'imposs': 1007, 'suddenli': 1008, 'crimin': 1009, 'neither': 1010, 'teen': 1011, 'nation': 1012, 'spent': 1013, 'physic': 1014, 'respons': 1015, 'planet': 1016, 'fake': 1017, 'receiv': 1018, 'blue': 1019, 'sick': 1020, 'bizarr': 1021, 'embarrass': 1022, 'indian': 1023, 'ring': 1024, '15': 1025, 'drop': 1026, 'pop': 1027, 'drag': 1028, 'haunt': 1029, 'suspect': 1030, 'pointless': 1031, 'search': 1032, 'edg': 1033, 'handl': 1034, 'common': 1035, 'biggest': 1036, 'arriv': 1037, 'hurt': 1038, 'faith': 1039, 'technic': 1040, 'angel': 1041, 'genuin': 1042, 'dad': 1043, 'f': 1044, 'solid': 1045, 'awesom': 1046, 'focu': 1047, 'van': 1048, 'former': 1049, 'colleg': 1050, 'count': 1051, 'tear': 1052, 'heavi': 1053, 'wall': 1054, 'rais': 1055, 'younger': 1056, 'laughabl': 1057, 'visit': 1058, 'sign': 1059, 'excus': 1060, 'fair': 1061, 'cult': 1062, 'tough': 1063, 'motion': 1064, 'key': 1065, 'super': 1066, 'desir': 1067, 'stun': 1068, 'addit': 1069, 'exploit': 1070, 'cloth': 1071, 'tortur': 1072, 'smith': 1073, 'davi': 1074, 'race': 1075, 'author': 1076, 'cross': 1077, 'jim': 1078, 'consist': 1079, 'focus': 1080, 'compel': 1081, 'minor': 1082, 'pathet': 1083, 'chemistri': 1084, 'commit': 1085, 'park': 1086, 'obsess': 1087, 'tradit': 1088, 'frank': 1089, 'grade': 1090, '60': 1091, 'asid': 1092, 'brutal': 1093, 'somewher': 1094, 'steve': 1095, 'explor': 1096, 'opportun': 1097, 'rule': 1098, 'u': 1099, 'grant': 1100, 'depress': 1101, 'honest': 1102, 'besid': 1103, 'anti': 1104, 'dub': 1105, 'trailer': 1106, 'intend': 1107, 'bar': 1108, 'regard': 1109, 'scientist': 1110, 'longer': 1111, 'west': 1112, 'judg': 1113, 'decad': 1114, 'silent': 1115, 'armi': 1116, 'creativ': 1117, 'wild': 1118, 'south': 1119, 'stewart': 1120, 'g': 1121, 'draw': 1122, 'road': 1123, 'govern': 1124, 'ex': 1125, 'boss': 1126, 'practic': 1127, 'surprisingli': 1128, 'gang': 1129, 'motiv': 1130, 'festiv': 1131, 'club': 1132, 'london': 1133, 'redeem': 1134, 'green': 1135, 'page': 1136, 'aliv': 1137, 'display': 1138, 'machin': 1139, 'idiot': 1140, 'militari': 1141, 'repeat': 1142, 'thrill': 1143, '100': 1144, 'folk': 1145, 'nobodi': 1146, 'yeah': 1147, '40': 1148, 'journey': 1149, 'garbag': 1150, 'ground': 1151, 'tire': 1152, 'smile': 1153, 'mood': 1154, 'bought': 1155, 'sam': 1156, 'cost': 1157, 'stone': 1158, 'mouth': 1159, 'noir': 1160, 'terrif': 1161, 'agent': 1162, 'requir': 1163, 'utterli': 1164, 'area': 1165, 'honestli': 1166, 'sexi': 1167, 'report': 1168, 'geniu': 1169, 'glad': 1170, 'investig': 1171, 'humour': 1172, 'enter': 1173, 'serial': 1174, 'narr': 1175, 'passion': 1176, 'occasion': 1177, 'marriag': 1178, 'climax': 1179, 'industri': 1180, 'studi': 1181, 'charli': 1182, 'ship': 1183, 'nowher': 1184, 'center': 1185, 'demon': 1186, 'bear': 1187, 'hors': 1188, 'loos': 1189, 'wow': 1190, 'hang': 1191, 'graphic': 1192, 'giant': 1193, 'admir': 1194, 'send': 1195, 'loud': 1196, 'damn': 1197, 'nake': 1198, 'profession': 1199, 'rel': 1200, 'subtl': 1201, 'blow': 1202, 'bottom': 1203, 'insult': 1204, 'batman': 1205, 'boyfriend': 1206, 'doubl': 1207, 'kelli': 1208, 'r': 1209, 'initi': 1210, 'frame': 1211, 'opera': 1212, 'gem': 1213, 'challeng': 1214, 'church': 1215, 'drawn': 1216, 'cinemat': 1217, 'affect': 1218, 'fulli': 1219, 'seek': 1220, 'j': 1221, 'evid': 1222, 'nightmar': 1223, 'l': 1224, 'essenti': 1225, 'arm': 1226, 'conflict': 1227, 'henri': 1228, 'christoph': 1229, 'wind': 1230, 'grace': 1231, 'assum': 1232, 'narrat': 1233, 'witch': 1234, 'push': 1235, 'hunt': 1236, 'wise': 1237, 'chri': 1238, 'repres': 1239, 'month': 1240, 'nomin': 1241, 'avail': 1242, 'affair': 1243, 'hide': 1244, 'sceneri': 1245, 'justic': 1246, 'thu': 1247, 'bond': 1248, 'smart': 1249, 'outstand': 1250, 'flashback': 1251, 'interview': 1252, 'presenc': 1253, 'satisfi': 1254, 'constantli': 1255, 'bed': 1256, 'central': 1257, 'sell': 1258, 'iron': 1259, 'content': 1260, 'gag': 1261, 'everybodi': 1262, 'hotel': 1263, 'slowli': 1264, 'hire': 1265, 'system': 1266, 'charl': 1267, 'individu': 1268, 'thrown': 1269, 'hey': 1270, 'adam': 1271, 'jone': 1272, 'mediocr': 1273, 'allen': 1274, 'ray': 1275, 'billi': 1276, 'lesson': 1277, 'photographi': 1278, 'cameo': 1279, 'pari': 1280, 'fellow': 1281, 'strike': 1282, 'brief': 1283, 'independ': 1284, 'absurd': 1285, 'rise': 1286, 'neg': 1287, 'phone': 1288, 'impact': 1289, 'born': 1290, 'ill': 1291, 'model': 1292, 'fresh': 1293, 'angl': 1294, 'spoil': 1295, 'likabl': 1296, 'abus': 1297, 'discuss': 1298, 'hill': 1299, 'ahead': 1300, 'sight': 1301, 'photograph': 1302, 'sent': 1303, 'blame': 1304, 'occur': 1305, 'shine': 1306, 'logic': 1307, 'bruce': 1308, 'mainli': 1309, 'commerci': 1310, 'skip': 1311, 'forev': 1312, 'teacher': 1313, 'surround': 1314, 'held': 1315, 'segment': 1316, 'zero': 1317, 'blond': 1318, 'resembl': 1319, 'satir': 1320, 'trap': 1321, 'summer': 1322, 'queen': 1323, 'ball': 1324, 'fool': 1325, 'six': 1326, 'sub': 1327, 'twice': 1328, 'tragedi': 1329, 'reaction': 1330, 'pack': 1331, 'bomb': 1332, 'protagonist': 1333, 'will': 1334, 'hospit': 1335, 'mile': 1336, 'sport': 1337, 'trust': 1338, 'jerri': 1339, 'mom': 1340, 'drink': 1341, 'vote': 1342, 'encount': 1343, 'plane': 1344, 'current': 1345, 'al': 1346, 'station': 1347, 'program': 1348, 'celebr': 1349, 'martin': 1350, 'choos': 1351, 'join': 1352, 'favourit': 1353, 'round': 1354, 'tragic': 1355, 'field': 1356, 'lord': 1357, 'vision': 1358, 'jean': 1359, 'robot': 1360, 'tie': 1361, 'arthur': 1362, 'random': 1363, 'roger': 1364, 'fortun': 1365, 'dread': 1366, 'psycholog': 1367, 'intern': 1368, 'epic': 1369, 'nonsens': 1370, 'improv': 1371, 'prefer': 1372, 'highlight': 1373, 'legend': 1374, 'pleasur': 1375, 'formula': 1376, 'dollar': 1377, '11': 1378, 'tape': 1379, 'object': 1380, 'fox': 1381, 'thin': 1382, 'porn': 1383, 'gorgeou': 1384, 'wide': 1385, 'ugli': 1386, 'buddi': 1387, 'influenc': 1388, 'ii': 1389, 'prepar': 1390, 'nasti': 1391, 'progress': 1392, 'supposedli': 1393, 'warm': 1394, 'reflect': 1395, 'youth': 1396, 'worthi': 1397, 'unusu': 1398, 'length': 1399, 'latter': 1400, 'crash': 1401, 'shop': 1402, 'childhood': 1403, 'seven': 1404, 'superior': 1405, 'theatr': 1406, 'remot': 1407, 'pilot': 1408, 'funniest': 1409, 'paid': 1410, 'disgust': 1411, 'convers': 1412, 'fell': 1413, 'castl': 1414, 'trick': 1415, 'rob': 1416, 'disast': 1417, 'gangster': 1418, 'establish': 1419, 'ident': 1420, 'disappear': 1421, 'suicid': 1422, 'heaven': 1423, 'mine': 1424, 'forgotten': 1425, 'decis': 1426, 'singer': 1427, 'mask': 1428, 'tend': 1429, 'heroin': 1430, 'brian': 1431, 'partner': 1432, 'desert': 1433, 'alan': 1434, 'recogn': 1435, 'thoroughli': 1436, 'ms': 1437, 'sky': 1438, 'stuck': 1439, 'p': 1440, 'accur': 1441, 'replac': 1442, 'market': 1443, 'seemingli': 1444, 'clue': 1445, 'danni': 1446, 'eddi': 1447, 'uncl': 1448, 'commentari': 1449, 'andi': 1450, 'devil': 1451, 'jackson': 1452, 'refus': 1453, 'therefor': 1454, 'pair': 1455, 'that': 1456, 'accid': 1457, 'fault': 1458, 'fate': 1459, 'river': 1460, 'unit': 1461, 'ed': 1462, 'afraid': 1463, 'tune': 1464, 'clean': 1465, 'stephen': 1466, 'hidden': 1467, 'russian': 1468, 'readi': 1469, 'convey': 1470, 'irrit': 1471, 'instanc': 1472, 'quick': 1473, 'test': 1474, 'captain': 1475, 'european': 1476, 'frustrat': 1477, 'daniel': 1478, 'insan': 1479, 'food': 1480, '1950': 1481, 'wed': 1482, 'chines': 1483, 'rescu': 1484, 'lock': 1485, 'dirti': 1486, 'angri': 1487, 'joy': 1488, 'steven': 1489, 'price': 1490, 'bland': 1491, 'cage': 1492, 'rang': 1493, 'anymor': 1494, 'wooden': 1495, 'rush': 1496, 'jason': 1497, 'n': 1498, 'news': 1499, 'worri': 1500, '12': 1501, 'twenti': 1502, 'led': 1503, 'martial': 1504, 'board': 1505, 'hunter': 1506, 'transform': 1507, 'cgi': 1508, 'symbol': 1509, 'onto': 1510, 'johnni': 1511, 'sentiment': 1512, 'x': 1513, 'piti': 1514, 'invent': 1515, 'attitud': 1516, 'explan': 1517, 'process': 1518, 'awar': 1519, 'owner': 1520, 'aim': 1521, 'necessari': 1522, 'favor': 1523, 'target': 1524, 'floor': 1525, 'energi': 1526, 'religi': 1527, 'opposit': 1528, 'chick': 1529, 'insight': 1530, 'window': 1531, 'blind': 1532, 'movement': 1533, 'deepli': 1534, 'research': 1535, 'possess': 1536, 'comparison': 1537, 'mountain': 1538, 'whatsoev': 1539, 'grand': 1540, 'rain': 1541, 'comed': 1542, 'began': 1543, 'shadow': 1544, 'mid': 1545, 'bank': 1546, 'parodi': 1547, 'princ': 1548, 'weapon': 1549, 'pre': 1550, 'credibl': 1551, 'taylor': 1552, 'friendship': 1553, 'flesh': 1554, 'teach': 1555, 'dougla': 1556, 'hint': 1557, 'terror': 1558, 'protect': 1559, 'bloodi': 1560, 'marvel': 1561, 'load': 1562, 'drunk': 1563, 'superman': 1564, 'leader': 1565, 'anybodi': 1566, 'accord': 1567, 'watchabl': 1568, 'brown': 1569, 'freddi': 1570, 'tim': 1571, 'hitler': 1572, 'jeff': 1573, 'seat': 1574, 'appropri': 1575, 'unknown': 1576, 'villag': 1577, 'charg': 1578, 'knock': 1579, 'keaton': 1580, 'unnecessari': 1581, 'enemi': 1582, 'media': 1583, 'england': 1584, 'empti': 1585, 'utter': 1586, 'wave': 1587, 'dare': 1588, 'buck': 1589, 'strength': 1590, 'craft': 1591, 'perspect': 1592, 'contrast': 1593, 'correct': 1594, 'kiss': 1595, 'ford': 1596, 'nativ': 1597, 'nazi': 1598, 'anywher': 1599, 'speed': 1600, 'chill': 1601, 'knowledg': 1602, 'magnific': 1603, 'distract': 1604, 'soap': 1605, 'breath': 1606, '1980': 1607, 'ice': 1608, 'fred': 1609, 'mission': 1610, 'joan': 1611, 'jr': 1612, 'crowd': 1613, 'moon': 1614, 'frighten': 1615, 'soft': 1616, '000': 1617, 'kate': 1618, 'hundr': 1619, 'dick': 1620, 'nick': 1621, 'dan': 1622, 'dozen': 1623, 'radio': 1624, 'simon': 1625, 'somebodi': 1626, 'thousand': 1627, 'academi': 1628, 'shakespear': 1629, 'loss': 1630, 'andrew': 1631, 'vehicl': 1632, 'account': 1633, 'sum': 1634, 'root': 1635, 'quot': 1636, 'behavior': 1637, '1970': 1638, 'leg': 1639, 'convent': 1640, 'gold': 1641, 'regular': 1642, 'worker': 1643, 'compet': 1644, 'demand': 1645, 'pretenti': 1646, 'stretch': 1647, 'notabl': 1648, 'privat': 1649, 'interpret': 1650, 'explos': 1651, 'lynch': 1652, 'japan': 1653, 'candi': 1654, 'tarzan': 1655, 'debut': 1656, 'constant': 1657, 'sea': 1658, 'translat': 1659, 'revolv': 1660, 'prais': 1661, 'spi': 1662, 'sat': 1663, 'failur': 1664, 'jesu': 1665, 'franc': 1666, 'ass': 1667, 'quiet': 1668, 'technolog': 1669, 'threaten': 1670, 'higher': 1671, 'toy': 1672, 'aid': 1673, 'met': 1674, 'punch': 1675, 'kevin': 1676, 'vh': 1677, 'abandon': 1678, 'interact': 1679, 'mike': 1680, 'confront': 1681, 'command': 1682, 'separ': 1683, 'bet': 1684, 'recal': 1685, 'gotten': 1686, 'techniqu': 1687, 'belong': 1688, 'stunt': 1689, 'site': 1690, 'servic': 1691, 'freak': 1692, 'foot': 1693, 'cabl': 1694, 'bug': 1695, 'bright': 1696, 'capabl': 1697, 'fu': 1698, 'african': 1699, 'jimmi': 1700, 'succeed': 1701, 'presid': 1702, 'boat': 1703, 'stock': 1704, 'fat': 1705, 'clark': 1706, 'spanish': 1707, 'gene': 1708, 'structur': 1709, 'paper': 1710, 'kidnap': 1711, 'whilst': 1712, 'belief': 1713, 'factor': 1714, 'educ': 1715, 'realism': 1716, 'complic': 1717, 'bob': 1718, 'realis': 1719, 'attend': 1720, 'witti': 1721, 'tree': 1722, 'broken': 1723, 'santa': 1724, 'assist': 1725, 'finest': 1726, 'smoke': 1727, 'depart': 1728, 'observ': 1729, 'determin': 1730, 'up': 1731, 'v': 1732, 'fame': 1733, 'hat': 1734, 'oper': 1735, 'routin': 1736, 'rubbish': 1737, 'domin': 1738, 'lewi': 1739, 'advanc': 1740, 'foreign': 1741, 'safe': 1742, 'hook': 1743, 'kinda': 1744, 'lone': 1745, 'morgan': 1746, 'numer': 1747, 'rank': 1748, 'rose': 1749, 'civil': 1750, 'washington': 1751, 'shape': 1752, 'vs': 1753, 'werewolf': 1754, 'shallow': 1755, 'morn': 1756, 'gari': 1757, 'accomplish': 1758, 'kong': 1759, 'winner': 1760, 'ordinari': 1761, 'peac': 1762, 'grab': 1763, 'virtual': 1764, 'whenev': 1765, 'h': 1766, 'luck': 1767, 'offens': 1768, 'unfunni': 1769, 'activ': 1770, 'bigger': 1771, 'contriv': 1772, 'welcom': 1773, 'complain': 1774, 'patient': 1775, 'con': 1776, 'pretend': 1777, 'dimension': 1778, 'trek': 1779, 'eric': 1780, 'code': 1781, 'lesbian': 1782, 'cain': 1783, 'wake': 1784, 'dri': 1785, 'flash': 1786, 'manipul': 1787, 'albert': 1788, 'guard': 1789, 'dancer': 1790, 'statu': 1791, 'corrupt': 1792, 'sourc': 1793, 'awkward': 1794, 'signific': 1795, 'context': 1796, 'gain': 1797, 'speech': 1798, 'clip': 1799, 'corni': 1800, 'sean': 1801, '13': 1802, 'psycho': 1803, 'anthoni': 1804, 'reli': 1805, 'advic': 1806, 'curiou': 1807, 'w': 1808, 'priest': 1809, 'religion': 1810, 'theatric': 1811, 'flow': 1812, 'addict': 1813, 'specif': 1814, 'jennif': 1815, 'asian': 1816, 'skin': 1817, 'howard': 1818, 'secur': 1819, 'comfort': 1820, 'promot': 1821, 'luke': 1822, 'core': 1823, 'golden': 1824, 'organ': 1825, 'cheat': 1826, 'cash': 1827, 'lucki': 1828, 'dislik': 1829, 'associ': 1830, 'lower': 1831, 'degre': 1832, 'contribut': 1833, 'wing': 1834, 'balanc': 1835, 'frequent': 1836, 'spell': 1837, 'devic': 1838, 'frankli': 1839, 'regret': 1840, 'sake': 1841, 'forgiv': 1842, 'print': 1843, 'lake': 1844, 'mass': 1845, 'thoma': 1846, 'betti': 1847, 'crack': 1848, 'gordon': 1849, 'unexpect': 1850, 'invit': 1851, 'categori': 1852, 'unfold': 1853, 'depend': 1854, 'construct': 1855, 'grown': 1856, 'amateur': 1857, 'intellectu': 1858, 'anna': 1859, 'grew': 1860, 'condit': 1861, 'honor': 1862, 'walter': 1863, 'matur': 1864, 'sole': 1865, 'veteran': 1866, 'mirror': 1867, 'sudden': 1868, 'spectacular': 1869, 'meanwhil': 1870, 'freedom': 1871, 'gift': 1872, 'overli': 1873, 'liner': 1874, 'experienc': 1875, 'card': 1876, 'grip': 1877, 'robin': 1878, 'demonstr': 1879, 'drew': 1880, 'unabl': 1881, 'sheriff': 1882, 'circumst': 1883, 'theori': 1884, 'subtitl': 1885, 'brilliantli': 1886, 'colour': 1887, 'section': 1888, 'crappi': 1889, 'oliv': 1890, 'matt': 1891, 'path': 1892, 'cook': 1893, 'parker': 1894, 'pile': 1895, 'altern': 1896, 'laughter': 1897, 'sheer': 1898, 'relief': 1899, 'wander': 1900, 'defin': 1901, 'sinatra': 1902, 'accident': 1903, 'lawyer': 1904, 'hall': 1905, 'treatment': 1906, 'dragon': 1907, 'captiv': 1908, 'hank': 1909, 'moor': 1910, 'gratuit': 1911, 'halloween': 1912, 'wayn': 1913, 'k': 1914, 'jacki': 1915, 'kung': 1916, 'wound': 1917, 'broadway': 1918, 'barbara': 1919, 'unintent': 1920, 'cowboy': 1921, 'surreal': 1922, 'canadian': 1923, 'statement': 1924, 'spoof': 1925, 'winter': 1926, 'cheer': 1927, 'compos': 1928, 'fish': 1929, 'treasur': 1930, 'fare': 1931, 'gonna': 1932, 'sensit': 1933, 'emerg': 1934, 'unrealist': 1935, 'woodi': 1936, 'victor': 1937, 'sympathet': 1938, 'ran': 1939, 'neighbor': 1940, 'driven': 1941, 'expos': 1942, 'topic': 1943, 'authent': 1944, 'glass': 1945, 'menac': 1946, 'overlook': 1947, 'handsom': 1948, 'chief': 1949, 'gross': 1950, 'ancient': 1951, 'michel': 1952, 'contemporari': 1953, 'built': 1954, 'network': 1955, 'comedian': 1956, 'feet': 1957, 'nevertheless': 1958, 'stranger': 1959, 'pleasant': 1960, 'russel': 1961, 'cinderella': 1962, 'miser': 1963, 'gori': 1964, 'earn': 1965, 'letter': 1966, 'underr': 1967, 'consider': 1968, 'endless': 1969, 'blockbust': 1970, 'brook': 1971, 'switch': 1972, 'solv': 1973, 'bullet': 1974, 'virgin': 1975, 'convict': 1976, 'joseph': 1977, 'edward': 1978, 'victoria': 1979, 'chosen': 1980, '0': 1981, 'alex': 1982, 'cynic': 1983, 'scale': 1984, 'scenario': 1985, 'gut': 1986, 'outrag': 1987, 'sword': 1988, 'curs': 1989, 'com': 1990, 'screenwrit': 1991, 'driver': 1992, 'substanc': 1993, 'monkey': 1994, 'uk': 1995, 'wrap': 1996, 'proper': 1997, 'juli': 1998, 'bird': 1999, 'indic': 2000, 'par': 2001, 'remov': 2002, 'court': 2003, 'inevit': 2004, 'advertis': 2005, 'naiv': 2006, 'rental': 2007, 'loser': 2008, 'roy': 2009, 'consequ': 2010, 'nanci': 2011, 'grave': 2012, 'fatal': 2013, 'invis': 2014, 'bridg': 2015, 'le': 2016, 'brave': 2017, 'germani': 2018, 'slap': 2019, 'ador': 2020, 'footbal': 2021, 'anger': 2022, 'provok': 2023, 'loui': 2024, 'alcohol': 2025, 'anderson': 2026, 'chan': 2027, 'willi': 2028, 'professor': 2029, 'stumbl': 2030, 'ryan': 2031, '1930': 2032, 'assassin': 2033, 'sharp': 2034, 'patrick': 2035, 'australian': 2036, 'bat': 2037, 'saturday': 2038, 'liber': 2039, 'lousi': 2040, 'heck': 2041, 'trilog': 2042, 'eight': 2043, 'strongli': 2044, 'deni': 2045, 'amateurish': 2046, 'refresh': 2047, 'cell': 2048, 'ape': 2049, 'sin': 2050, 'resid': 2051, 'san': 2052, 'vagu': 2053, 'justifi': 2054, 'defeat': 2055, 'creator': 2056, 'indi': 2057, 'reput': 2058, 'sympathi': 2059, 'terrifi': 2060, 'mini': 2061, 'task': 2062, 'endur': 2063, 'tediou': 2064, 'tabl': 2065, 'expert': 2066, 'prevent': 2067, 'che': 2068, 'trial': 2069, 'rival': 2070, 'employ': 2071, 'basebal': 2072, 'imit': 2073, 'offend': 2074, 'beach': 2075, 'dig': 2076, 'fairi': 2077, 'weekend': 2078, 'pitch': 2079, 'europ': 2080, 'complaint': 2081, 'max': 2082, 'format': 2083, 'purchas': 2084, 'risk': 2085, 'murphi': 2086, 'hype': 2087, 'glimps': 2088, 'powel': 2089, 'harsh': 2090, 'nois': 2091, 'tini': 2092, 'bite': 2093, 'reminisc': 2094, 'titan': 2095, 'strip': 2096, 'north': 2097, 'fals': 2098, 'till': 2099, 'prime': 2100, '14': 2101, 'asleep': 2102, 'destruct': 2103, 'texa': 2104, 'descript': 2105, 'africa': 2106, 'revel': 2107, 'arrest': 2108, 'semi': 2109, 'uninterest': 2110, 'sitcom': 2111, 'spin': 2112, 'surfac': 2113, 'excess': 2114, 'inner': 2115, 'controversi': 2116, 'maintain': 2117, 'makeup': 2118, 'twin': 2119, 'hitchcock': 2120, 'argu': 2121, 'dinosaur': 2122, 'massiv': 2123, 'stare': 2124, 'ludicr': 2125, 'expens': 2126, 'kim': 2127, 'reject': 2128, 'insist': 2129, 'melodrama': 2130, 'ideal': 2131, 'forest': 2132, 'atroci': 2133, 'nail': 2134, 'erot': 2135, 'ala': 2136, 'host': 2137, 'ga': 2138, 'press': 2139, 'subplot': 2140, 'columbo': 2141, 'supernatur': 2142, 'notch': 2143, 'identifi': 2144, 'presum': 2145, 'cant': 2146, 'dude': 2147, 'closer': 2148, 'crude': 2149, 'guest': 2150, 'method': 2151, 'plagu': 2152, 'forgett': 2153, 'character': 2154, 'beast': 2155, 'princess': 2156, 'ear': 2157, 'landscap': 2158, 'lion': 2159, 'border': 2160, 'foster': 2161, 'pacino': 2162, 'bound': 2163, 'damag': 2164, 'accus': 2165, 'urban': 2166, 'birth': 2167, 'aunt': 2168, 'previous': 2169, 'storytel': 2170, 'jungl': 2171, 'nude': 2172, 'propaganda': 2173, 'chose': 2174, 'jess': 2175, 'thirti': 2176, 'doll': 2177, 'guid': 2178, 'emma': 2179, 'warrior': 2180, 'pet': 2181, '25': 2182, 'mate': 2183, 'whoever': 2184, 'mainstream': 2185, 'poster': 2186, 'friday': 2187, 'deadli': 2188, 'merit': 2189, 'upset': 2190, 'size': 2191, 'exact': 2192, 'gritti': 2193, 'cooper': 2194, 'latest': 2195, 'buff': 2196, 'settl': 2197, 'warner': 2198, 'ton': 2199, 'contact': 2200, 'blend': 2201, 'rough': 2202, 'wilson': 2203, 'contest': 2204, 'sun': 2205, 'citizen': 2206, '1990': 2207, 'popul': 2208, 'corps': 2209, 'environ': 2210, 'widow': 2211, 'rat': 2212, 'alic': 2213, 'overcom': 2214, 'mgm': 2215, 'pitt': 2216, 'select': 2217, 'bu': 2218, 'metal': 2219, 'revolut': 2220, 'lift': 2221, 'guilti': 2222, 'link': 2223, 'particip': 2224, 'ted': 2225, '1960': 2226, 'matrix': 2227, 'prostitut': 2228, 'accompani': 2229, 'johnson': 2230, 'moron': 2231, 'corner': 2232, 'corpor': 2233, 'afternoon': 2234, 'exagger': 2235, 'doom': 2236, 'instal': 2237, 'multipl': 2238, 'leagu': 2239, 'clair': 2240, 'hood': 2241, 'friendli': 2242, 'holm': 2243, 'sincer': 2244, 'sunday': 2245, 'grim': 2246, 'examin': 2247, 'junk': 2248, 'defend': 2249, 'aka': 2250, 'hip': 2251, 'campi': 2252, 'blah': 2253, 'string': 2254, 'irish': 2255, 'advis': 2256, 'lugosi': 2257, 'rachel': 2258, 'varieti': 2259, 'confid': 2260, 'pro': 2261, 'tight': 2262, 'icon': 2263, 'shake': 2264, 'shut': 2265, 'directli': 2266, 'denni': 2267, 'mexican': 2268, 'attach': 2269, 'sullivan': 2270, 'goal': 2271, 'medic': 2272, 'jaw': 2273, 'sarah': 2274, 'sentenc': 2275, 'duke': 2276, 'prior': 2277, 'courag': 2278, 'truck': 2279, 'dean': 2280, 'terrorist': 2281, 'legendari': 2282, 'vietnam': 2283, 'breast': 2284, 'bourn': 2285, 'un': 2286, 'donald': 2287, 'yell': 2288, 'nose': 2289, 'entri': 2290, 'hong': 2291, 'proceed': 2292, 'split': 2293, 'behav': 2294, 'confess': 2295, 'everywher': 2296, 'forth': 2297, 'swim': 2298, 'crush': 2299, 'jerk': 2300, 'borrow': 2301, 'unconvinc': 2302, 'lifetim': 2303, 'gather': 2304, 'buri': 2305, 'concentr': 2306, 'stolen': 2307, 'turkey': 2308, 'deliveri': 2309, 'julia': 2310, 'spite': 2311, 'lip': 2312, 'pan': 2313, 'california': 2314, 'quest': 2315, 'downright': 2316, 'flight': 2317, 'offici': 2318, 'hoffman': 2319, 'china': 2320, 'proud': 2321, 'reward': 2322, 'freeman': 2323, 'fabul': 2324, 'inept': 2325, 'jon': 2326, 'notori': 2327, 'betray': 2328, 'sir': 2329, 'jail': 2330, 'encourag': 2331, 'worthwhil': 2332, 'lazi': 2333, 'fade': 2334, 'sink': 2335, 'retard': 2336, 'bag': 2337, 'storm': 2338, 'shower': 2339, 'survivor': 2340, 'branagh': 2341, 'bell': 2342, 'teeth': 2343, 'relev': 2344, 'cousin': 2345, 'imageri': 2346, 'lisa': 2347, 'susan': 2348, 'toler': 2349, 'mexico': 2350, 'summari': 2351, 'facial': 2352, 'hugh': 2353, 'tremend': 2354, 'quirki': 2355, 'trade': 2356, 'alright': 2357, 'stab': 2358, 'finger': 2359, 'shark': 2360, 'bride': 2361, 'blown': 2362, 'von': 2363, 'ha': 2364, 'hyster': 2365, 'pose': 2366, 'bitter': 2367, 'address': 2368, 'ned': 2369, 'ron': 2370, 'cruel': 2371, 'larri': 2372, 'bone': 2373, 'christ': 2374, 'scheme': 2375, 'afterward': 2376, 'tour': 2377, 'swear': 2378, 'snake': 2379, 'thumb': 2380, 'screw': 2381, 'pursu': 2382, 'beg': 2383, 'feed': 2384, 'distinct': 2385, 'traci': 2386, 'chair': 2387, 'raw': 2388, 'obscur': 2389, 'occas': 2390, 'photo': 2391, 'stomach': 2392, 'mechan': 2393, 'chain': 2394, 'holiday': 2395, 'argument': 2396, 'southern': 2397, 'render': 2398, 'hardi': 2399, 'gruesom': 2400, 'heavili': 2401, 'necessarili': 2402, 'resist': 2403, 'cabin': 2404, 'sidney': 2405, 'philip': 2406, 'racist': 2407, 'satan': 2408, 'understood': 2409, 'indulg': 2410, 'india': 2411, 'integr': 2412, 'lay': 2413, 'forgot': 2414, 'midnight': 2415, 'pregnant': 2416, 'fourth': 2417, 'belov': 2418, 'obnoxi': 2419, 'stalk': 2420, 'tongu': 2421, 'outfit': 2422, 'magazin': 2423, 'inhabit': 2424, 'carol': 2425, 'restor': 2426, 'ticket': 2427, 'garden': 2428, '17': 2429, 'deeper': 2430, 'slapstick': 2431, 'shoe': 2432, 'devot': 2433, 'brad': 2434, 'incid': 2435, 'lincoln': 2436, 'underground': 2437, 'anticip': 2438, 'disbelief': 2439, 'guarante': 2440, 'lili': 2441, 'benefit': 2442, 'divorc': 2443, 'elizabeth': 2444, 'maria': 2445, 'sandler': 2446, 'slave': 2447, 'explod': 2448, 'cring': 2449, 'princip': 2450, 'amazingli': 2451, 'mildli': 2452, 'creation': 2453, 'bbc': 2454, 'greater': 2455, 'capit': 2456, 'extraordinari': 2457, 'introduct': 2458, 'halfway': 2459, 'funnier': 2460, 'lesli': 2461, 'advantag': 2462, 'extent': 2463, 'enhanc': 2464, 'wreck': 2465, 'punish': 2466, 'text': 2467, 'overwhelm': 2468, 'transfer': 2469, 'tap': 2470, 'horrif': 2471, 'dynam': 2472, 'lane': 2473, 'east': 2474, 'plant': 2475, 'error': 2476, 'lo': 2477, 'preview': 2478, 'deliber': 2479, 'jessica': 2480, 'vacat': 2481, 'ensu': 2482, 'miller': 2483, 'sophist': 2484, 'basi': 2485, 'appli': 2486, 'miscast': 2487, '2000': 2488, 'vincent': 2489, 'homosexu': 2490, 'via': 2491, 'reed': 2492, 'uncomfort': 2493, 'measur': 2494, 'extend': 2495, 'elev': 2496, 'bollywood': 2497, 'sleazi': 2498, 'mansion': 2499, 'spoken': 2500, 'steel': 2501, 'conceiv': 2502, 'goofi': 2503, 'alter': 2504, 'overact': 2505, 'breathtak': 2506, 'fix': 2507, 'savag': 2508, 'stanley': 2509, 'assign': 2510, 'cathol': 2511, 'daili': 2512, 'hippi': 2513, 'blair': 2514, 'dentist': 2515, 'beer': 2516, 'melt': 2517, 'mous': 2518, 'inspector': 2519, 'burt': 2520, 'carpent': 2521, 'nowaday': 2522, 'subsequ': 2523, 'succe': 2524, 'sacrific': 2525, 'oppos': 2526, 'everyday': 2527, 'properli': 2528, 'neck': 2529, 'block': 2530, 'massacr': 2531, 'circl': 2532, 'laura': 2533, 'mob': 2534, 'grey': 2535, 'seagal': 2536, 'lesser': 2537, 'fay': 2538, 'pool': 2539, 'fallen': 2540, 'access': 2541, 'concert': 2542, 'portrait': 2543, 'christi': 2544, 'relax': 2545, 'competit': 2546, 'chees': 2547, 'jake': 2548, 'usa': 2549, 'react': 2550, 'isol': 2551, 'jewish': 2552, 'sinist': 2553, 'nine': 2554, 'immens': 2555, 'stink': 2556, 'nonetheless': 2557, 'chop': 2558, '2006': 2559, 'appal': 2560, 'lyric': 2561, 'suitabl': 2562, 'creep': 2563, 'spiritu': 2564, 'ironi': 2565, 'shirt': 2566, 'retir': 2567, 'luci': 2568, 'reduc': 2569, 'sold': 2570, 'franchis': 2571, 'nut': 2572, 'rage': 2573, 'user': 2574, 'needless': 2575, 'adopt': 2576, 'spring': 2577, 'showcas': 2578, 'navi': 2579, 'asham': 2580, 'per': 2581, 'jay': 2582, 'bath': 2583, 'nurs': 2584, 'digit': 2585, 'uninspir': 2586, 'bulli': 2587, 'zone': 2588, 'stanwyck': 2589, 'upper': 2590, 'amongst': 2591, 'laid': 2592, '2001': 2593, 'illustr': 2594, '1940': 2595, 'broadcast': 2596, 'sutherland': 2597, 'oddli': 2598, 'aspir': 2599, 'stylish': 2600, 'fulfil': 2601, 'brando': 2602, 'throat': 2603, 'disguis': 2604, 'baker': 2605, 'wanna': 2606, 'impli': 2607, 'thief': 2608, 'endear': 2609, 'pound': 2610, 'em': 2611, 'pride': 2612, 'neighborhood': 2613, 'nobl': 2614, 'wwii': 2615, '18': 2616, 'bett': 2617, 'coher': 2618, 'diseas': 2619, 'shift': 2620, 'prop': 2621, 'cinematograph': 2622, 'tens': 2623, 'distribut': 2624, 'dinner': 2625, 'rochest': 2626, 'albeit': 2627, 'shoulder': 2628, '16': 2629, 'dawn': 2630, 'bo': 2631, 'knife': 2632, 'forti': 2633, 'contract': 2634, 'snow': 2635, 'function': 2636, 'shout': 2637, 'matthau': 2638, 'silenc': 2639, 'wash': 2640, 'rebel': 2641, 'poignant': 2642, 'surf': 2643, 'reunion': 2644, 'horrend': 2645, 'henc': 2646, 'derek': 2647, 'heat': 2648, 'internet': 2649, 'eeri': 2650, 'cancel': 2651, 'proof': 2652, 'mindless': 2653, 'widmark': 2654, 'silver': 2655, 'cannib': 2656, 'chuck': 2657, 'height': 2658, 'duti': 2659, 'elvira': 2660, 'instinct': 2661, 'torn': 2662, 'glori': 2663, 'repetit': 2664, 'elvi': 2665, 'neat': 2666, 'musician': 2667, 'spielberg': 2668, 'incoher': 2669, 'pie': 2670, 'greatli': 2671, 'innov': 2672, 'etern': 2673, 'mill': 2674, 'alik': 2675, 'absorb': 2676, 'premier': 2677, 'trite': 2678, 'diamond': 2679, 'wealthi': 2680, 'burton': 2681, 'redempt': 2682, 'bang': 2683, 'britain': 2684, 'racism': 2685, 'fbi': 2686, 'homag': 2687, 'itali': 2688, 'precis': 2689, 'announc': 2690, 'crisi': 2691, 'lovabl': 2692, 'infam': 2693, 'horrifi': 2694, 'nelson': 2695, 'blank': 2696, 'flop': 2697, 'dedic': 2698, 'helen': 2699, 'happili': 2700, 'parallel': 2701, 'ensembl': 2702, 'wilder': 2703, 'hammer': 2704, 'pat': 2705, 'chaplin': 2706, 'streisand': 2707, 'resolut': 2708, 'cube': 2709, 'st': 2710, 'triumph': 2711, 'conclud': 2712, 'carter': 2713, 'oil': 2714, 'broke': 2715, 'plastic': 2716, 'mar': 2717, 'disagre': 2718, 'factori': 2719, 'climb': 2720, 'fighter': 2721, 'bush': 2722, 'vega': 2723, 'weight': 2724, 'row': 2725, 'own': 2726, 'march': 2727, 'chuckl': 2728, 'rocket': 2729, 'kurt': 2730, 'dump': 2731, 'enorm': 2732, 'thug': 2733, 'lust': 2734, 'spare': 2735, 'unforgett': 2736, 'boot': 2737, 'sensibl': 2738, 'dane': 2739, 'meaning': 2740, 'mst3k': 2741, 'wherea': 2742, 'luca': 2743, 'butt': 2744, 'difficulti': 2745, 'caricatur': 2746, 'brand': 2747, 'bobbi': 2748, 'stress': 2749, 'adequ': 2750, 'threat': 2751, 'karloff': 2752, 'dear': 2753, 'fifti': 2754, 'rap': 2755, 'engin': 2756, 'arnold': 2757, 'barri': 2758, 'elabor': 2759, 'secretari': 2760, 'polish': 2761, 'hamlet': 2762, 'swing': 2763, 'arrog': 2764, 'flynn': 2765, 'ego': 2766, 'journalist': 2767, 'homeless': 2768, 'ralph': 2769, 'fest': 2770, 'unbear': 2771, 'induc': 2772, 'float': 2773, 'spike': 2774, 'resort': 2775, 'conspiraci': 2776, 'tool': 2777, 'fanci': 2778, 'puppet': 2779, 'arrang': 2780, 'simpson': 2781, 'grate': 2782, 'exercis': 2783, 'cruis': 2784, 'tribut': 2785, 'pig': 2786, 'phillip': 2787, 'muppet': 2788, 'boll': 2789, 'guilt': 2790, 'choreograph': 2791, 'basement': 2792, 'editor': 2793, 'toilet': 2794, 'fianc': 2795, 'slip': 2796, 'puzzl': 2797, 'file': 2798, 'medium': 2799, 'korean': 2800, '24': 2801, 'layer': 2802, 'babe': 2803, 'ham': 2804, 'scarecrow': 2805, 'ward': 2806, 'item': 2807, 'document': 2808, 'stan': 2809, 'tower': 2810, 'persona': 2811, 'minim': 2812, 'transit': 2813, 'assur': 2814, 'philosoph': 2815, 'glover': 2816, 'catherin': 2817, 'orient': 2818, 'doc': 2819, 'spark': 2820, 'larger': 2821, 'superfici': 2822, 'territori': 2823, 'inexplic': 2824, 'slaughter': 2825, 'librari': 2826, 'denzel': 2827, 'portion': 2828, 'jeremi': 2829, 'financi': 2830, 'walken': 2831, 'boredom': 2832, 'curti': 2833, 'ban': 2834, 'owe': 2835, 'pg': 2836, 'shi': 2837, 'dorothi': 2838, 'sneak': 2839, 'jet': 2840, 'wolf': 2841, 'metaphor': 2842, 'multi': 2843, 'hudson': 2844, 'backdrop': 2845, 'ambigu': 2846, 'profound': 2847, 'whale': 2848, 'cusack': 2849, 'eleph': 2850, 'notion': 2851, 'viru': 2852, 'gadget': 2853, '2005': 2854, 'stiff': 2855, 'elsewher': 2856, 'hack': 2857, 'rave': 2858, 'birthday': 2859, 'union': 2860, 'ultra': 2861, 'implaus': 2862, 'reader': 2863, 'superhero': 2864, 'eastwood': 2865, 'slight': 2866, 'deriv': 2867, 'pad': 2868, '1st': 2869, 'afford': 2870, 'urg': 2871, 'newspap': 2872, 'squar': 2873, 'lloyd': 2874, 'hawk': 2875, 'distanc': 2876, 'poison': 2877, 'eva': 2878, 'disc': 2879, 'canada': 2880, 'bibl': 2881, 'drown': 2882, 'cure': 2883, 'health': 2884, 'sadist': 2885, 'charisma': 2886, 'spread': 2887, 'montag': 2888, 'huh': 2889, 'skit': 2890, 'button': 2891, 'heston': 2892, 'essenc': 2893, 'restaur': 2894, 'invest': 2895, 'estat': 2896, 'companion': 2897, 'peak': 2898, 'maniac': 2899, 'dealt': 2900, 'godfath': 2901, 'muslim': 2902, 'gradual': 2903, 'lab': 2904, 'fetch': 2905, 'scoobi': 2906, 'cup': 2907, 'tea': 2908, 'countless': 2909, 'kane': 2910, 'gothic': 2911, 'servant': 2912, 'alli': 2913, 'ritter': 2914, 'miik': 2915, 'subtleti': 2916, 'heroic': 2917, 'salli': 2918, 'briefli': 2919, 'elect': 2920, 'electr': 2921, 'charismat': 2922, 'iii': 2923, 'tender': 2924, 'nuanc': 2925, 'neil': 2926, 'admittedli': 2927, 'resourc': 2928, 'toss': 2929, 'grandmoth': 2930, 'wannab': 2931, 'bud': 2932, 'reel': 2933, 'ingredi': 2934, 'cole': 2935, 'poverti': 2936, 'pit': 2937, 'punk': 2938, 'carrey': 2939, 'kubrick': 2940, 'pauli': 2941, 'stood': 2942, 'stronger': 2943, 'shall': 2944, 'gate': 2945, 'label': 2946, 'reev': 2947, 'mild': 2948, 'mafia': 2949, 'dawson': 2950, 'easier': 2951, 'useless': 2952, 'smooth': 2953, 'tag': 2954, 'outcom': 2955, 'cardboard': 2956, 'smash': 2957, 'fond': 2958, 'terri': 2959, 'burst': 2960, 'updat': 2961, 'bakshi': 2962, 'cox': 2963, 'ian': 2964, 'assault': 2965, 'astair': 2966, 'rex': 2967, 'melodramat': 2968, 'vari': 2969, 'sketch': 2970, 'exchang': 2971, 'resolv': 2972, 'vulner': 2973, '2002': 2974, 'increasingli': 2975, 'qualifi': 2976, 'coincid': 2977, 'fist': 2978, 'samurai': 2979, 'divers': 2980, 'be': 2981, 'tame': 2982, 'reynold': 2983, 'insert': 2984, 'luckili': 2985, 'blast': 2986, 'scratch': 2987, 'suspend': 2988, 'conveni': 2989, 'brillianc': 2990, 'templ': 2991, 'ambiti': 2992, 'strictli': 2993, 'farm': 2994, 'coach': 2995, 'nuclear': 2996, 'matthew': 2997, 'gotta': 2998, 'seventi': 2999, 'walker': 3000, 'pin': 3001, 'hamilton': 3002, 'soprano': 3003, 'jami': 3004, 'fisher': 3005, 'meat': 3006, 'ninja': 3007, 'timeless': 3008, 'kudo': 3009, 'recreat': 3010, 'worthless': 3011, 'eccentr': 3012, 'closet': 3013, 'discoveri': 3014, 'joey': 3015, 'instantli': 3016, 'clock': 3017, 'struck': 3018, 'convolut': 3019, 'monk': 3020, 'grasp': 3021, 'spooki': 3022, 'empir': 3023, 'butcher': 3024, 'revers': 3025, 'cave': 3026, 'brosnan': 3027, 'declar': 3028, 'bleak': 3029, 'sidekick': 3030, 'sloppi': 3031, 'clown': 3032, 'communist': 3033, 'partli': 3034, 'wipe': 3035, 'selfish': 3036, 'evok': 3037, 'norman': 3038, 'pal': 3039, 'seller': 3040, 'importantli': 3041, 'fifteen': 3042, 'inconsist': 3043, 'cliff': 3044, 'mitchel': 3045, 'eighti': 3046, 'miracl': 3047, 'gray': 3048, 'websit': 3049, 'farc': 3050, 'superbl': 3051, 'aforement': 3052, 'piano': 3053, 'cheek': 3054, 'seed': 3055, 'ho': 3056, 'lifestyl': 3057, 'destin': 3058, 'chew': 3059, 'enthusiast': 3060, 'psychiatrist': 3061, 'stoog': 3062, '45': 3063, 'debat': 3064, 'australia': 3065, 'flawless': 3066, 'pressur': 3067, 'dash': 3068, 'kitchen': 3069, 'wrestl': 3070, 'splatter': 3071, 'drivel': 3072, 'slice': 3073, 'incompet': 3074, 'regardless': 3075, 'soviet': 3076, 'dire': 3077, 'emili': 3078, 'abc': 3079, 'akshay': 3080, 'anni': 3081, 'bash': 3082, 'directori': 3083, 'wick': 3084, 'jar': 3085, 'curios': 3086, 'ken': 3087, 'helicopt': 3088, 'glow': 3089, 'flower': 3090, 'beaten': 3091, 'dave': 3092, 'pleasantli': 3093, 'recov': 3094, 'cia': 3095, 'distant': 3096, 'chapter': 3097, 'increas': 3098, 'mann': 3099, 'suppli': 3100, 'boil': 3101, 'blob': 3102, 'cameron': 3103, 'artifici': 3104, 'seduc': 3105, 'lou': 3106, 'duo': 3107, 'judi': 3108, 'prize': 3109, 'cagney': 3110, 'doo': 3111, 'favour': 3112, 'perri': 3113, 'splendid': 3114, 'craig': 3115, 'combat': 3116, 'ellen': 3117, 'psychot': 3118, 'goldberg': 3119, 'ranger': 3120, 'panic': 3121, 'laurel': 3122, 'francisco': 3123, 'web': 3124, 'glenn': 3125, 'turner': 3126, 'craven': 3127, 'eleg': 3128, 'hop': 3129, 'drunken': 3130, 'philosophi': 3131, 'shortli': 3132, 'slightest': 3133, 'plausibl': 3134, 'rid': 3135, 'graduat': 3136, 'flip': 3137, 'alexand': 3138, 'wizard': 3139, 'falk': 3140, '20th': 3141, 'min': 3142, 'ruth': 3143, 'fx': 3144, 'hatr': 3145, 'gentl': 3146, 'gandhi': 3147, 'greek': 3148, 'modesti': 3149, 'preciou': 3150, 'dracula': 3151, 'jealou': 3152, 'harm': 3153, 'futurist': 3154, 'lend': 3155, 'manhattan': 3156, 'holi': 3157, 'knight': 3158, 'legal': 3159, 'unpleas': 3160, 'ocean': 3161, 'fund': 3162, 'we': 3163, 'tall': 3164, 'felix': 3165, 'reviv': 3166, 'digniti': 3167, 'explicit': 3168, 'nod': 3169, 'overdon': 3170, 'forbidden': 3171, 'bless': 3172, 'childish': 3173, 'thread': 3174, 'ami': 3175, 'giallo': 3176, 'scientif': 3177, 'mock': 3178, 'tank': 3179, 'eve': 3180, '2004': 3181, 'verhoeven': 3182, 'yesterday': 3183, 'repeatedli': 3184, 'awaken': 3185, 'unwatch': 3186, '99': 3187, 'awe': 3188, 'margaret': 3189, 'broad': 3190, 'elderli': 3191, 'mel': 3192, 'pirat': 3193, 'fever': 3194, 'thick': 3195, 'torment': 3196, 'nerv': 3197, 'acclaim': 3198, 'royal': 3199, 'ambit': 3200, 'stiller': 3201, 'launch': 3202, 'griffith': 3203, 'lean': 3204, 'publish': 3205, 'roman': 3206, 'eas': 3207, 'rivet': 3208, 'kay': 3209, 'romero': 3210, 'politician': 3211, 'timothi': 3212, 'absenc': 3213, 'bin': 3214, 'uniform': 3215, 'custom': 3216, 'automat': 3217, 'ah': 3218, 'phrase': 3219, 'bathroom': 3220, 'stinker': 3221, 'crook': 3222, 'termin': 3223, 'homicid': 3224, 'purpl': 3225, 'transport': 3226, 'gabriel': 3227, 'sunshin': 3228, 'pierc': 3229, 'warren': 3230, 'antic': 3231, 'foul': 3232, 'tomato': 3233, 'darker': 3234, 'pulp': 3235, 'wallac': 3236, 'revolutionari': 3237, 'saint': 3238, 'sixti': 3239, 'packag': 3240, 'horrid': 3241, '2003': 3242, 'contrari': 3243, 'marin': 3244, 'hollow': 3245, 'viciou': 3246, 'kenneth': 3247, 'brazil': 3248, 'juvenil': 3249, 'q': 3250, 'karen': 3251, 'pray': 3252, 'coloni': 3253, 'ought': 3254, 'eyr': 3255, 'album': 3256, 'choreographi': 3257, 'donna': 3258, 'li': 3259, 'evolv': 3260, 'awak': 3261, 'rambo': 3262, 'prom': 3263, 'conserv': 3264, 'beatti': 3265, 'twelv': 3266, 'defi': 3267, 'candid': 3268, 'blade': 3269, 'overr': 3270, 'nerd': 3271, 'dose': 3272, 'mummi': 3273, 'ireland': 3274, 'kapoor': 3275, 'boast': 3276, 'ramon': 3277, 'option': 3278, 'mildr': 3279, 'stole': 3280, 'funer': 3281, 'confirm': 3282, 'jazz': 3283, 'flame': 3284, 'collabor': 3285, 'kirk': 3286, 'trio': 3287, 'fulci': 3288, 'astonish': 3289, 'protest': 3290, 'detract': 3291, 'altman': 3292, 'global': 3293, 'natali': 3294, 'enterpris': 3295, 'leap': 3296, 'yellow': 3297, 'racial': 3298, 'tommi': 3299, 'bottl': 3300, 'shade': 3301, 'delici': 3302, 'spit': 3303, 'whip': 3304, 'nicholson': 3305, 'destini': 3306, 'blake': 3307, 'mystic': 3308, 'audio': 3309, 'bull': 3310, 'bedroom': 3311, 'harder': 3312, 'fonda': 3313, 'neo': 3314, 'pseudo': 3315, 'reunit': 3316, 'merci': 3317, 'visibl': 3318, 'inherit': 3319, 'adolesc': 3320, 'enchant': 3321, 'threw': 3322, 'staff': 3323, 'vivid': 3324, 'altogeth': 3325, 'meaningless': 3326, 'swedish': 3327, 'todd': 3328, 'popcorn': 3329, 'await': 3330, 'suspici': 3331, 'jew': 3332, 'respond': 3333, 'madonna': 3334, 'exhibit': 3335, 'lawrenc': 3336, 'uneven': 3337, 'decor': 3338, 'synopsi': 3339, 'wire': 3340, 'kennedi': 3341, 'befriend': 3342, 'ruthless': 3343, 'reserv': 3344, 'bust': 3345, 'atlanti': 3346, 'roommat': 3347, 'fanat': 3348, 'voight': 3349, 'moodi': 3350, 'leonard': 3351, 'crocodil': 3352, 'tip': 3353, 'lemmon': 3354, 'edi': 3355, 'incident': 3356, 'clint': 3357, 'carl': 3358, 'centr': 3359, 'rural': 3360, 'audit': 3361, 'palma': 3362, 'dimens': 3363, 'ventur': 3364, 'unsettl': 3365, 'clumsi': 3366, '2007': 3367, 'bold': 3368, 'chao': 3369, 'holli': 3370, 'bargain': 3371, 'bradi': 3372, 'abysm': 3373, 'garner': 3374, 'voyag': 3375, 'cuba': 3376, 'imperson': 3377, 'hart': 3378, 'troop': 3379, 'poetic': 3380, 'neglect': 3381, 'tiger': 3382, 'daddi': 3383, 'wealth': 3384, '2nd': 3385, 'trail': 3386, 'immigr': 3387, 'echo': 3388, 'acknowledg': 3389, 'nearbi': 3390, 'cd': 3391, 'elimin': 3392, 'versu': 3393, 'mall': 3394, 'characterist': 3395, 'lit': 3396, 'cari': 3397, 'humili': 3398, 'timon': 3399, 'ant': 3400, 'domest': 3401, 'marshal': 3402, 'collaps': 3403, 'mickey': 3404, 'jeffrey': 3405, 'solo': 3406, 'prejudic': 3407, 'saga': 3408, 'mistaken': 3409, 'infect': 3410, 'celluloid': 3411, 'repuls': 3412, 'paus': 3413, 'homer': 3414, 'pun': 3415, 'sore': 3416, 'inappropri': 3417, 'harvey': 3418, 'inan': 3419, 'milk': 3420, 'interrupt': 3421, 'undoubtedli': 3422, 'coat': 3423, 'promin': 3424, 'coffe': 3425, 'assembl': 3426, 'gear': 3427, 'apolog': 3428, 'chest': 3429, 'olivi': 3430, 'hbo': 3431, 'tribe': 3432, 'leon': 3433, 'ginger': 3434, '1996': 3435, 'equip': 3436, 'pant': 3437, 'cake': 3438, 'vulgar': 3439, 'instant': 3440, 'institut': 3441, 'colleagu': 3442, 'exot': 3443, 'highest': 3444, 'airplan': 3445, 'consum': 3446, 'brooklyn': 3447, 'furthermor': 3448, 'primari': 3449, 'devast': 3450, 'humbl': 3451, 'retain': 3452, 'solut': 3453, 'maggi': 3454, 'trace': 3455, 'polanski': 3456, 'florida': 3457, 'pen': 3458, 'pot': 3459, 'aveng': 3460, 'colonel': 3461, 'embrac': 3462, 'jenni': 3463, 'rick': 3464, 'dutch': 3465, 'dian': 3466, 'poke': 3467, 'outer': 3468, 'strain': 3469, 'bowl': 3470, '3rd': 3471, '1999': 3472, 'godzilla': 3473, 'illog': 3474, 'seduct': 3475, 'smaller': 3476, 'descend': 3477, 'gender': 3478, 'wive': 3479, 'disabl': 3480, 'cope': 3481, 'sale': 3482, 'linda': 3483, 'principl': 3484, 'ya': 3485, 'mixtur': 3486, 'bubbl': 3487, 'cue': 3488, 'blatant': 3489, 'yard': 3490, 'beneath': 3491, 'inferior': 3492, 'dive': 3493, 'secondli': 3494, 'glamor': 3495, 'lol': 3496, 'vast': 3497, 'rabbit': 3498, 'gundam': 3499, 'predecessor': 3500, 'dud': 3501, 'primarili': 3502, 'scope': 3503, 'gloriou': 3504, 'devoid': 3505, 'hal': 3506, 'senseless': 3507, 'disjoint': 3508, 'hideou': 3509, 'grinch': 3510, 'arab': 3511, 'et': 3512, 'streep': 3513, 'aggress': 3514, 'pearl': 3515, 'z': 3516, 'countrysid': 3517, 'alfr': 3518, 'talki': 3519, 'simplist': 3520, 'trademark': 3521, 'april': 3522, 'casual': 3523, 'alert': 3524, 'domino': 3525, 'museum': 3526, 'shirley': 3527, 'shelf': 3528, 'garbo': 3529, 'breed': 3530, 'invas': 3531, 'myer': 3532, 'hopeless': 3533, 'stir': 3534, 'loyal': 3535, 'boom': 3536, 'mayor': 3537, 'maci': 3538, 'hardcor': 3539, 'slide': 3540, 'acid': 3541, 'robinson': 3542, 'rendit': 3543, 'vanish': 3544, 'oz': 3545, 'obtain': 3546, 'illeg': 3547, 'unhappi': 3548, 'experiment': 3549, 'applaud': 3550, 'defens': 3551, 'mail': 3552, 'disgrac': 3553, 'khan': 3554, 'robberi': 3555, 'uwe': 3556, 'stellar': 3557, 'stack': 3558, 'sh': 3559, 'blew': 3560, 'span': 3561, 'topless': 3562, 'soccer': 3563, 'fri': 3564, 'counter': 3565, 'rifl': 3566, 'wont': 3567, 'incomprehens': 3568, 'dismiss': 3569, 'psychic': 3570, 'tenant': 3571, 'emphasi': 3572, 'berlin': 3573, 'craze': 3574, 'grandfath': 3575, 'diana': 3576, 'dicken': 3577, 'scroog': 3578, 'recruit': 3579, 'declin': 3580, 'tempt': 3581, 'amanda': 3582, 'hartley': 3583, 'spider': 3584, 'faster': 3585, 'trashi': 3586, 'ration': 3587, 'ethnic': 3588, 'riot': 3589, 'revolt': 3590, 'intim': 3591, 'parad': 3592, 'goer': 3593, 'wet': 3594, 'sympath': 3595, 'shed': 3596, 'sibl': 3597, 'porno': 3598, 'shaw': 3599, 'lumet': 3600, 'resurrect': 3601, 'bitch': 3602, 'niro': 3603, 'woo': 3604, 'justin': 3605, 'hesit': 3606, 'ensur': 3607, 'honesti': 3608, 'unreal': 3609, 'dealer': 3610, 'choru': 3611, 'feminist': 3612, 'hopper': 3613, 'slick': 3614, 'farmer': 3615, 'nephew': 3616, 'wendi': 3617, 'enlighten': 3618, 'region': 3619, 'partial': 3620, 'biographi': 3621, 'lena': 3622, 'rider': 3623, '00': 3624, 'immort': 3625, 'mario': 3626, 'weakest': 3627, 'steam': 3628, 'gap': 3629, 'ballet': 3630, 'wheel': 3631, 'eager': 3632, 'andr': 3633, 'worm': 3634, 'jonathan': 3635, 'commend': 3636, 'patriot': 3637, 'similarli': 3638, 'properti': 3639, 'composit': 3640, 'prequel': 3641, 'wore': 3642, 'hung': 3643, 'vice': 3644, 'util': 3645, 'victori': 3646, 'safeti': 3647, 'psychopath': 3648, 'snap': 3649, 'franco': 3650, 'skull': 3651, 'sandra': 3652, 'kingdom': 3653, 'confin': 3654, 'blunt': 3655, 'repress': 3656, 'nostalg': 3657, 'leo': 3658, 'morri': 3659, 'charlott': 3660, 'sappi': 3661, 'mutant': 3662, 'owen': 3663, 'macarthur': 3664, 'emperor': 3665, 'del': 3666, 'despair': 3667, 'kyle': 3668, 'heartbreak': 3669, 'drum': 3670, 'dust': 3671, 'bumbl': 3672, 'farrel': 3673, 'hyde': 3674, 'compens': 3675, 'acquir': 3676, 'pattern': 3677, 'strand': 3678, 'nervou': 3679, 'dalton': 3680, 'exit': 3681, 'rope': 3682, 'whoopi': 3683, 'speci': 3684, 'campbel': 3685, 'valuabl': 3686, 'deed': 3687, 'thru': 3688, 'bonu': 3689, 'repli': 3690, 'miseri': 3691, 'drain': 3692, 'snl': 3693, 'bow': 3694, 'tail': 3695, 'montana': 3696, 'tad': 3697, 'rocki': 3698, 'compass': 3699, 'cg': 3700, 'recycl': 3701, 'latin': 3702, '1972': 3703, 'bergman': 3704, 'rambl': 3705, 'contempl': 3706, 'da': 3707, 'rotten': 3708, 'radic': 3709, 'downhil': 3710, 'oppress': 3711, 'wacki': 3712, 'gimmick': 3713, 'mistress': 3714, '35': 3715, 'pour': 3716, 'chess': 3717, 'tonight': 3718, 'airport': 3719, 'rapist': 3720, 'carradin': 3721, 'percept': 3722, 'bleed': 3723, 'olli': 3724, 'roth': 3725, 'orson': 3726, 'martian': 3727, 'slug': 3728, 'gal': 3729, 'romp': 3730, 'pervers': 3731, 'tackl': 3732, 'banal': 3733, 'unpredict': 3734, '1983': 3735, 'heal': 3736, 'pervert': 3737, 'champion': 3738, 'belt': 3739, 'edgar': 3740, 'arguabl': 3741, 'pursuit': 3742, 'preach': 3743, 'stilt': 3744, 'taught': 3745, 'paltrow': 3746, 'attorney': 3747, 'melodi': 3748, 'arc': 3749, 'slash': 3750, 'programm': 3751, 'shelley': 3752, 'mislead': 3753, 'dazzl': 3754, 'tooth': 3755, 'cleverli': 3756, 'closest': 3757, 'chicken': 3758, 'tiresom': 3759, 'virginia': 3760, 'plight': 3761, 'gambl': 3762, 'vocal': 3763, 'maid': 3764, 'vengeanc': 3765, 'employe': 3766, 'conneri': 3767, 'orang': 3768, 'graham': 3769, 'rubi': 3770, 'sensat': 3771, 'uplift': 3772, 'mesmer': 3773, 'raymond': 3774, 'poem': 3775, 'dixon': 3776, 'passeng': 3777, 'bela': 3778, 'marti': 3779, 'duval': 3780, 'franki': 3781, 'habit': 3782, 'paranoia': 3783, 'monologu': 3784, 'mute': 3785, 'inject': 3786, 'gerard': 3787, 'quarter': 3788, 'extens': 3789, 'climact': 3790, 'yawn': 3791, 'amitabh': 3792, 'crystal': 3793, 'engross': 3794, 'giggl': 3795, 'calm': 3796, 'secretli': 3797, 'abraham': 3798, 'whine': 3799, 'suffic': 3800, 'volum': 3801, 'profan': 3802, 'clone': 3803, 'swallow': 3804, 'bay': 3805, 'convincingli': 3806, 'numb': 3807, 'tube': 3808, '1968': 3809, 'iran': 3810, 'sirk': 3811, 'scottish': 3812, 'outing': 3813, 'lundgren': 3814, 'pokemon': 3815, 'expand': 3816, 'fed': 3817, 'poetri': 3818, 'abort': 3819, 'frankenstein': 3820, 'nichola': 3821, 'underst': 3822, 'grotesqu': 3823, 'earl': 3824, 'lowest': 3825, 'junior': 3826, 'plod': 3827, 'bend': 3828, 'franci': 3829, 'linger': 3830, 'backward': 3831, 'ethan': 3832, 'surpass': 3833, 'spock': 3834, 'austen': 3835, 'dispos': 3836, 'chicago': 3837, 'trend': 3838, 'profess': 3839, 'meander': 3840, 'richardson': 3841, 'taxi': 3842, 'septemb': 3843, 'im': 3844, 'tourist': 3845, 'econom': 3846, 'descent': 3847, 'greedi': 3848, 'rubber': 3849, 'rant': 3850, 'compliment': 3851, 'instrument': 3852, 'catchi': 3853, 'literatur': 3854, 'dysfunct': 3855, 'muddl': 3856, 'hum': 3857, 'myth': 3858, 'waitress': 3859, 'household': 3860, 'der': 3861, 'simplic': 3862, 'lure': 3863, 'nostalgia': 3864, 'cannon': 3865, 'mundan': 3866, 'spoke': 3867, 'eugen': 3868, 'sue': 3869, 'stallon': 3870, 'irrelev': 3871, 'crucial': 3872, 'june': 3873, 'recognit': 3874, 'dement': 3875, 'coast': 3876, 'hello': 3877, 'phantom': 3878, 'bacal': 3879, 'recognis': 3880, 'eaten': 3881, 'map': 3882, 'damon': 3883, 'flee': 3884, 'omen': 3885, 'furi': 3886, 'equival': 3887, 'firstli': 3888, 'louis': 3889, 'occupi': 3890, 'lang': 3891, 'mortal': 3892, 'molli': 3893, 'mankind': 3894, 'randi': 3895, 'stale': 3896, 'duck': 3897, 'alongsid': 3898, 'deaf': 3899, 'insur': 3900, 'dictat': 3901, 'phoni': 3902, 'sissi': 3903, 'cent': 3904, 'carel': 3905, 'likewis': 3906, 'lengthi': 3907, 'freez': 3908, 'grayson': 3909, 'bump': 3910, 'reign': 3911, 'loyalti': 3912, 'distinguish': 3913, 'heel': 3914, 'newli': 3915, 'rude': 3916, 'labor': 3917, 'dreari': 3918, 'ashley': 3919, 'blackmail': 3920, '1973': 3921, 'buffalo': 3922, 'wisdom': 3923, 'drake': 3924, 'cyborg': 3925, 'daisi': 3926, 'twilight': 3927, 'onlin': 3928, 'bike': 3929, 'damm': 3930, 'rooney': 3931, 'antwon': 3932, 'biko': 3933, 'keith': 3934, 'sailor': 3935, 'barrymor': 3936, 'butler': 3937, 'proce': 3938, 'emphas': 3939, 'pink': 3940, 'prey': 3941, 'analysi': 3942, 'boxer': 3943, 'nineti': 3944, 'provoc': 3945, 'ridden': 3946, 'incorpor': 3947, 'inher': 3948, 'attribut': 3949, 'worn': 3950, 'exposur': 3951, 'vein': 3952, 'startl': 3953, 'unorigin': 3954, 'baddi': 3955, 'approv': 3956, 'interior': 3957, 'tunnel': 3958, 'basketbal': 3959, 'chronicl': 3960, 'unrel': 3961, 'condemn': 3962, 'belushi': 3963, 'predat': 3964, 'er': 3965, 'walsh': 3966, 'stalker': 3967, 'simmon': 3968, 'drift': 3969, 'othello': 3970, 'mormon': 3971, 'fleet': 3972, 'mighti': 3973, 'improvis': 3974, 'barrel': 3975, 'degrad': 3976, 'meyer': 3977, 'underli': 3978, 'undeni': 3979, 'nicol': 3980, 'indiffer': 3981, 'hypnot': 3982, 'substitut': 3983, 'elm': 3984, 'meg': 3985, 'bunni': 3986, 'millionair': 3987, 'robbin': 3988, 'carla': 3989, 'julian': 3990, 'alarm': 3991, 'lampoon': 3992, 'watson': 3993, 'marion': 3994, 'hay': 3995, 'palac': 3996, 'exquisit': 3997, 'enthusiasm': 3998, 'unawar': 3999, 'errol': 4000, 'shove': 4001, 'greed': 4002, 'reid': 4003, 'edgi': 4004, 'mtv': 4005, 'warmth': 4006, 'roof': 4007, '3d': 4008, 'firm': 4009, 'vital': 4010, 'alison': 4011, 'priceless': 4012, 'disord': 4013, 'agenda': 4014, 'nyc': 4015, 'novak': 4016, 'rukh': 4017, 'dolph': 4018, 'petti': 4019, 'beatl': 4020, 'spain': 4021, 'cassidi': 4022, 'unleash': 4023, 'profit': 4024, 'campaign': 4025, 'ponder': 4026, 'thompson': 4027, 'championship': 4028, 'gestur': 4029, '13th': 4030, 'minimum': 4031, 'drip': 4032, 'israel': 4033, 'distort': 4034, 'glanc': 4035, 'orlean': 4036, 'what': 4037, 'iraq': 4038, 'nun': 4039, 'coup': 4040, 'randomli': 4041, 'sergeant': 4042, 'pamela': 4043, 'session': 4044, 'simultan': 4045, 'angela': 4046, 'crown': 4047, 'testament': 4048, '1933': 4049, 'showdown': 4050, 'peril': 4051, 'preserv': 4052, 'eastern': 4053, 'peck': 4054, 'valentin': 4055, 'zizek': 4056, 'stake': 4057, 'contradict': 4058, 'wig': 4059, 'fido': 4060, 'scotland': 4061, 'brenda': 4062, 'climat': 4063, 'valley': 4064, 'represent': 4065, 'restrain': 4066, 'perpetu': 4067, 'gentleman': 4068, 'reson': 4069, 'crawl': 4070, 'cooki': 4071, 'stroke': 4072, 'shootout': 4073, 'quinn': 4074, 'rout': 4075, 'miyazaki': 4076, 'travesti': 4077, 'calib': 4078, 'empathi': 4079, 'cream': 4080, 'crow': 4081, 'bro': 4082, 'exposit': 4083, 'buster': 4084, '1984': 4085, 'unimagin': 4086, 'jan': 4087, 'kurosawa': 4088, 'han': 4089, 'mon': 4090, 'regist': 4091, 'realm': 4092, 'sabrina': 4093, 'din': 4094, 'soderbergh': 4095, 'baldwin': 4096, 'cloud': 4097, 'delic': 4098, 'compromis': 4099, 'femm': 4100, 'businessman': 4101, 'crawford': 4102, 'censor': 4103, 'tacki': 4104, 'geek': 4105, 'pole': 4106, 'unsatisfi': 4107, 'distress': 4108, 'sucker': 4109, 'spacey': 4110, 'abomin': 4111, 'fuller': 4112, 'monoton': 4113, 'demis': 4114, 'passabl': 4115, 'sammi': 4116, 'shoddi': 4117, 'absent': 4118, 'unseen': 4119, 'meryl': 4120, 'wax': 4121, 'derang': 4122, 'shaki': 4123, 'josh': 4124, 'ustinov': 4125, 'traumat': 4126, 'warrant': 4127, 'perceiv': 4128, '1987': 4129, 'painter': 4130, 'ross': 4131, 'stargat': 4132, '1997': 4133, 'dana': 4134, 'greg': 4135, 'pretens': 4136, 'mclaglen': 4137, 'darren': 4138, 'reluct': 4139, 'seal': 4140, 'valid': 4141, 'jewel': 4142, 'deniro': 4143, 'anchor': 4144, 'wholli': 4145, '1993': 4146, 'norm': 4147, 'primit': 4148, 'sid': 4149, 'uncov': 4150, 'nathan': 4151, 'austin': 4152, 'exclus': 4153, 'deceas': 4154, 'polici': 4155, 'dee': 4156, 'click': 4157, 'expedit': 4158, 'fog': 4159, 'kumar': 4160, 'accuraci': 4161, 'tarantino': 4162, 'verbal': 4163, 'tech': 4164, 'judgment': 4165, 'correctli': 4166, 'antonioni': 4167, 'fenc': 4168, 'furiou': 4169, 'clash': 4170, 'unravel': 4171, 'alec': 4172, 'nicola': 4173, 'vanc': 4174, 'sand': 4175, 'trait': 4176, 'fart': 4177, '1995': 4178, 'unfair': 4179, 'malon': 4180, 'joel': 4181, 'roller': 4182, 'wang': 4183, 'clerk': 4184, 'murray': 4185, 'seldom': 4186, 'patienc': 4187, 'crippl': 4188, 'darn': 4189, 'hallucin': 4190, 'sustain': 4191, 'conduct': 4192, 'fabric': 4193, 'wretch': 4194, 'logan': 4195, 'pocket': 4196, 'debt': 4197, 'sunni': 4198, 'slam': 4199, 'fought': 4200, 'ritual': 4201, '1971': 4202, 'enforc': 4203, 'mode': 4204, 'behold': 4205, 'shanghai': 4206, '2008': 4207, 'temper': 4208, 'dreck': 4209, '3000': 4210, 'sheet': 4211, 'bake': 4212, 'tax': 4213, 'legaci': 4214, 'guitar': 4215, 'squad': 4216, 'conscious': 4217, 'bias': 4218, 'penni': 4219, 'schedul': 4220, 'grief': 4221, 'rita': 4222, 'phil': 4223, 'outlin': 4224, 'helpless': 4225, 'despis': 4226, 'preston': 4227, 'sweep': 4228, 'runner': 4229, 'fundament': 4230, 'isabel': 4231, 'clau': 4232, 'technicolor': 4233, 'exhaust': 4234, 'scriptwrit': 4235, 'critiqu': 4236, 'canyon': 4237, 'stuart': 4238, 'robber': 4239, 'preposter': 4240, 'pete': 4241, 'soup': 4242, 'stark': 4243, 'divid': 4244, 'tactic': 4245, 'shell': 4246, 'bridget': 4247, 'liberti': 4248, 'alley': 4249, 'marc': 4250, 'delv': 4251, 'implic': 4252, 'gregori': 4253, 'sugar': 4254, 'agenc': 4255, 'flair': 4256, 'sniper': 4257, 'restrict': 4258, 'palanc': 4259, 'vomit': 4260, 'alicia': 4261, 'drove': 4262, 'culmin': 4263, 'passag': 4264, 'jacket': 4265, 'downey': 4266, 'sentinel': 4267, 'consciou': 4268, 'russia': 4269, 'invad': 4270, 'kansa': 4271, 'unexpectedli': 4272, 'rehash': 4273, 'cigarett': 4274, 'propos': 4275, 'connor': 4276, 'boyl': 4277, 'inabl': 4278, 'rear': 4279, 'jodi': 4280, 'bloom': 4281, 'lacklust': 4282, 'newman': 4283, 'tendenc': 4284, 'wrench': 4285, 'asylum': 4286, 'feat': 4287, 'ladder': 4288, 'aesthet': 4289, 'chainsaw': 4290, 'pale': 4291, 'foxx': 4292, 'rampag': 4293, 'behaviour': 4294, '1936': 4295, 'horn': 4296, 'delet': 4297, 'bacon': 4298, 'improb': 4299, 'rod': 4300, 'vet': 4301, 'rehears': 4302, 'lush': 4303, 'arrow': 4304, '22': 4305, 'sharon': 4306, 'karl': 4307, 'awhil': 4308, 'tripe': 4309, 'cap': 4310, 'mccoy': 4311, 'kolchak': 4312, 'yeti': 4313, 'rhythm': 4314, 'financ': 4315, 'suffici': 4316, 'newcom': 4317, 'paramount': 4318, 'aristocrat': 4319, 'wildli': 4320, 'coaster': 4321, 'suspicion': 4322, '19th': 4323, 'spice': 4324, 'shortcom': 4325, 'weav': 4326, 'loneli': 4327, 'elit': 4328, 'globe': 4329, 'visitor': 4330, 'conscienc': 4331, '1920': 4332, 'hulk': 4333, 'rumor': 4334, 'sung': 4335, '1988': 4336, 'minu': 4337, 'stream': 4338, 'amazon': 4339, 'lurk': 4340, 'basing': 4341, 'filler': 4342, 'el': 4343, 'hackney': 4344, 'underneath': 4345, 'hungri': 4346, 'fright': 4347, 'paradis': 4348, 'prank': 4349, 'tomorrow': 4350, 'tasteless': 4351, 'wagner': 4352, 'thunderbird': 4353, 'scoop': 4354, '1978': 4355, 'en': 4356, 'impos': 4357, 'smell': 4358, 'quietli': 4359, 'counterpart': 4360, 'paxton': 4361, 'wwe': 4362, 'rub': 4363, 'secondari': 4364, 'entranc': 4365, 'leigh': 4366, 'chamberlain': 4367, 'naughti': 4368, 'choppi': 4369, 'iv': 4370, 'chavez': 4371, 'brit': 4372, 'grudg': 4373, 'atroc': 4374, 'teas': 4375, 'literari': 4376, 'standout': 4377, 'penn': 4378, 'abrupt': 4379, '1939': 4380, 'bread': 4381, 'minist': 4382, 'springer': 4383, 'hopkin': 4384, 'recogniz': 4385, 'worship': 4386, 'couch': 4387, 'immers': 4388, 'heist': 4389, 'inmat': 4390, 'curli': 4391, 'lectur': 4392, '1989': 4393, 'cancer': 4394, 'posey': 4395, 'ingeni': 4396, 'ram': 4397, 'dirt': 4398, '75': 4399, 'tierney': 4400, 'straightforward': 4401, 'beverli': 4402, 'quaid': 4403, 'transcend': 4404, 'lindsay': 4405, 'ace': 4406, 'geni': 4407, 'moreov': 4408, 'injuri': 4409, 'bernard': 4410, 'heartfelt': 4411, 'cattl': 4412, 'entitl': 4413, 'policeman': 4414, 'yearn': 4415, 'enthral': 4416, '1986': 4417, 'morbid': 4418, 'convert': 4419, 'net': 4420, 'sassi': 4421, 'watcher': 4422, 'sublim': 4423, 'misguid': 4424, 'duel': 4425, 'clan': 4426, 'attenborough': 4427, 'skeptic': 4428, 'variat': 4429, 'ratso': 4430, 'nemesi': 4431, 'esther': 4432, 'nolan': 4433, 'laurenc': 4434, 'missil': 4435, 'diari': 4436, 'grin': 4437, 'moder': 4438, 'obstacl': 4439, 'mytholog': 4440, 'cruelti': 4441, 'buzz': 4442, 'reliabl': 4443, 'uncut': 4444, 'steadi': 4445, 'artsi': 4446, 'kidman': 4447, 'out': 4448, 'puppi': 4449, 'youngest': 4450, 'hk': 4451, 'enabl': 4452, 'brood': 4453, 'graini': 4454, 'hopelessli': 4455, 'dont': 4456, 'carlito': 4457, 'spiral': 4458, 'rosemari': 4459, 'kitti': 4460, 'facil': 4461, '1979': 4462, 'tyler': 4463, 'egg': 4464, 'vader': 4465, 'characteris': 4466, 'unexplain': 4467, 'bean': 4468, 'bye': 4469, 'poe': 4470, 'setup': 4471, 'sweat': 4472, 'christin': 4473, 'martha': 4474, '1969': 4475, 'hammi': 4476, 'fuel': 4477, 'brendan': 4478, 'acquaint': 4479, 'decept': 4480, 'niec': 4481, 'effici': 4482, 'underworld': 4483, 'narrow': 4484, 'oblig': 4485, 'athlet': 4486, 'heap': 4487, 'patricia': 4488, 'bounc': 4489, 'disastr': 4490, 'spontan': 4491, 'baffl': 4492, 'despic': 4493, 'gina': 4494, 'clueless': 4495, 'hain': 4496, 'weather': 4497, 'bronson': 4498, 'kline': 4499, 'exterior': 4500, 'bewar': 4501, 'preming': 4502, 'gillian': 4503, 'injur': 4504, 'sleepwalk': 4505, 'mermaid': 4506, 'mayhem': 4507, 'suprem': 4508, 'dilemma': 4509, 'dandi': 4510, 'shatter': 4511, 'taboo': 4512, 'trigger': 4513, 'goof': 4514, 'sooner': 4515, '19': 4516, 'uh': 4517, 'angst': 4518, 'outlaw': 4519, 'viewpoint': 4520, 'astound': 4521, 'preachi': 4522, 'harmless': 4523, 'loath': 4524, 'enlist': 4525, 'candl': 4526, 'insipid': 4527, 'virtu': 4528, 'circu': 4529, 'biker': 4530, 'analyz': 4531, 'tick': 4532, 'headach': 4533, 'scar': 4534, 'rome': 4535, 'renaiss': 4536, 'housewif': 4537, 'hepburn': 4538, '73': 4539, 'loi': 4540, 'fontain': 4541, 'lester': 4542, 'foolish': 4543, 'boston': 4544, 'filth': 4545, 'salt': 4546, 'claustrophob': 4547, 'overlong': 4548, 'stair': 4549, 'hooker': 4550, 'tripl': 4551, 'ebert': 4552, 'amor': 4553, 'slimi': 4554, 'idol': 4555, 'fluff': 4556, 'guin': 4557, 'contempt': 4558, 'bent': 4559, 'hostag': 4560, 'surgeri': 4561, 'corbett': 4562, 'ariel': 4563, 'macho': 4564, 'redund': 4565, 'oldest': 4566, 'whore': 4567, 'immatur': 4568, 'zoom': 4569, 'hokey': 4570, 'spade': 4571, 'dismal': 4572, 'steer': 4573, 'scorses': 4574, 'phenomenon': 4575, 'camcord': 4576, 'dish': 4577, 'gere': 4578, 'cassavet': 4579, 'stimul': 4580, 'glorifi': 4581, 'sox': 4582, 'intric': 4583, '1976': 4584, 'fascist': 4585, 'gasp': 4586, 'schlock': 4587, 'keen': 4588, 'obligatori': 4589, 'joker': 4590, 'frantic': 4591, 'faint': 4592, 'trivia': 4593, 'shred': 4594, 'conquer': 4595, 'harold': 4596, 'preced': 4597, 'strongest': 4598, 'flag': 4599, 'astronaut': 4600, 'perman': 4601, 'flashi': 4602, 'flirt': 4603, 'radiat': 4604, '1981': 4605, 'cush': 4606, 'widescreen': 4607, 'shield': 4608, 'messi': 4609, 'cow': 4610, 'cohen': 4611, 'proport': 4612, 'dwarf': 4613, 'muscl': 4614, 'zane': 4615, 'beard': 4616, 'gabl': 4617, 'mount': 4618, 'rhyme': 4619, 'nolt': 4620, 'spree': 4621, 'margin': 4622, 'assert': 4623, 'alvin': 4624, 'corman': 4625, 'remad': 4626, 'spinal': 4627, 'transplant': 4628, 'down': 4629, 'mutual': 4630, 'antagonist': 4631, 'naschi': 4632, 'www': 4633, 'danish': 4634, 'neurot': 4635, 'deer': 4636, 'ritchi': 4637, 'claud': 4638, '95': 4639, 'bitten': 4640, '28': 4641, 'wield': 4642, 'barn': 4643, 'discern': 4644, '1945': 4645, 'raj': 4646, 'aborigin': 4647, 'brush': 4648, 'archiv': 4649, 'mol': 4650, 'departur': 4651, 'triangl': 4652, 'divin': 4653, 'inflict': 4654, 'bachelor': 4655, 'resum': 4656, 'mobil': 4657, 'repris': 4658, 'hara': 4659, 'strive': 4660, 'sensual': 4661, 'interestingli': 4662, 'persuad': 4663, 'fishburn': 4664, 'flock': 4665, 'vaniti': 4666, 'carey': 4667, 'off': 4668, 'scandal': 4669, 'someday': 4670, 'instruct': 4671, 'info': 4672, 'boob': 4673, 'colin': 4674, 'frontier': 4675, 'pixar': 4676, 'luka': 4677, 'clad': 4678, 'bate': 4679, 'proclaim': 4680, 'cycl': 4681, 'ish': 4682, 'kathryn': 4683, 'helm': 4684, 'fragil': 4685, 'prophet': 4686, 'dylan': 4687, 'harrison': 4688, 'traffic': 4689, 'cb': 4690, 'europa': 4691, 'miracul': 4692, 'biblic': 4693, 'pacif': 4694, 'pickford': 4695, 'hapless': 4696, 'heartwarm': 4697, 'hilar': 4698, 'recit': 4699, 'hug': 4700, 'dame': 4701, 'vibrant': 4702, 'earnest': 4703, 'undermin': 4704, 'melissa': 4705, 'submit': 4706, 'jade': 4707, 'banter': 4708, 'cliffhang': 4709, 'rot': 4710, 'carlo': 4711, 'senior': 4712, 'mobster': 4713, 'anton': 4714, 'dim': 4715, 'neill': 4716, 'artwork': 4717, 'parson': 4718, 'timberlak': 4719, 'casino': 4720, 'axe': 4721, 'wendigo': 4722, 'cher': 4723, 'loretta': 4724, 'lucil': 4725, 'akin': 4726, 'northern': 4727, 'cerebr': 4728, 'holocaust': 4729, 'estrang': 4730, 'wardrob': 4731, 'jo': 4732, 'redneck': 4733, 'orphan': 4734, 'razor': 4735, 'blatantli': 4736, 'antholog': 4737, 'static': 4738, 'seedi': 4739, 'bondag': 4740, 'trier': 4741, 'sicken': 4742, 'rooki': 4743, 'feast': 4744, 'legitim': 4745, 'misfortun': 4746, 'pc': 4747, 'shepherd': 4748, 'breakfast': 4749, 'choke': 4750, 'articl': 4751, 'winchest': 4752, 'mason': 4753, 'nope': 4754, 'milo': 4755, 'flavor': 4756, 'electron': 4757, 'jordan': 4758, 'venom': 4759, 'vile': 4760, 'vanessa': 4761, 'eli': 4762, 'toronto': 4763, 'foil': 4764, 'http': 4765, 'aris': 4766, 'marlon': 4767, 'illus': 4768, 'token': 4769, 'lui': 4770, 'alexandr': 4771, 'mathieu': 4772, 'bikini': 4773, 'isra': 4774, 'uma': 4775, 'abund': 4776, 'psych': 4777, 'outdat': 4778, 'styliz': 4779, 'swept': 4780, 'frog': 4781, 'cartoonish': 4782, 'ideolog': 4783, 'glare': 4784, 'smack': 4785, 'comprehend': 4786, 'nightclub': 4787, 'fifth': 4788, 'magician': 4789, 'audrey': 4790, 'affleck': 4791, 'leather': 4792, 'dudley': 4793, 'howl': 4794, 'clinic': 4795, 'boyer': 4796, 'feminin': 4797, 'oppon': 4798, 'tack': 4799, 'peer': 4800, 'gilbert': 4801, 'knightley': 4802, 'linear': 4803, 'shorter': 4804, 'ceremoni': 4805, 'highway': 4806, 'wrestler': 4807, 'disregard': 4808, 'charlton': 4809, 'deem': 4810, 'huston': 4811, 'retriev': 4812, 'turd': 4813, 'gunga': 4814, 'cuban': 4815, 'lifeless': 4816, 'deliver': 4817, 'conrad': 4818, 'uniformli': 4819, 'cemeteri': 4820, 'mitch': 4821, 'sleaz': 4822, 'corn': 4823, 'compris': 4824, '4th': 4825, 'potter': 4826, 'einstein': 4827, 'senat': 4828, 'newer': 4829, 'tara': 4830, 'evolut': 4831, 'energet': 4832, 'whack': 4833, 'client': 4834, 'snatch': 4835, 'btw': 4836, 'boo': 4837, 'spine': 4838, 'breakdown': 4839, 'monument': 4840, 'greet': 4841, 'summar': 4842, 'toe': 4843, 'durat': 4844, 'phenomen': 4845, '1994': 4846, 'plate': 4847, 'lighter': 4848, 'bastard': 4849, 'spawn': 4850, '1991': 4851, 'bogu': 4852, 'goldsworthi': 4853, 'chip': 4854, 'lavish': 4855, 'braveheart': 4856, 'collector': 4857, 'moe': 4858, 'salman': 4859, 'signal': 4860, 'ie': 4861, 'belli': 4862, 'alleg': 4863, 'inaccuraci': 4864, 'pronounc': 4865, 'eleven': 4866, 'capot': 4867, 'fluid': 4868, 'undertak': 4869, 'undead': 4870, 'trauma': 4871, 'jule': 4872, 'mcqueen': 4873, 'historian': 4874, 'gilliam': 4875, 'constitut': 4876, 'bori': 4877, 'jare': 4878, 'kazan': 4879, 'neatli': 4880, 'cecil': 4881, 'appl': 4882, 'healthi': 4883, 'occup': 4884, '1977': 4885, '1974': 4886, 'luxuri': 4887, 'replay': 4888, 'spectacl': 4889, 'wtf': 4890, 'firmli': 4891, 'armstrong': 4892, 'sorrow': 4893, 'evelyn': 4894, 'embark': 4895, 'ol': 4896, 'jedi': 4897, 'nina': 4898, 'jam': 4899, 'randolph': 4900, 'outright': 4901, 'judd': 4902, 'kent': 4903, 'lex': 4904, 'creek': 4905, 'bulk': 4906, 'clara': 4907, 'liu': 4908, 'congratul': 4909, 'meal': 4910, 'antonio': 4911, 'pepper': 4912, 'carmen': 4913, 'abound': 4914, 'lauren': 4915, 'porter': 4916, 'truman': 4917, 'cape': 4918, 'spray': 4919, 'groan': 4920, 'curtain': 4921, 'knee': 4922, 'goldblum': 4923, 'aussi': 4924, 'comb': 4925, 'kiddi': 4926, 'blur': 4927, 'forgiven': 4928, 'vain': 4929, 'relentless': 4930, 'tokyo': 4931, '1985': 4932, 'unsuspect': 4933, 'paula': 4934, 'basket': 4935, 'id': 4936, 'unattract': 4937, 'miniseri': 4938, 'sacrif': 4939, 'sidewalk': 4940, 'rosario': 4941, 'poker': 4942, 'vignett': 4943, 'bait': 4944, 'inclus': 4945, 'lanc': 4946, 'fruit': 4947, 'pioneer': 4948, 'palm': 4949, 'genet': 4950, 'decapit': 4951, 'bsg': 4952, 'walt': 4953, 'miami': 4954, 'galaxi': 4955, 'comprehens': 4956, 'ash': 4957, 'propheci': 4958, 'inaccur': 4959, 'subtli': 4960, 'roar': 4961, 'conan': 4962, 'mum': 4963, 'dubiou': 4964, 'epitom': 4965, 'motorcycl': 4966, 'asset': 4967, '21st': 4968, 'rapidli': 4969, 'reincarn': 4970, 'ghetto': 4971, 'detach': 4972, 'weaker': 4973, 'monti': 4974, 'substanti': 4975, 'profil': 4976, 'vastli': 4977, 'orchestr': 4978, 'incorrect': 4979, 'masterson': 4980, 'victorian': 4981, 'growth': 4982, 'spill': 4983, 'hostil': 4984, 'modest': 4985, 'drone': 4986, 'omin': 4987, 'jill': 4988, 'bravo': 4989, 'sparkl': 4990, 'verg': 4991, 'optimist': 4992, 'sophi': 4993, 'scarfac': 4994, 'turtl': 4995, 'mice': 4996, 'weari': 4997, 'scariest': 4998, 'ingrid': 4999}\n"
     ]
    }
   ],
   "source": [
    "# TODO: Use this space to determine the five most frequently appearing words in the training set.\n",
    " \n",
    "print(word_dict)"
   ]
  },
  {
   "cell_type": "markdown",
   "metadata": {},
   "source": [
    "### Save `word_dict`\n",
    "\n",
    "Later on when we construct an endpoint which processes a submitted review we will need to make use of the `word_dict` which we have created. As such, we will save it to a file now for future use."
   ]
  },
  {
   "cell_type": "code",
   "execution_count": 19,
   "metadata": {},
   "outputs": [],
   "source": [
    "data_dir = '../data/pytorch' # The folder we will use for storing data\n",
    "if not os.path.exists(data_dir): # Make sure that the folder exists\n",
    "    os.makedirs(data_dir)"
   ]
  },
  {
   "cell_type": "code",
   "execution_count": 20,
   "metadata": {},
   "outputs": [],
   "source": [
    "with open(os.path.join(data_dir, 'word_dict.pkl'), \"wb\") as f:\n",
    "    pickle.dump(word_dict, f)"
   ]
  },
  {
   "cell_type": "markdown",
   "metadata": {},
   "source": [
    "### Transform the reviews\n",
    "\n",
    "Now that we have our word dictionary which allows us to transform the words appearing in the reviews into integers, it is time to make use of it and convert our reviews to their integer sequence representation, making sure to pad or truncate to a fixed length, which in our case is `500`."
   ]
  },
  {
   "cell_type": "code",
   "execution_count": 21,
   "metadata": {},
   "outputs": [],
   "source": [
    "def convert_and_pad(word_dict, sentence, pad=500):\n",
    "    NOWORD = 0 # We will use 0 to represent the 'no word' category\n",
    "    INFREQ = 1 # and we use 1 to represent the infrequent words, i.e., words not appearing in word_dict\n",
    "    \n",
    "    working_sentence = [NOWORD] * pad\n",
    "    \n",
    "    for word_index, word in enumerate(sentence[:pad]):\n",
    "        if word in word_dict:\n",
    "            working_sentence[word_index] = word_dict[word]\n",
    "        else:\n",
    "            working_sentence[word_index] = INFREQ \n",
    "    return working_sentence, min(len(sentence), pad)\n",
    "\n",
    "def convert_and_pad_data(word_dict, data, pad=500):\n",
    "    result = []\n",
    "    lengths = []\n",
    "    \n",
    "    for sentence in data:\n",
    "        converted, leng = convert_and_pad(word_dict, sentence, pad)\n",
    "        result.append(converted)\n",
    "        lengths.append(leng)\n",
    "        \n",
    "    return np.array(result), np.array(lengths)"
   ]
  },
  {
   "cell_type": "code",
   "execution_count": 22,
   "metadata": {},
   "outputs": [],
   "source": [
    "train_X, train_X_len = convert_and_pad_data(word_dict, train_X)\n",
    "test_X, test_X_len = convert_and_pad_data(word_dict, test_X)"
   ]
  },
  {
   "cell_type": "markdown",
   "metadata": {},
   "source": [
    "As a quick check to make sure that things are working as intended, check to see what one of the reviews in the training set looks like after having been processeed. Does this look reasonable? What is the length of a review in the training set?"
   ]
  },
  {
   "cell_type": "code",
   "execution_count": 23,
   "metadata": {},
   "outputs": [
    {
     "name": "stdout",
     "output_type": "stream",
     "text": [
      "(25000, 500)\n",
      "(25000,)\n",
      "\n",
      "(25000, 500)\n",
      "(25000,)\n"
     ]
    }
   ],
   "source": [
    "print(train_X.shape)\n",
    "print(train_X_len.shape)\n",
    "print()\n",
    "print(test_X.shape)\n",
    "print(test_X_len.shape)"
   ]
  },
  {
   "cell_type": "code",
   "execution_count": 24,
   "metadata": {},
   "outputs": [
    {
     "name": "stdout",
     "output_type": "stream",
     "text": [
      "[ 363    1    5    1   43   20    1    1    1 1198 3665  482  116    6\n",
      "  201  513  697    1    1    1 1485   72   55  458 4776 2172   18  634\n",
      "    1 1539 1144  514 3731   10  927    8   43 2096 2196   19 2028  884\n",
      "  179  156 3180   10  178   37   88    1    1   65 1022  288    1    1\n",
      "  133  393    1 2606 1044   26  480  466 1933  811    1 2580 4019    1\n",
      " 1500 3991 4860 1832 3439  306 1715    1  179   46   23   59 4543 3028\n",
      "  514    1   40  337  181   56    1 1942  697    0    0    0    0    0\n",
      "    0    0    0    0    0    0    0    0    0    0    0    0    0    0\n",
      "    0    0    0    0    0    0    0    0]\n",
      "\n",
      "93 / 500\n"
     ]
    }
   ],
   "source": [
    "# Use this cell to examine one of the processed reviews to make sure everything is working as intended.\n",
    "print(train_X[0,:120]) #120까지만 끊어서 출력함. 500까지 있음\n",
    "print()\n",
    "print(train_X_len[0], \"/\", len(train_X[0])) "
   ]
  },
  {
   "cell_type": "markdown",
   "metadata": {},
   "source": [
    "**Question:** In the cells above we use the `preprocess_data` and `convert_and_pad_data` methods to process both the training and testing set. Why or why not might this be a problem?"
   ]
  },
  {
   "cell_type": "markdown",
   "metadata": {},
   "source": [
    "**Answer:**\n",
    "\n",
    "The input and ouput of both methods' have overlapping names, `train_X` and/or `test_X`. This is *probably* because of the limited memory in a given notebook instance. However, because of this, caution is required since running the `convert_and_pad_data` twice will induce an error. \n",
    "\n",
    "\n",
    "* The ```preprocess_data``` is to change a bunch of reviews into a list of word lists.\n",
    "* The objective of ```convert_and_pad_data``` is to change a review(list of words) into a fixed length of integers, which will become the input of an RNN."
   ]
  },
  {
   "cell_type": "markdown",
   "metadata": {},
   "source": [
    "## Step 3: Upload the data to S3\n",
    "\n",
    "As in the XGBoost notebook, we will need to upload the training dataset to S3 in order for our training code to access it. For now we will save it locally and we will upload to S3 later on.\n",
    "\n",
    "### Save the processed training dataset locally\n",
    "\n",
    "It is important to note the format of the data that we are saving as we will need to know it when we write the training code. In our case, each row of the dataset has the form `label`, `length`, `review[500]` where `review[500]` is a sequence of `500` integers representing the words in the review."
   ]
  },
  {
   "cell_type": "code",
   "execution_count": 25,
   "metadata": {},
   "outputs": [],
   "source": [
    "import pandas as pd\n",
    "    \n",
    "pd.concat([pd.DataFrame(train_y), pd.DataFrame(train_X_len), pd.DataFrame(train_X)], axis=1) \\\n",
    "        .to_csv(os.path.join(data_dir, 'train.csv'), header=False, index=False)"
   ]
  },
  {
   "cell_type": "code",
   "execution_count": 26,
   "metadata": {},
   "outputs": [
    {
     "name": "stdout",
     "output_type": "stream",
     "text": [
      "../data/pytorch\n"
     ]
    }
   ],
   "source": [
    "print(data_dir)"
   ]
  },
  {
   "cell_type": "code",
   "execution_count": 27,
   "metadata": {},
   "outputs": [
    {
     "data": {
      "text/plain": [
       "'0.24.2'"
      ]
     },
     "execution_count": 27,
     "metadata": {},
     "output_type": "execute_result"
    }
   ],
   "source": [
    "pd.__version__"
   ]
  },
  {
   "cell_type": "markdown",
   "metadata": {},
   "source": [
    "### Uploading the training data\n",
    "\n",
    "\n",
    "Next, we need to upload the training data to the SageMaker default S3 bucket so that we can provide access to it while training our model."
   ]
  },
  {
   "cell_type": "code",
   "execution_count": 28,
   "metadata": {},
   "outputs": [],
   "source": [
    "import sagemaker\n",
    "\n",
    "sagemaker_session = sagemaker.Session()\n",
    "\n",
    "bucket = sagemaker_session.default_bucket()\n",
    "prefix = 'sagemaker/sentiment_rnn'\n",
    "\n",
    "role = sagemaker.get_execution_role()"
   ]
  },
  {
   "cell_type": "code",
   "execution_count": 29,
   "metadata": {},
   "outputs": [
    {
     "name": "stdout",
     "output_type": "stream",
     "text": [
      "<sagemaker.session.Session object at 0x7f48975dd828>\n"
     ]
    }
   ],
   "source": [
    "print(sagemaker_session)"
   ]
  },
  {
   "cell_type": "code",
   "execution_count": 30,
   "metadata": {},
   "outputs": [
    {
     "name": "stdout",
     "output_type": "stream",
     "text": [
      "sagemaker-ap-northeast-2-078889779620\n",
      "sagemaker/sentiment_rnn\n",
      "arn:aws:iam::078889779620:role/service-role/AmazonSageMaker-ExecutionRole-20190709T203012\n"
     ]
    }
   ],
   "source": [
    "print(bucket)\n",
    "print(prefix)\n",
    "print(role)"
   ]
  },
  {
   "cell_type": "code",
   "execution_count": 31,
   "metadata": {},
   "outputs": [],
   "source": [
    "input_data = sagemaker_session.upload_data(path=data_dir, bucket=bucket, key_prefix=prefix) #업로드 했음!"
   ]
  },
  {
   "cell_type": "code",
   "execution_count": 32,
   "metadata": {},
   "outputs": [
    {
     "name": "stdout",
     "output_type": "stream",
     "text": [
      "s3://sagemaker-ap-northeast-2-078889779620/sagemaker/sentiment_rnn\n"
     ]
    }
   ],
   "source": [
    "print(input_data)"
   ]
  },
  {
   "cell_type": "markdown",
   "metadata": {},
   "source": [
    "**NOTE:** The cell above uploads the entire contents of our data directory. This includes the `word_dict.pkl` file. This is fortunate as we will need this later on when we create an endpoint that accepts an arbitrary review. For now, we will just take note of the fact that it resides in the data directory (and so also in the S3 training bucket) and that we will need to make sure it gets saved in the model directory."
   ]
  },
  {
   "cell_type": "markdown",
   "metadata": {},
   "source": [
    "## Step 4: Build and Train the PyTorch Model\n",
    "\n",
    "In the XGBoost notebook we discussed what a model is in the SageMaker framework. In particular, a model comprises three objects\n",
    "\n",
    " - Model Artifacts,\n",
    " - Training Code, and\n",
    " - Inference Code,\n",
    " \n",
    "each of which interact with one another. In the XGBoost example we used training and inference code that was provided by Amazon. Here we will still be using containers provided by Amazon with the added benefit of being able to include our own custom code.\n",
    "\n",
    "We will start by implementing our own neural network in PyTorch along with a training script. For the purposes of this project we have provided the necessary model object in the `model.py` file, inside of the `train` folder. You can see the provided implementation by running the cell below."
   ]
  },
  {
   "cell_type": "code",
   "execution_count": 33,
   "metadata": {
    "scrolled": true
   },
   "outputs": [
    {
     "name": "stdout",
     "output_type": "stream",
     "text": [
      "\u001b[34mimport\u001b[39;49;00m \u001b[04m\u001b[36mtorch.nn\u001b[39;49;00m \u001b[34mas\u001b[39;49;00m \u001b[04m\u001b[36mnn\u001b[39;49;00m\r\n",
      "\r\n",
      "\u001b[34mclass\u001b[39;49;00m \u001b[04m\u001b[32mLSTMClassifier\u001b[39;49;00m(nn.Module):\r\n",
      "    \u001b[33m\"\"\"\u001b[39;49;00m\r\n",
      "\u001b[33m    This is the simple RNN model we will be using to perform Sentiment Analysis.\u001b[39;49;00m\r\n",
      "\u001b[33m    \"\"\"\u001b[39;49;00m\r\n",
      "\r\n",
      "    \u001b[34mdef\u001b[39;49;00m \u001b[32m__init__\u001b[39;49;00m(\u001b[36mself\u001b[39;49;00m, embedding_dim, hidden_dim, vocab_size):\r\n",
      "        \u001b[33m\"\"\"\u001b[39;49;00m\r\n",
      "\u001b[33m        Initialize the model by settingg up the various layers.\u001b[39;49;00m\r\n",
      "\u001b[33m        \"\"\"\u001b[39;49;00m\r\n",
      "        \u001b[36msuper\u001b[39;49;00m(LSTMClassifier, \u001b[36mself\u001b[39;49;00m).\u001b[32m__init__\u001b[39;49;00m()\r\n",
      "\r\n",
      "        \u001b[36mself\u001b[39;49;00m.embedding = nn.Embedding(vocab_size, embedding_dim, padding_idx=\u001b[34m0\u001b[39;49;00m)\r\n",
      "        \u001b[36mself\u001b[39;49;00m.lstm = nn.LSTM(embedding_dim, hidden_dim)\r\n",
      "        \u001b[36mself\u001b[39;49;00m.dense = nn.Linear(in_features=hidden_dim, out_features=\u001b[34m1\u001b[39;49;00m)\r\n",
      "        \u001b[36mself\u001b[39;49;00m.sig = nn.Sigmoid()\r\n",
      "        \r\n",
      "        \u001b[36mself\u001b[39;49;00m.word_dict = \u001b[36mNone\u001b[39;49;00m\r\n",
      "\r\n",
      "    \u001b[34mdef\u001b[39;49;00m \u001b[32mforward\u001b[39;49;00m(\u001b[36mself\u001b[39;49;00m, x):\r\n",
      "        \u001b[33m\"\"\"\u001b[39;49;00m\r\n",
      "\u001b[33m        Perform a forward pass of our model on some input.\u001b[39;49;00m\r\n",
      "\u001b[33m        \"\"\"\u001b[39;49;00m\r\n",
      "        x = x.t()\r\n",
      "        lengths = x[\u001b[34m0\u001b[39;49;00m,:]\r\n",
      "        reviews = x[\u001b[34m1\u001b[39;49;00m:,:]\r\n",
      "        embeds = \u001b[36mself\u001b[39;49;00m.embedding(reviews)\r\n",
      "        lstm_out, _ = \u001b[36mself\u001b[39;49;00m.lstm(embeds)\r\n",
      "        out = \u001b[36mself\u001b[39;49;00m.dense(lstm_out)\r\n",
      "        out = out[lengths - \u001b[34m1\u001b[39;49;00m, \u001b[36mrange\u001b[39;49;00m(\u001b[36mlen\u001b[39;49;00m(lengths))]\r\n",
      "        \u001b[34mreturn\u001b[39;49;00m \u001b[36mself\u001b[39;49;00m.sig(out.squeeze())\r\n"
     ]
    }
   ],
   "source": [
    "!pygmentize train/model.py"
   ]
  },
  {
   "cell_type": "code",
   "execution_count": 34,
   "metadata": {},
   "outputs": [],
   "source": [
    "#!pygmentize train/train.py"
   ]
  },
  {
   "cell_type": "markdown",
   "metadata": {},
   "source": [
    "### Be sure to understand the given code above! 알았죠?"
   ]
  },
  {
   "cell_type": "markdown",
   "metadata": {},
   "source": [
    "The important takeaway from the implementation provided is that there are three parameters that we may wish to tweak to improve the performance of our model. These are the embedding dimension, the hidden dimension and the size of the vocabulary. We will likely want to make these parameters configurable in the training script so that if we wish to modify them we do not need to modify the script itself. We will see how to do this later on. To start we will write some of the training code in the notebook so that we can more easily diagnose any issues that arise.\n",
    "\n",
    "First we will load a small portion of the training data set to use as a sample. It would be very time consuming to try and train the model completely in the notebook as we do not have access to a gpu and the compute instance that we are using is not particularly powerful. However, we can work on a small bit of the data to get a feel for how our training script is behaving."
   ]
  },
  {
   "cell_type": "code",
   "execution_count": 35,
   "metadata": {},
   "outputs": [],
   "source": [
    "import torch\n",
    "import torch.utils.data\n",
    "\n",
    "# Read in only the first 250 rows\n",
    "train_sample = pd.read_csv(os.path.join(data_dir, 'train.csv'), header=None, names=None, nrows=250)\n",
    "\n",
    "# Turn the input pandas dataframe into tensors\n",
    "train_sample_y = torch.from_numpy(train_sample[[0]].values).float().squeeze()\n",
    "train_sample_X = torch.from_numpy(train_sample.drop([0], axis=1).values).long()\n",
    "\n",
    "# Build the dataset\n",
    "train_sample_ds = torch.utils.data.TensorDataset(train_sample_X, train_sample_y)\n",
    "# Build the dataloader\n",
    "train_sample_dl = torch.utils.data.DataLoader(train_sample_ds, batch_size=50)"
   ]
  },
  {
   "cell_type": "code",
   "execution_count": 36,
   "metadata": {
    "scrolled": true
   },
   "outputs": [
    {
     "name": "stdout",
     "output_type": "stream",
     "text": [
      "250\n",
      "501\n"
     ]
    }
   ],
   "source": [
    "print(len(train_sample_X))\n",
    "print(len(train_sample_X[0]))"
   ]
  },
  {
   "cell_type": "code",
   "execution_count": 37,
   "metadata": {
    "scrolled": true
   },
   "outputs": [
    {
     "name": "stdout",
     "output_type": "stream",
     "text": [
      "<class 'torch.Tensor'>\n",
      "<torch.utils.data.dataset.TensorDataset object at 0x7f48afd9b320>\n"
     ]
    }
   ],
   "source": [
    "print(type(train_sample_X))\n",
    "print(train_sample_ds)"
   ]
  },
  {
   "cell_type": "markdown",
   "metadata": {},
   "source": [
    "### (TODO) Writing the training method\n",
    "\n",
    "Next we need to write the training code itself. This should be very similar to training methods that you have written before to train PyTorch models. We will leave any difficult aspects such as model saving / loading and parameter loading until a little later."
   ]
  },
  {
   "cell_type": "code",
   "execution_count": 38,
   "metadata": {},
   "outputs": [],
   "source": [
    "def train(model, train_loader, epochs, optimizer, loss_fn, device):\n",
    "    for epoch in range(1, epochs + 1):\n",
    "        model.train()\n",
    "        total_loss = 0\n",
    "        for batch in train_loader:         \n",
    "            batch_X, batch_y = batch\n",
    "            \n",
    "            batch_X = batch_X.to(device)\n",
    "            batch_y = batch_y.to(device)\n",
    "            \n",
    "            # TODO: Complete this train method to train the model provided.\n",
    "            model.zero_grad()\n",
    "            out = model(batch_X)\n",
    "            loss = loss_fn(out, batch_y)\n",
    "            loss.backward()\n",
    "            optimizer.step()\n",
    "            \n",
    "            total_loss += loss.data.item()\n",
    "        print(\"Epoch: {}, BCELoss: {}\".format(epoch, total_loss / len(train_loader)))"
   ]
  },
  {
   "cell_type": "markdown",
   "metadata": {},
   "source": [
    "Supposing we have the training method above, we will test that it is working by writing a bit of code in the notebook that executes our training method on the small sample training set that we loaded earlier. The reason for doing this in the notebook is so that we have an opportunity to fix any errors that arise early when they are easier to diagnose."
   ]
  },
  {
   "cell_type": "code",
   "execution_count": 39,
   "metadata": {},
   "outputs": [
    {
     "name": "stdout",
     "output_type": "stream",
     "text": [
      "cpu\n",
      "Epoch: 1, BCELoss: 0.6962310314178467\n",
      "Epoch: 2, BCELoss: 0.6890115737915039\n",
      "Epoch: 3, BCELoss: 0.6831841707229614\n",
      "Epoch: 4, BCELoss: 0.676846981048584\n",
      "Epoch: 5, BCELoss: 0.6691960334777832\n"
     ]
    }
   ],
   "source": [
    "import torch.optim as optim\n",
    "from train.model import LSTMClassifier\n",
    "\n",
    "device = torch.device(\"cuda\" if torch.cuda.is_available() else \"cpu\")\n",
    "print(device)\n",
    "model = LSTMClassifier(32, 100, 5000).to(device)\n",
    "optimizer = optim.Adam(model.parameters())\n",
    "loss_fn = torch.nn.BCELoss()\n",
    "\n",
    "train(model, train_sample_dl, 5, optimizer, loss_fn, device)"
   ]
  },
  {
   "cell_type": "markdown",
   "metadata": {},
   "source": [
    "In order to construct a PyTorch model using SageMaker we must provide SageMaker with a training script. We may optionally include a directory which will be copied to the container and from which our training code will be run. When the training container is executed it will check the uploaded directory (if there is one) for a `requirements.txt` file and install any required Python libraries, after which the training script will be run."
   ]
  },
  {
   "cell_type": "markdown",
   "metadata": {},
   "source": [
    "### (TODO) Training the model\n",
    "\n",
    "When a PyTorch model is constructed in SageMaker, an entry point must be specified. This is the Python file which will be executed when the model is trained. Inside of the `train` directory is a file called `train.py` which has been provided and which contains most of the necessary code to train our model. The only thing that is missing is the implementation of the `train()` method which you wrote earlier in this notebook.\n",
    "\n",
    "**TODO**: Copy the `train()` method written above and paste it into the `train/train.py` file where required.\n",
    "\n",
    "The way that SageMaker passes hyperparameters to the training script is by way of arguments. These arguments can then be parsed and used in the training script. To see how this is done take a look at the provided `train/train.py` file."
   ]
  },
  {
   "cell_type": "code",
   "execution_count": 40,
   "metadata": {},
   "outputs": [
    {
     "name": "stdout",
     "output_type": "stream",
     "text": [
      "\u001b[34mimport\u001b[39;49;00m \u001b[04m\u001b[36margparse\u001b[39;49;00m\n",
      "\u001b[34mimport\u001b[39;49;00m \u001b[04m\u001b[36mjson\u001b[39;49;00m\n",
      "\u001b[34mimport\u001b[39;49;00m \u001b[04m\u001b[36mos\u001b[39;49;00m\n",
      "\u001b[34mimport\u001b[39;49;00m \u001b[04m\u001b[36mpickle\u001b[39;49;00m\n",
      "\u001b[34mimport\u001b[39;49;00m \u001b[04m\u001b[36msys\u001b[39;49;00m\n",
      "\u001b[34mimport\u001b[39;49;00m \u001b[04m\u001b[36msagemaker_containers\u001b[39;49;00m\n",
      "\u001b[34mimport\u001b[39;49;00m \u001b[04m\u001b[36mpandas\u001b[39;49;00m \u001b[34mas\u001b[39;49;00m \u001b[04m\u001b[36mpd\u001b[39;49;00m\n",
      "\u001b[34mimport\u001b[39;49;00m \u001b[04m\u001b[36mtorch\u001b[39;49;00m\n",
      "\u001b[34mimport\u001b[39;49;00m \u001b[04m\u001b[36mtorch.optim\u001b[39;49;00m \u001b[34mas\u001b[39;49;00m \u001b[04m\u001b[36moptim\u001b[39;49;00m\n",
      "\u001b[34mimport\u001b[39;49;00m \u001b[04m\u001b[36mtorch.utils.data\u001b[39;49;00m\n",
      "\n",
      "\u001b[34mfrom\u001b[39;49;00m \u001b[04m\u001b[36mmodel\u001b[39;49;00m \u001b[34mimport\u001b[39;49;00m LSTMClassifier\n",
      "\n",
      "\u001b[34mdef\u001b[39;49;00m \u001b[32mmodel_fn\u001b[39;49;00m(model_dir):\n",
      "    \u001b[33m\"\"\"Load the PyTorch model from the `model_dir` directory.\"\"\"\u001b[39;49;00m\n",
      "    \u001b[34mprint\u001b[39;49;00m(\u001b[33m\"\u001b[39;49;00m\u001b[33mLoading model.\u001b[39;49;00m\u001b[33m\"\u001b[39;49;00m)\n",
      "\n",
      "    \u001b[37m# First, load the parameters used to create the model.\u001b[39;49;00m\n",
      "    model_info = {}\n",
      "    model_info_path = os.path.join(model_dir, \u001b[33m'\u001b[39;49;00m\u001b[33mmodel_info.pth\u001b[39;49;00m\u001b[33m'\u001b[39;49;00m)\n",
      "    \u001b[34mwith\u001b[39;49;00m \u001b[36mopen\u001b[39;49;00m(model_info_path, \u001b[33m'\u001b[39;49;00m\u001b[33mrb\u001b[39;49;00m\u001b[33m'\u001b[39;49;00m) \u001b[34mas\u001b[39;49;00m f:\n",
      "        model_info = torch.load(f)\n",
      "\n",
      "    \u001b[34mprint\u001b[39;49;00m(\u001b[33m\"\u001b[39;49;00m\u001b[33mmodel_info: {}\u001b[39;49;00m\u001b[33m\"\u001b[39;49;00m.format(model_info))\n",
      "\n",
      "    \u001b[37m# Determine the device and construct the model.\u001b[39;49;00m\n",
      "    device = torch.device(\u001b[33m\"\u001b[39;49;00m\u001b[33mcuda\u001b[39;49;00m\u001b[33m\"\u001b[39;49;00m \u001b[34mif\u001b[39;49;00m torch.cuda.is_available() \u001b[34melse\u001b[39;49;00m \u001b[33m\"\u001b[39;49;00m\u001b[33mcpu\u001b[39;49;00m\u001b[33m\"\u001b[39;49;00m)\n",
      "    model = LSTMClassifier(model_info[\u001b[33m'\u001b[39;49;00m\u001b[33membedding_dim\u001b[39;49;00m\u001b[33m'\u001b[39;49;00m], model_info[\u001b[33m'\u001b[39;49;00m\u001b[33mhidden_dim\u001b[39;49;00m\u001b[33m'\u001b[39;49;00m], model_info[\u001b[33m'\u001b[39;49;00m\u001b[33mvocab_size\u001b[39;49;00m\u001b[33m'\u001b[39;49;00m])\n",
      "\n",
      "    \u001b[37m# Load the stored model parameters.\u001b[39;49;00m\n",
      "    model_path = os.path.join(model_dir, \u001b[33m'\u001b[39;49;00m\u001b[33mmodel.pth\u001b[39;49;00m\u001b[33m'\u001b[39;49;00m)\n",
      "    \u001b[34mwith\u001b[39;49;00m \u001b[36mopen\u001b[39;49;00m(model_path, \u001b[33m'\u001b[39;49;00m\u001b[33mrb\u001b[39;49;00m\u001b[33m'\u001b[39;49;00m) \u001b[34mas\u001b[39;49;00m f:\n",
      "        model.load_state_dict(torch.load(f))\n",
      "\n",
      "    \u001b[37m# Load the saved word_dict.\u001b[39;49;00m\n",
      "    word_dict_path = os.path.join(model_dir, \u001b[33m'\u001b[39;49;00m\u001b[33mword_dict.pkl\u001b[39;49;00m\u001b[33m'\u001b[39;49;00m)\n",
      "    \u001b[34mwith\u001b[39;49;00m \u001b[36mopen\u001b[39;49;00m(word_dict_path, \u001b[33m'\u001b[39;49;00m\u001b[33mrb\u001b[39;49;00m\u001b[33m'\u001b[39;49;00m) \u001b[34mas\u001b[39;49;00m f:\n",
      "        model.word_dict = pickle.load(f)\n",
      "\n",
      "    model.to(device).eval()\n",
      "\n",
      "    \u001b[34mprint\u001b[39;49;00m(\u001b[33m\"\u001b[39;49;00m\u001b[33mDone loading model.\u001b[39;49;00m\u001b[33m\"\u001b[39;49;00m)\n",
      "    \u001b[34mreturn\u001b[39;49;00m model\n",
      "\n",
      "\u001b[34mdef\u001b[39;49;00m \u001b[32m_get_train_data_loader\u001b[39;49;00m(batch_size, training_dir):\n",
      "    \u001b[34mprint\u001b[39;49;00m(\u001b[33m\"\u001b[39;49;00m\u001b[33mGet train data loader.\u001b[39;49;00m\u001b[33m\"\u001b[39;49;00m)\n",
      "\n",
      "    train_data = pd.read_csv(os.path.join(training_dir, \u001b[33m\"\u001b[39;49;00m\u001b[33mtrain.csv\u001b[39;49;00m\u001b[33m\"\u001b[39;49;00m), header=\u001b[36mNone\u001b[39;49;00m, names=\u001b[36mNone\u001b[39;49;00m)\n",
      "\n",
      "    train_y = torch.from_numpy(train_data[[\u001b[34m0\u001b[39;49;00m]].values).float().squeeze()\n",
      "    train_X = torch.from_numpy(train_data.drop([\u001b[34m0\u001b[39;49;00m], axis=\u001b[34m1\u001b[39;49;00m).values).long()\n",
      "\n",
      "    train_ds = torch.utils.data.TensorDataset(train_X, train_y)\n",
      "\n",
      "    \u001b[34mreturn\u001b[39;49;00m torch.utils.data.DataLoader(train_ds, batch_size=batch_size)\n",
      "\n",
      "\n",
      "\u001b[34mdef\u001b[39;49;00m \u001b[32mtrain\u001b[39;49;00m(model, train_loader, epochs, optimizer, loss_fn, device):\n",
      "    \u001b[33m\"\"\"\u001b[39;49;00m\n",
      "\u001b[33m    This is the training method that is called by the PyTorch training script. The parameters\u001b[39;49;00m\n",
      "\u001b[33m    passed are as follows:\u001b[39;49;00m\n",
      "\u001b[33m    model        - The PyTorch model that we wish to train.\u001b[39;49;00m\n",
      "\u001b[33m    train_loader - The PyTorch DataLoader that should be used during training.\u001b[39;49;00m\n",
      "\u001b[33m    epochs       - The total number of epochs to train for.\u001b[39;49;00m\n",
      "\u001b[33m    optimizer    - The optimizer to use during training.\u001b[39;49;00m\n",
      "\u001b[33m    loss_fn      - The loss function used for training.\u001b[39;49;00m\n",
      "\u001b[33m    device       - Where the model and data should be loaded (gpu or cpu).\u001b[39;49;00m\n",
      "\u001b[33m    \"\"\"\u001b[39;49;00m\n",
      "    \n",
      "    \u001b[37m# TODO: Paste the train() method developed in the notebook here.\u001b[39;49;00m\n",
      "\n",
      "    \u001b[34mfor\u001b[39;49;00m epoch \u001b[35min\u001b[39;49;00m \u001b[36mrange\u001b[39;49;00m(\u001b[34m1\u001b[39;49;00m, epochs + \u001b[34m1\u001b[39;49;00m):\n",
      "        model.train()\n",
      "        total_loss = \u001b[34m0\u001b[39;49;00m\n",
      "        \u001b[34mfor\u001b[39;49;00m batch \u001b[35min\u001b[39;49;00m train_loader:         \n",
      "            batch_X, batch_y = batch\n",
      "            \n",
      "            batch_X = batch_X.to(device)\n",
      "            batch_y = batch_y.to(device)\n",
      "            \n",
      "            \u001b[37m# TODO: Complete this train method to train the model provided.\u001b[39;49;00m\n",
      "            model.zero_grad()\n",
      "            out = model(batch_X)\n",
      "            loss = loss_fn(out, batch_y)\n",
      "            loss.backward()\n",
      "            optimizer.step()\n",
      "            \n",
      "            total_loss += loss.data.item()\n",
      "        \u001b[34mprint\u001b[39;49;00m(\u001b[33m\"\u001b[39;49;00m\u001b[33mEpoch: {}, BCELoss: {}\u001b[39;49;00m\u001b[33m\"\u001b[39;49;00m.format(epoch, total_loss / \u001b[36mlen\u001b[39;49;00m(train_loader)))\n",
      "\n",
      "\n",
      "\u001b[34mif\u001b[39;49;00m \u001b[31m__name__\u001b[39;49;00m == \u001b[33m'\u001b[39;49;00m\u001b[33m__main__\u001b[39;49;00m\u001b[33m'\u001b[39;49;00m:\n",
      "    \u001b[37m# All of the model parameters and training parameters are sent as arguments when the script\u001b[39;49;00m\n",
      "    \u001b[37m# is executed. Here we set up an argument parser to easily access the parameters.\u001b[39;49;00m\n",
      "\n",
      "    parser = argparse.ArgumentParser()\n",
      "\n",
      "    \u001b[37m# Training Parameters\u001b[39;49;00m\n",
      "    parser.add_argument(\u001b[33m'\u001b[39;49;00m\u001b[33m--batch-size\u001b[39;49;00m\u001b[33m'\u001b[39;49;00m, \u001b[36mtype\u001b[39;49;00m=\u001b[36mint\u001b[39;49;00m, default=\u001b[34m512\u001b[39;49;00m, metavar=\u001b[33m'\u001b[39;49;00m\u001b[33mN\u001b[39;49;00m\u001b[33m'\u001b[39;49;00m,\n",
      "                        help=\u001b[33m'\u001b[39;49;00m\u001b[33minput batch size for training (default: 512)\u001b[39;49;00m\u001b[33m'\u001b[39;49;00m)\n",
      "    parser.add_argument(\u001b[33m'\u001b[39;49;00m\u001b[33m--epochs\u001b[39;49;00m\u001b[33m'\u001b[39;49;00m, \u001b[36mtype\u001b[39;49;00m=\u001b[36mint\u001b[39;49;00m, default=\u001b[34m10\u001b[39;49;00m, metavar=\u001b[33m'\u001b[39;49;00m\u001b[33mN\u001b[39;49;00m\u001b[33m'\u001b[39;49;00m,\n",
      "                        help=\u001b[33m'\u001b[39;49;00m\u001b[33mnumber of epochs to train (default: 10)\u001b[39;49;00m\u001b[33m'\u001b[39;49;00m)\n",
      "    parser.add_argument(\u001b[33m'\u001b[39;49;00m\u001b[33m--seed\u001b[39;49;00m\u001b[33m'\u001b[39;49;00m, \u001b[36mtype\u001b[39;49;00m=\u001b[36mint\u001b[39;49;00m, default=\u001b[34m1\u001b[39;49;00m, metavar=\u001b[33m'\u001b[39;49;00m\u001b[33mS\u001b[39;49;00m\u001b[33m'\u001b[39;49;00m,\n",
      "                        help=\u001b[33m'\u001b[39;49;00m\u001b[33mrandom seed (default: 1)\u001b[39;49;00m\u001b[33m'\u001b[39;49;00m)\n",
      "\n",
      "    \u001b[37m# Model Parameters\u001b[39;49;00m\n",
      "    parser.add_argument(\u001b[33m'\u001b[39;49;00m\u001b[33m--embedding_dim\u001b[39;49;00m\u001b[33m'\u001b[39;49;00m, \u001b[36mtype\u001b[39;49;00m=\u001b[36mint\u001b[39;49;00m, default=\u001b[34m32\u001b[39;49;00m, metavar=\u001b[33m'\u001b[39;49;00m\u001b[33mN\u001b[39;49;00m\u001b[33m'\u001b[39;49;00m,\n",
      "                        help=\u001b[33m'\u001b[39;49;00m\u001b[33msize of the word embeddings (default: 32)\u001b[39;49;00m\u001b[33m'\u001b[39;49;00m)\n",
      "    parser.add_argument(\u001b[33m'\u001b[39;49;00m\u001b[33m--hidden_dim\u001b[39;49;00m\u001b[33m'\u001b[39;49;00m, \u001b[36mtype\u001b[39;49;00m=\u001b[36mint\u001b[39;49;00m, default=\u001b[34m100\u001b[39;49;00m, metavar=\u001b[33m'\u001b[39;49;00m\u001b[33mN\u001b[39;49;00m\u001b[33m'\u001b[39;49;00m,\n",
      "                        help=\u001b[33m'\u001b[39;49;00m\u001b[33msize of the hidden dimension (default: 100)\u001b[39;49;00m\u001b[33m'\u001b[39;49;00m)\n",
      "    parser.add_argument(\u001b[33m'\u001b[39;49;00m\u001b[33m--vocab_size\u001b[39;49;00m\u001b[33m'\u001b[39;49;00m, \u001b[36mtype\u001b[39;49;00m=\u001b[36mint\u001b[39;49;00m, default=\u001b[34m5000\u001b[39;49;00m, metavar=\u001b[33m'\u001b[39;49;00m\u001b[33mN\u001b[39;49;00m\u001b[33m'\u001b[39;49;00m,\n",
      "                        help=\u001b[33m'\u001b[39;49;00m\u001b[33msize of the vocabulary (default: 5000)\u001b[39;49;00m\u001b[33m'\u001b[39;49;00m)\n",
      "\n",
      "    \u001b[37m# SageMaker Parameters\u001b[39;49;00m\n",
      "    parser.add_argument(\u001b[33m'\u001b[39;49;00m\u001b[33m--hosts\u001b[39;49;00m\u001b[33m'\u001b[39;49;00m, \u001b[36mtype\u001b[39;49;00m=\u001b[36mlist\u001b[39;49;00m, default=json.loads(os.environ[\u001b[33m'\u001b[39;49;00m\u001b[33mSM_HOSTS\u001b[39;49;00m\u001b[33m'\u001b[39;49;00m]))\n",
      "    parser.add_argument(\u001b[33m'\u001b[39;49;00m\u001b[33m--current-host\u001b[39;49;00m\u001b[33m'\u001b[39;49;00m, \u001b[36mtype\u001b[39;49;00m=\u001b[36mstr\u001b[39;49;00m, default=os.environ[\u001b[33m'\u001b[39;49;00m\u001b[33mSM_CURRENT_HOST\u001b[39;49;00m\u001b[33m'\u001b[39;49;00m])\n",
      "    parser.add_argument(\u001b[33m'\u001b[39;49;00m\u001b[33m--model-dir\u001b[39;49;00m\u001b[33m'\u001b[39;49;00m, \u001b[36mtype\u001b[39;49;00m=\u001b[36mstr\u001b[39;49;00m, default=os.environ[\u001b[33m'\u001b[39;49;00m\u001b[33mSM_MODEL_DIR\u001b[39;49;00m\u001b[33m'\u001b[39;49;00m])\n",
      "    parser.add_argument(\u001b[33m'\u001b[39;49;00m\u001b[33m--data-dir\u001b[39;49;00m\u001b[33m'\u001b[39;49;00m, \u001b[36mtype\u001b[39;49;00m=\u001b[36mstr\u001b[39;49;00m, default=os.environ[\u001b[33m'\u001b[39;49;00m\u001b[33mSM_CHANNEL_TRAINING\u001b[39;49;00m\u001b[33m'\u001b[39;49;00m])\n",
      "    parser.add_argument(\u001b[33m'\u001b[39;49;00m\u001b[33m--num-gpus\u001b[39;49;00m\u001b[33m'\u001b[39;49;00m, \u001b[36mtype\u001b[39;49;00m=\u001b[36mint\u001b[39;49;00m, default=os.environ[\u001b[33m'\u001b[39;49;00m\u001b[33mSM_NUM_GPUS\u001b[39;49;00m\u001b[33m'\u001b[39;49;00m])\n",
      "\n",
      "    args = parser.parse_args()\n",
      "\n",
      "    device = torch.device(\u001b[33m\"\u001b[39;49;00m\u001b[33mcuda\u001b[39;49;00m\u001b[33m\"\u001b[39;49;00m \u001b[34mif\u001b[39;49;00m torch.cuda.is_available() \u001b[34melse\u001b[39;49;00m \u001b[33m\"\u001b[39;49;00m\u001b[33mcpu\u001b[39;49;00m\u001b[33m\"\u001b[39;49;00m)\n",
      "    \u001b[34mprint\u001b[39;49;00m(\u001b[33m\"\u001b[39;49;00m\u001b[33mUsing device {}.\u001b[39;49;00m\u001b[33m\"\u001b[39;49;00m.format(device))\n",
      "\n",
      "    torch.manual_seed(args.seed)\n",
      "\n",
      "    \u001b[37m# Load the training data.\u001b[39;49;00m\n",
      "    train_loader = _get_train_data_loader(args.batch_size, args.data_dir)\n",
      "\n",
      "    \u001b[37m# Build the model.\u001b[39;49;00m\n",
      "    model = LSTMClassifier(args.embedding_dim, args.hidden_dim, args.vocab_size).to(device)\n",
      "\n",
      "    \u001b[34mwith\u001b[39;49;00m \u001b[36mopen\u001b[39;49;00m(os.path.join(args.data_dir, \u001b[33m\"\u001b[39;49;00m\u001b[33mword_dict.pkl\u001b[39;49;00m\u001b[33m\"\u001b[39;49;00m), \u001b[33m\"\u001b[39;49;00m\u001b[33mrb\u001b[39;49;00m\u001b[33m\"\u001b[39;49;00m) \u001b[34mas\u001b[39;49;00m f:\n",
      "        model.word_dict = pickle.load(f)\n",
      "\n",
      "    \u001b[34mprint\u001b[39;49;00m(\u001b[33m\"\u001b[39;49;00m\u001b[33mModel loaded with embedding_dim {}, hidden_dim {}, vocab_size {}.\u001b[39;49;00m\u001b[33m\"\u001b[39;49;00m.format(\n",
      "        args.embedding_dim, args.hidden_dim, args.vocab_size\n",
      "    ))\n",
      "\n",
      "    \u001b[37m# Train the model.\u001b[39;49;00m\n",
      "    optimizer = optim.Adam(model.parameters())\n",
      "    loss_fn = torch.nn.BCELoss()\n",
      "\n",
      "    train(model, train_loader, args.epochs, optimizer, loss_fn, device)\n",
      "\n",
      "    \u001b[37m# Save the parameters used to construct the model\u001b[39;49;00m\n",
      "    model_info_path = os.path.join(args.model_dir, \u001b[33m'\u001b[39;49;00m\u001b[33mmodel_info.pth\u001b[39;49;00m\u001b[33m'\u001b[39;49;00m)\n",
      "    \u001b[34mwith\u001b[39;49;00m \u001b[36mopen\u001b[39;49;00m(model_info_path, \u001b[33m'\u001b[39;49;00m\u001b[33mwb\u001b[39;49;00m\u001b[33m'\u001b[39;49;00m) \u001b[34mas\u001b[39;49;00m f:\n",
      "        model_info = {\n",
      "            \u001b[33m'\u001b[39;49;00m\u001b[33membedding_dim\u001b[39;49;00m\u001b[33m'\u001b[39;49;00m: args.embedding_dim,\n",
      "            \u001b[33m'\u001b[39;49;00m\u001b[33mhidden_dim\u001b[39;49;00m\u001b[33m'\u001b[39;49;00m: args.hidden_dim,\n",
      "            \u001b[33m'\u001b[39;49;00m\u001b[33mvocab_size\u001b[39;49;00m\u001b[33m'\u001b[39;49;00m: args.vocab_size,\n",
      "        }\n",
      "        torch.save(model_info, f)\n",
      "\n",
      "\t\u001b[37m# Save the word_dict\u001b[39;49;00m\n",
      "    word_dict_path = os.path.join(args.model_dir, \u001b[33m'\u001b[39;49;00m\u001b[33mword_dict.pkl\u001b[39;49;00m\u001b[33m'\u001b[39;49;00m)\n",
      "    \u001b[34mwith\u001b[39;49;00m \u001b[36mopen\u001b[39;49;00m(word_dict_path, \u001b[33m'\u001b[39;49;00m\u001b[33mwb\u001b[39;49;00m\u001b[33m'\u001b[39;49;00m) \u001b[34mas\u001b[39;49;00m f:\n",
      "        pickle.dump(model.word_dict, f)\n",
      "\n",
      "\t\u001b[37m# Save the model parameters\u001b[39;49;00m\n",
      "    model_path = os.path.join(args.model_dir, \u001b[33m'\u001b[39;49;00m\u001b[33mmodel.pth\u001b[39;49;00m\u001b[33m'\u001b[39;49;00m)\n",
      "    \u001b[34mwith\u001b[39;49;00m \u001b[36mopen\u001b[39;49;00m(model_path, \u001b[33m'\u001b[39;49;00m\u001b[33mwb\u001b[39;49;00m\u001b[33m'\u001b[39;49;00m) \u001b[34mas\u001b[39;49;00m f:\n",
      "        torch.save(model.cpu().state_dict(), f)\n"
     ]
    }
   ],
   "source": [
    "!pygmentize train/train.py"
   ]
  },
  {
   "cell_type": "code",
   "execution_count": 41,
   "metadata": {
    "scrolled": true
   },
   "outputs": [],
   "source": [
    "from sagemaker.pytorch import PyTorch # sagemaker.pytorch.estimator.PyTorch()\n",
    "\n",
    "estimator = PyTorch(entry_point=\"train.py\",\n",
    "                    source_dir=\"train\",\n",
    "                    role=role,\n",
    "                    framework_version='0.4.0',\n",
    "                    train_instance_count=1,\n",
    "                    #train_instance_type='ml.p2.xlarge', #내가 지워서 그런가봄 :(\n",
    "                    train_instance_type='ml.m4.xlarge',\n",
    "                    hyperparameters={\n",
    "                        'epochs': 10,\n",
    "                        #'epochs': 2,\n",
    "                        'hidden_dim': 200,\n",
    "                    })"
   ]
  },
  {
   "cell_type": "code",
   "execution_count": 42,
   "metadata": {},
   "outputs": [],
   "source": [
    "#estimator.fit({'training': input_data})"
   ]
  },
  {
   "cell_type": "code",
   "execution_count": 43,
   "metadata": {},
   "outputs": [],
   "source": [
    "estimator.fit(wait=False) \n",
    "training_job_name = 'sagemaker-pytorch-2019-07-21-13-38-04-857'\n"
   ]
  },
  {
   "cell_type": "markdown",
   "metadata": {},
   "source": [
    "## Step 5: Testing the model\n",
    "\n",
    "As mentioned at the top of this notebook, we will be testing this model by first deploying it and then sending the testing data to the deployed endpoint. We will do this so that we can make sure that the deployed model is working correctly.\n",
    "\n",
    "## Step 6: Deploy the model for testing\n",
    "\n",
    "Now that we have trained our model, we would like to test it to see how it performs. Currently our model takes input of the form `review_length, review[500]` where `review[500]` is a sequence of `500` integers which describe the words present in the review, encoded using `word_dict`. Fortunately for us, SageMaker provides built-in inference code for models with simple inputs such as this.\n",
    "\n",
    "There is one thing that we need to provide, however, and that is a function which loads the saved model. This function must be called `model_fn()` and takes as its only parameter a path to the directory where the model artifacts are stored. This function must also be present in the python file which we specified as the entry point. In our case the model loading function has been provided and so no changes need to be made.\n",
    "\n",
    "**NOTE**: When the built-in inference code is run it must import the `model_fn()` method from the `train.py` file. This is why the training code is wrapped in a main guard ( ie, `if __name__ == '__main__':` )\n",
    "\n",
    "Since we don't need to change anything in the code that was uploaded during training, we can simply deploy the current model as-is.\n",
    "\n",
    "**NOTE:** When deploying a model you are asking SageMaker to launch an compute instance that will wait for data to be sent to it. As a result, this compute instance will continue to run until *you* shut it down. This is important to know since the cost of a deployed endpoint depends on how long it has been running for.\n",
    "\n",
    "In other words **If you are no longer using a deployed endpoint, shut it down!**\n",
    "\n",
    "**TODO:** Deploy the trained model."
   ]
  },
  {
   "cell_type": "code",
   "execution_count": 60,
   "metadata": {},
   "outputs": [
    {
     "name": "stdout",
     "output_type": "stream",
     "text": [
      "2019-07-21 15:22:07 Starting - Preparing the instances for training\n",
      "2019-07-21 15:22:07 Downloading - Downloading input data\n",
      "2019-07-21 15:22:07 Training - Training image download completed. Training in progress.\n",
      "2019-07-21 15:22:07 Uploading - Uploading generated training model\n",
      "2019-07-21 15:22:07 Completed - Training job completed\u001b[31mbash: cannot set terminal process group (-1): Inappropriate ioctl for device\u001b[0m\n",
      "\u001b[31mbash: no job control in this shell\u001b[0m\n",
      "\u001b[31m2019-07-21 13:40:34,178 sagemaker-containers INFO     Imported framework sagemaker_pytorch_container.training\u001b[0m\n",
      "\u001b[31m2019-07-21 13:40:34,180 sagemaker-containers INFO     No GPUs detected (normal if no gpus installed)\u001b[0m\n",
      "\u001b[31m2019-07-21 13:40:34,193 sagemaker_pytorch_container.training INFO     Block until all host DNS lookups succeed.\u001b[0m\n",
      "\u001b[31m2019-07-21 13:40:34,409 sagemaker_pytorch_container.training INFO     Invoking user training script.\u001b[0m\n",
      "\u001b[31m2019-07-21 13:40:34,645 sagemaker-containers INFO     Module train does not provide a setup.py. \u001b[0m\n",
      "\u001b[31mGenerating setup.py\u001b[0m\n",
      "\u001b[31m2019-07-21 13:40:34,645 sagemaker-containers INFO     Generating setup.cfg\u001b[0m\n",
      "\u001b[31m2019-07-21 13:40:34,645 sagemaker-containers INFO     Generating MANIFEST.in\u001b[0m\n",
      "\u001b[31m2019-07-21 13:40:34,646 sagemaker-containers INFO     Installing module with the following command:\u001b[0m\n",
      "\u001b[31m/usr/bin/python -m pip install -U . -r requirements.txt\u001b[0m\n",
      "\u001b[31mProcessing /opt/ml/code\u001b[0m\n",
      "\u001b[31mCollecting pandas (from -r requirements.txt (line 1))\u001b[0m\n",
      "\u001b[31m  Downloading https://files.pythonhosted.org/packages/74/24/0cdbf8907e1e3bc5a8da03345c23cbed7044330bb8f73bb12e711a640a00/pandas-0.24.2-cp35-cp35m-manylinux1_x86_64.whl (10.0MB)\u001b[0m\n",
      "\u001b[31mCollecting numpy (from -r requirements.txt (line 2))\n",
      "  Downloading https://files.pythonhosted.org/packages/bb/ef/d5a21cbc094d3f4d5b5336494dbcc9550b70c766a8345513c7c24ed18418/numpy-1.16.4-cp35-cp35m-manylinux1_x86_64.whl (17.2MB)\u001b[0m\n",
      "\u001b[31mCollecting nltk (from -r requirements.txt (line 3))\n",
      "  Downloading https://files.pythonhosted.org/packages/87/16/4d247e27c55a7b6412e7c4c86f2500ae61afcbf5932b9e3491f8462f8d9e/nltk-3.4.4.zip (1.5MB)\u001b[0m\n",
      "\u001b[31mCollecting beautifulsoup4 (from -r requirements.txt (line 4))\n",
      "  Downloading https://files.pythonhosted.org/packages/1a/b7/34eec2fe5a49718944e215fde81288eec1fa04638aa3fb57c1c6cd0f98c3/beautifulsoup4-4.8.0-py3-none-any.whl (97kB)\u001b[0m\n",
      "\u001b[31mCollecting html5lib (from -r requirements.txt (line 5))\n",
      "  Downloading https://files.pythonhosted.org/packages/a5/62/bbd2be0e7943ec8504b517e62bab011b4946e1258842bc159e5dfde15b96/html5lib-1.0.1-py2.py3-none-any.whl (117kB)\u001b[0m\n",
      "\u001b[31mRequirement already satisfied, skipping upgrade: python-dateutil>=2.5.0 in /usr/local/lib/python3.5/dist-packages (from pandas->-r requirements.txt (line 1)) (2.7.5)\u001b[0m\n",
      "\u001b[31mCollecting pytz>=2011k (from pandas->-r requirements.txt (line 1))\n",
      "  Downloading https://files.pythonhosted.org/packages/3d/73/fe30c2daaaa0713420d0382b16fbb761409f532c56bdcc514bf7b6262bb6/pytz-2019.1-py2.py3-none-any.whl (510kB)\u001b[0m\n",
      "\u001b[31mRequirement already satisfied, skipping upgrade: six in /usr/local/lib/python3.5/dist-packages (from nltk->-r requirements.txt (line 3)) (1.11.0)\u001b[0m\n",
      "\u001b[31mCollecting soupsieve>=1.2 (from beautifulsoup4->-r requirements.txt (line 4))\n",
      "  Downloading https://files.pythonhosted.org/packages/35/e3/25079e8911085ab76a6f2facae0771078260c930216ab0b0c44dc5c9bf31/soupsieve-1.9.2-py2.py3-none-any.whl\u001b[0m\n",
      "\u001b[31mCollecting webencodings (from html5lib->-r requirements.txt (line 5))\n",
      "  Downloading https://files.pythonhosted.org/packages/f4/24/2a3e3df732393fed8b3ebf2ec078f05546de641fe1b667ee316ec1dcf3b7/webencodings-0.5.1-py2.py3-none-any.whl\u001b[0m\n",
      "\u001b[31mBuilding wheels for collected packages: nltk, train\n",
      "  Running setup.py bdist_wheel for nltk: started\u001b[0m\n",
      "\u001b[31m  Running setup.py bdist_wheel for nltk: finished with status 'done'\n",
      "  Stored in directory: /root/.cache/pip/wheels/41/c8/31/48ace4468e236e0e8435f30d33e43df48594e4d53e367cf061\n",
      "  Running setup.py bdist_wheel for train: started\n",
      "  Running setup.py bdist_wheel for train: finished with status 'done'\n",
      "  Stored in directory: /tmp/pip-ephem-wheel-cache-czohip54/wheels/35/24/16/37574d11bf9bde50616c67372a334f94fa8356bc7164af8ca3\u001b[0m\n",
      "\u001b[31mSuccessfully built nltk train\u001b[0m\n",
      "\u001b[31mInstalling collected packages: pytz, numpy, pandas, nltk, soupsieve, beautifulsoup4, webencodings, html5lib, train\n",
      "  Found existing installation: numpy 1.15.4\n",
      "    Uninstalling numpy-1.15.4:\n",
      "      Successfully uninstalled numpy-1.15.4\u001b[0m\n",
      "\u001b[31mSuccessfully installed beautifulsoup4-4.8.0 html5lib-1.0.1 nltk-3.4.4 numpy-1.16.4 pandas-0.24.2 pytz-2019.1 soupsieve-1.9.2 train-1.0.0 webencodings-0.5.1\u001b[0m\n",
      "\u001b[31mYou are using pip version 18.1, however version 19.1.1 is available.\u001b[0m\n",
      "\u001b[31mYou should consider upgrading via the 'pip install --upgrade pip' command.\u001b[0m\n",
      "\u001b[31m2019-07-21 13:40:47,021 sagemaker-containers INFO     No GPUs detected (normal if no gpus installed)\u001b[0m\n",
      "\u001b[31m2019-07-21 13:40:47,035 sagemaker-containers INFO     Invoking user script\n",
      "\u001b[0m\n",
      "\u001b[31mTraining Env:\n",
      "\u001b[0m\n",
      "\u001b[31m{\n",
      "    \"channel_input_dirs\": {\n",
      "        \"training\": \"/opt/ml/input/data/training\"\n",
      "    },\n",
      "    \"log_level\": 20,\n",
      "    \"input_dir\": \"/opt/ml/input\",\n",
      "    \"network_interface_name\": \"eth0\",\n",
      "    \"hyperparameters\": {\n",
      "        \"hidden_dim\": 200,\n",
      "        \"epochs\": 10\n",
      "    },\n",
      "    \"current_host\": \"algo-1\",\n",
      "    \"num_gpus\": 0,\n",
      "    \"output_data_dir\": \"/opt/ml/output/data\",\n",
      "    \"num_cpus\": 4,\n",
      "    \"module_name\": \"train\",\n",
      "    \"input_config_dir\": \"/opt/ml/input/config\",\n",
      "    \"framework_module\": \"sagemaker_pytorch_container.training:main\",\n",
      "    \"output_dir\": \"/opt/ml/output\",\n",
      "    \"hosts\": [\n",
      "        \"algo-1\"\n",
      "    ],\n",
      "    \"output_intermediate_dir\": \"/opt/ml/output/intermediate\",\n",
      "    \"module_dir\": \"s3://sagemaker-ap-northeast-2-078889779620/sagemaker-pytorch-2019-07-21-13-38-04-857/source/sourcedir.tar.gz\",\n",
      "    \"resource_config\": {\n",
      "        \"network_interface_name\": \"eth0\",\n",
      "        \"current_host\": \"algo-1\",\n",
      "        \"hosts\": [\n",
      "            \"algo-1\"\n",
      "        ]\n",
      "    },\n",
      "    \"model_dir\": \"/opt/ml/model\",\n",
      "    \"job_name\": \"sagemaker-pytorch-2019-07-21-13-38-04-857\",\n",
      "    \"additional_framework_parameters\": {},\n",
      "    \"user_entry_point\": \"train.py\",\n",
      "    \"input_data_config\": {\n",
      "        \"training\": {\n",
      "            \"S3DistributionType\": \"FullyReplicated\",\n",
      "            \"RecordWrapperType\": \"None\",\n",
      "            \"TrainingInputMode\": \"File\"\n",
      "        }\n",
      "    }\u001b[0m\n",
      "\u001b[31m}\n",
      "\u001b[0m\n",
      "\u001b[31mEnvironment variables:\n",
      "\u001b[0m\n",
      "\u001b[31mSM_OUTPUT_DATA_DIR=/opt/ml/output/data\u001b[0m\n",
      "\u001b[31mSM_LOG_LEVEL=20\u001b[0m\n",
      "\u001b[31mSM_USER_ARGS=[\"--epochs\",\"10\",\"--hidden_dim\",\"200\"]\u001b[0m\n",
      "\u001b[31mSM_INPUT_CONFIG_DIR=/opt/ml/input/config\u001b[0m\n",
      "\u001b[31mSM_MODEL_DIR=/opt/ml/model\u001b[0m\n",
      "\u001b[31mSM_HP_EPOCHS=10\u001b[0m\n",
      "\u001b[31mSM_FRAMEWORK_MODULE=sagemaker_pytorch_container.training:main\u001b[0m\n",
      "\u001b[31mSM_OUTPUT_INTERMEDIATE_DIR=/opt/ml/output/intermediate\u001b[0m\n",
      "\u001b[31mSM_CURRENT_HOST=algo-1\u001b[0m\n",
      "\u001b[31mSM_NUM_GPUS=0\u001b[0m\n",
      "\u001b[31mSM_HP_HIDDEN_DIM=200\u001b[0m\n",
      "\u001b[31mSM_HOSTS=[\"algo-1\"]\u001b[0m\n",
      "\u001b[31mSM_RESOURCE_CONFIG={\"current_host\":\"algo-1\",\"hosts\":[\"algo-1\"],\"network_interface_name\":\"eth0\"}\u001b[0m\n",
      "\u001b[31mSM_MODULE_NAME=train\u001b[0m\n",
      "\u001b[31mSM_OUTPUT_DIR=/opt/ml/output\u001b[0m\n",
      "\u001b[31mSM_MODULE_DIR=s3://sagemaker-ap-northeast-2-078889779620/sagemaker-pytorch-2019-07-21-13-38-04-857/source/sourcedir.tar.gz\u001b[0m\n",
      "\u001b[31mSM_NUM_CPUS=4\u001b[0m\n",
      "\u001b[31mSM_NETWORK_INTERFACE_NAME=eth0\u001b[0m\n",
      "\u001b[31mSM_USER_ENTRY_POINT=train.py\u001b[0m\n",
      "\u001b[31mPYTHONPATH=/usr/local/bin:/usr/lib/python35.zip:/usr/lib/python3.5:/usr/lib/python3.5/plat-x86_64-linux-gnu:/usr/lib/python3.5/lib-dynload:/usr/local/lib/python3.5/dist-packages:/usr/lib/python3/dist-packages\u001b[0m\n",
      "\u001b[31mSM_FRAMEWORK_PARAMS={}\u001b[0m\n",
      "\u001b[31mSM_HPS={\"epochs\":10,\"hidden_dim\":200}\u001b[0m\n",
      "\u001b[31mSM_TRAINING_ENV={\"additional_framework_parameters\":{},\"channel_input_dirs\":{\"training\":\"/opt/ml/input/data/training\"},\"current_host\":\"algo-1\",\"framework_module\":\"sagemaker_pytorch_container.training:main\",\"hosts\":[\"algo-1\"],\"hyperparameters\":{\"epochs\":10,\"hidden_dim\":200},\"input_config_dir\":\"/opt/ml/input/config\",\"input_data_config\":{\"training\":{\"RecordWrapperType\":\"None\",\"S3DistributionType\":\"FullyReplicated\",\"TrainingInputMode\":\"File\"}},\"input_dir\":\"/opt/ml/input\",\"job_name\":\"sagemaker-pytorch-2019-07-21-13-38-04-857\",\"log_level\":20,\"model_dir\":\"/opt/ml/model\",\"module_dir\":\"s3://sagemaker-ap-northeast-2-078889779620/sagemaker-pytorch-2019-07-21-13-38-04-857/source/sourcedir.tar.gz\",\"module_name\":\"train\",\"network_interface_name\":\"eth0\",\"num_cpus\":4,\"num_gpus\":0,\"output_data_dir\":\"/opt/ml/output/data\",\"output_dir\":\"/opt/ml/output\",\"output_intermediate_dir\":\"/opt/ml/output/intermediate\",\"resource_config\":{\"current_host\":\"algo-1\",\"hosts\":[\"algo-1\"],\"network_interface_name\":\"eth0\"},\"user_entry_point\":\"train.py\"}\u001b[0m\n",
      "\u001b[31mSM_CHANNELS=[\"training\"]\u001b[0m\n",
      "\u001b[31mSM_INPUT_DIR=/opt/ml/input\u001b[0m\n",
      "\u001b[31mSM_CHANNEL_TRAINING=/opt/ml/input/data/training\u001b[0m\n",
      "\u001b[31mSM_INPUT_DATA_CONFIG={\"training\":{\"RecordWrapperType\":\"None\",\"S3DistributionType\":\"FullyReplicated\",\"TrainingInputMode\":\"File\"}}\n",
      "\u001b[0m\n",
      "\u001b[31mInvoking script with the following command:\n",
      "\u001b[0m\n",
      "\u001b[31m/usr/bin/python -m train --epochs 10 --hidden_dim 200\n",
      "\n",
      "\u001b[0m\n",
      "\u001b[31mUsing device cpu.\u001b[0m\n",
      "\u001b[31mGet train data loader.\u001b[0m\n",
      "\u001b[31mModel loaded with embedding_dim 32, hidden_dim 200, vocab_size 5000.\u001b[0m\n",
      "\u001b[31mEpoch: 1, BCELoss: 0.6736250081840827\u001b[0m\n",
      "\u001b[31mEpoch: 2, BCELoss: 0.6278060857130556\u001b[0m\n",
      "\u001b[31mEpoch: 3, BCELoss: 0.5238937394959586\u001b[0m\n",
      "\u001b[31mEpoch: 4, BCELoss: 0.45799059223155586\u001b[0m\n",
      "\u001b[31mEpoch: 5, BCELoss: 0.4114349101270948\u001b[0m\n",
      "\u001b[31mEpoch: 6, BCELoss: 0.3608632963530871\u001b[0m\n",
      "\u001b[31mEpoch: 7, BCELoss: 0.33081247551100595\u001b[0m\n",
      "\u001b[31mEpoch: 8, BCELoss: 0.3188616463116237\u001b[0m\n",
      "\u001b[31mEpoch: 9, BCELoss: 0.315538371095852\u001b[0m\n",
      "\u001b[31mEpoch: 10, BCELoss: 0.29503550000336703\u001b[0m\n",
      "\u001b[31m2019-07-21 15:21:56,755 sagemaker-containers INFO     Reporting training SUCCESS\u001b[0m\n",
      "Billable seconds: 6137\n"
     ]
    }
   ],
   "source": [
    "attached_estimator = PyTorch.attach(training_job_name, sagemaker_session=sagemaker_session)"
   ]
  },
  {
   "cell_type": "code",
   "execution_count": 61,
   "metadata": {},
   "outputs": [
    {
     "name": "stderr",
     "output_type": "stream",
     "text": [
      "Using already existing model: sagemaker-pytorch-2019-07-21-13-38-04-857\n"
     ]
    },
    {
     "name": "stdout",
     "output_type": "stream",
     "text": [
      "-------------------------------------------------------------------------------------!"
     ]
    }
   ],
   "source": [
    "predictor = attached_estimator.deploy(initial_instance_count=1, instance_type='ml.m4.xlarge')"
   ]
  },
  {
   "cell_type": "markdown",
   "metadata": {},
   "source": [
    "## Step 7 - Use the model for testing\n",
    "\n",
    "Once deployed, we can read in the test data and send it off to our deployed model to get some results. Once we collect all of the results we can determine how accurate our model is."
   ]
  },
  {
   "cell_type": "code",
   "execution_count": 62,
   "metadata": {},
   "outputs": [],
   "source": [
    "import pandas as pd"
   ]
  },
  {
   "cell_type": "code",
   "execution_count": 63,
   "metadata": {
    "scrolled": true
   },
   "outputs": [],
   "source": [
    "test_X = pd.concat([pd.DataFrame(test_X_len), pd.DataFrame(test_X)], axis=1)"
   ]
  },
  {
   "cell_type": "code",
   "execution_count": 64,
   "metadata": {},
   "outputs": [
    {
     "name": "stdout",
     "output_type": "stream",
     "text": [
      "<class 'pandas.core.frame.DataFrame'>\n",
      "12550000\n",
      "(25000, 502)\n"
     ]
    }
   ],
   "source": [
    "print(type(test_X))\n",
    "print(test_X.size)\n",
    "print(test_X.shape)"
   ]
  },
  {
   "cell_type": "code",
   "execution_count": 65,
   "metadata": {},
   "outputs": [],
   "source": [
    "# We split the data into chunks and send each chunk seperately, accumulating the results.\n",
    "\n",
    "def predict(data, rows=512):\n",
    "    split_array = np.array_split(data, int(data.shape[0] / float(rows) + 1))\n",
    "    predictions = np.array([])\n",
    "    for array in split_array: \n",
    "        predictions = np.append(predictions, predictor.predict(array))\n",
    "    return predictions"
   ]
  },
  {
   "cell_type": "code",
   "execution_count": 66,
   "metadata": {},
   "outputs": [],
   "source": [
    "predictions = predict(test_X.values)\n",
    "predictions = [round(num) for num in predictions]"
   ]
  },
  {
   "cell_type": "code",
   "execution_count": 67,
   "metadata": {},
   "outputs": [
    {
     "data": {
      "text/plain": [
       "0.84404"
      ]
     },
     "execution_count": 67,
     "metadata": {},
     "output_type": "execute_result"
    }
   ],
   "source": [
    "from sklearn.metrics import accuracy_score\n",
    "accuracy_score(test_y, predictions)"
   ]
  },
  {
   "cell_type": "markdown",
   "metadata": {},
   "source": [
    "**Question:** How does this model compare to the XGBoost model you created earlier? Why might these two models perform differently on this dataset? Which do *you* think is better for sentiment analysis?"
   ]
  },
  {
   "cell_type": "markdown",
   "metadata": {},
   "source": [
    "**Answer:**\n",
    "\n",
    "The accuracy of both models seem to be comparable. However, the RNN considers the **sequence** of the inputs, rather than merely **counting** words. For sentiment analysis, the **order** of words could be very important.\n",
    "\n",
    "However, such claim must be supported with higher accuracy results."
   ]
  },
  {
   "cell_type": "markdown",
   "metadata": {},
   "source": [
    "### (TODO) More testing\n",
    "\n",
    "We now have a trained model which has been deployed and which we can send processed reviews to and which returns the predicted sentiment. However, ultimately we would like to be able to send our model an unprocessed review. That is, we would like to send the review itself as a string. For example, suppose we wish to send the following review to our model."
   ]
  },
  {
   "cell_type": "code",
   "execution_count": 56,
   "metadata": {},
   "outputs": [],
   "source": [
    "test_review = 'The simplest pleasures in life are the best, and this film is one of them. Combining a rather basic storyline of love and adventure this movie transcends the usual weekend fair with wit and unmitigated charm.'"
   ]
  },
  {
   "cell_type": "markdown",
   "metadata": {},
   "source": [
    "The question we now need to answer is, how do we send this review to our model?\n",
    "\n",
    "Recall in the first section of this notebook we did a bunch of data processing to the IMDb dataset. In particular, we did two specific things to the provided reviews.\n",
    " - Removed any html tags and stemmed the input\n",
    " - Encoded the review as a sequence of integers using `word_dict`\n",
    " \n",
    "In order process the review we will need to repeat these two steps.\n",
    "\n",
    "**TODO**: Using the `review_to_words` and `convert_and_pad` methods from section one, convert `test_review` into a numpy array `test_data` suitable to send to our model. Remember that our model expects input of the form `review_length, review[500]`."
   ]
  },
  {
   "cell_type": "code",
   "execution_count": 68,
   "metadata": {},
   "outputs": [
    {
     "name": "stdout",
     "output_type": "stream",
     "text": [
      "['simplest', 'pleasur', 'life', 'best', 'film', 'one', 'combin', 'rather', 'basic', 'storylin', 'love', 'adventur', 'movi', 'transcend', 'usual', 'weekend', 'fair', 'wit', 'unmitig', 'charm']\n"
     ]
    }
   ],
   "source": [
    "test_words = review_to_words(test_review) # now a word list\n",
    "print(test_words)"
   ]
  },
  {
   "cell_type": "code",
   "execution_count": 69,
   "metadata": {
    "scrolled": true
   },
   "outputs": [],
   "source": [
    "# TODO: Convert test_review into a form usable by the model and save the results in test_data\n",
    " \n"
   ]
  },
  {
   "cell_type": "code",
   "execution_count": 75,
   "metadata": {
    "scrolled": true
   },
   "outputs": [
    {
     "name": "stdout",
     "output_type": "stream",
     "text": [
      "20\n"
     ]
    }
   ],
   "source": [
    "test_int_list, test_length_int = convert_and_pad(word_dict, test_words, pad=500) \n",
    "\n",
    "print(test_length_int)"
   ]
  },
  {
   "cell_type": "code",
   "execution_count": 76,
   "metadata": {},
   "outputs": [
    {
     "name": "stdout",
     "output_type": "stream",
     "text": [
      "[20]\n",
      "[20, 1, 1375, 49, 53, 3, 4, 878, 173, 392, 682, 29, 724, 2, 4404, 275, 2078, 1061, 760, 1, 581, 0, 0, 0, 0, 0, 0, 0, 0, 0, 0, 0, 0, 0, 0, 0, 0, 0, 0, 0, 0, 0, 0, 0, 0, 0, 0, 0, 0, 0, 0, 0, 0, 0, 0, 0, 0, 0, 0, 0, 0, 0, 0, 0, 0, 0, 0, 0, 0, 0, 0, 0, 0, 0, 0, 0, 0, 0, 0, 0, 0, 0, 0, 0, 0, 0, 0, 0, 0, 0, 0, 0, 0, 0, 0, 0, 0, 0, 0, 0, 0, 0, 0, 0, 0, 0, 0, 0, 0, 0, 0, 0, 0, 0, 0, 0, 0, 0, 0, 0, 0, 0, 0, 0, 0, 0, 0, 0, 0, 0, 0, 0, 0, 0, 0, 0, 0, 0, 0, 0, 0, 0, 0, 0, 0, 0, 0, 0, 0, 0, 0, 0, 0, 0, 0, 0, 0, 0, 0, 0, 0, 0, 0, 0, 0, 0, 0, 0, 0, 0, 0, 0, 0, 0, 0, 0, 0, 0, 0, 0, 0, 0, 0, 0, 0, 0, 0, 0, 0, 0, 0, 0, 0, 0, 0, 0, 0, 0, 0, 0, 0, 0, 0, 0, 0, 0, 0, 0, 0, 0, 0, 0, 0, 0, 0, 0, 0, 0, 0, 0, 0, 0, 0, 0, 0, 0, 0, 0, 0, 0, 0, 0, 0, 0, 0, 0, 0, 0, 0, 0, 0, 0, 0, 0, 0, 0, 0, 0, 0, 0, 0, 0, 0, 0, 0, 0, 0, 0, 0, 0, 0, 0, 0, 0, 0, 0, 0, 0, 0, 0, 0, 0, 0, 0, 0, 0, 0, 0, 0, 0, 0, 0, 0, 0, 0, 0, 0, 0, 0, 0, 0, 0, 0, 0, 0, 0, 0, 0, 0, 0, 0, 0, 0, 0, 0, 0, 0, 0, 0, 0, 0, 0, 0, 0, 0, 0, 0, 0, 0, 0, 0, 0, 0, 0, 0, 0, 0, 0, 0, 0, 0, 0, 0, 0, 0, 0, 0, 0, 0, 0, 0, 0, 0, 0, 0, 0, 0, 0, 0, 0, 0, 0, 0, 0, 0, 0, 0, 0, 0, 0, 0, 0, 0, 0, 0, 0, 0, 0, 0, 0, 0, 0, 0, 0, 0, 0, 0, 0, 0, 0, 0, 0, 0, 0, 0, 0, 0, 0, 0, 0, 0, 0, 0, 0, 0, 0, 0, 0, 0, 0, 0, 0, 0, 0, 0, 0, 0, 0, 0, 0, 0, 0, 0, 0, 0, 0, 0, 0, 0, 0, 0, 0, 0, 0, 0, 0, 0, 0, 0, 0, 0, 0, 0, 0, 0, 0, 0, 0, 0, 0, 0, 0, 0, 0, 0, 0, 0, 0, 0, 0, 0, 0, 0, 0, 0, 0, 0, 0, 0, 0, 0, 0, 0, 0, 0, 0, 0, 0, 0, 0, 0, 0, 0, 0, 0, 0, 0, 0, 0, 0, 0, 0, 0, 0, 0, 0, 0, 0, 0, 0, 0, 0, 0, 0, 0, 0, 0, 0, 0, 0, 0]\n"
     ]
    }
   ],
   "source": [
    "test_review_input = []\n",
    "test_review_input.append(test_length_int)\n",
    "print(test_review_input)\n",
    "for number in test_int_list:\n",
    "    test_review_input.append(number)\n",
    "print(test_review_input)"
   ]
  },
  {
   "cell_type": "code",
   "execution_count": 77,
   "metadata": {},
   "outputs": [],
   "source": [
    "test_review_input_nparray = np.array(test_review_input) "
   ]
  },
  {
   "cell_type": "code",
   "execution_count": 78,
   "metadata": {},
   "outputs": [
    {
     "name": "stdout",
     "output_type": "stream",
     "text": [
      "(1, 501)\n"
     ]
    }
   ],
   "source": [
    "print(test_review_input_nparray.reshape(1,-1).shape)"
   ]
  },
  {
   "cell_type": "markdown",
   "metadata": {},
   "source": [
    "Now that we have processed the review, we can send the resulting array to our model to predict the sentiment of the review."
   ]
  },
  {
   "cell_type": "code",
   "execution_count": 81,
   "metadata": {
    "scrolled": true
   },
   "outputs": [
    {
     "data": {
      "text/plain": [
       "array(0.8552408, dtype=float32)"
      ]
     },
     "execution_count": 81,
     "metadata": {},
     "output_type": "execute_result"
    }
   ],
   "source": [
    "predictor.predict(np.array(test_review_input_nparray.reshape(1,-1)))"
   ]
  },
  {
   "cell_type": "markdown",
   "metadata": {},
   "source": [
    "Since the return value of our model is close to `1`, we can be certain that the review we submitted is positive."
   ]
  },
  {
   "cell_type": "markdown",
   "metadata": {},
   "source": [
    "### Delete the endpoint\n",
    "\n",
    "Of course, just like in the XGBoost notebook, once we've deployed an endpoint it continues to run until we tell it to shut down. Since we are done using our endpoint for now, we can delete it."
   ]
  },
  {
   "cell_type": "code",
   "execution_count": 82,
   "metadata": {},
   "outputs": [],
   "source": [
    "attached_estimator.delete_endpoint()"
   ]
  },
  {
   "cell_type": "markdown",
   "metadata": {},
   "source": [
    "## Step 6 (again) - Deploy the model for the web app\n",
    "\n",
    "Now that we know that our model is working, it's time to create some custom inference code so that we can send the model a review which has not been processed and have it determine the sentiment of the review.\n",
    "\n",
    "As we saw above, by default the estimator which we created, when deployed, will use the entry script and directory which we provided when creating the model. However, since we now wish to accept a string as input and our model expects a processed review, we need to write some custom inference code.\n",
    "\n",
    "We will store the code that we write in the `serve` directory. Provided in this directory is the `model.py` file that we used to construct our model, a `utils.py` file which contains the `review_to_words` and `convert_and_pad` pre-processing functions which we used during the initial data processing, and `predict.py`, the file which will contain our custom inference code. Note also that `requirements.txt` is present which will tell SageMaker what Python libraries are required by our custom inference code.\n",
    "\n",
    "When deploying a PyTorch model in SageMaker, you are expected to provide four functions which the SageMaker inference container will use.\n",
    " - `model_fn`: This function is the same function that we used in the training script and it tells SageMaker how to load our model.\n",
    " - `input_fn`: This function receives the raw serialized input that has been sent to the model's endpoint and its job is to de-serialize and make the input available for the inference code.\n",
    " - `output_fn`: This function takes the output of the inference code and its job is to serialize this output and return it to the caller of the model's endpoint.\n",
    " - `predict_fn`: The heart of the inference script, this is where the actual prediction is done and is the function which you will need to complete.\n",
    "\n",
    "For the simple website that we are constructing during this project, the `input_fn` and `output_fn` methods are relatively straightforward. We only require being able to accept a string as input and we expect to return a single value as output. You might imagine though that in a more complex application the input or output may be image data or some other binary data which would require some effort to serialize.\n",
    "\n",
    "### (TODO) Writing inference code\n",
    "\n",
    "Before writing our custom inference code, we will begin by taking a look at the code which has been provided."
   ]
  },
  {
   "cell_type": "code",
   "execution_count": 50,
   "metadata": {
    "scrolled": true
   },
   "outputs": [
    {
     "name": "stdout",
     "output_type": "stream",
     "text": [
      "\u001b[34mimport\u001b[39;49;00m \u001b[04m\u001b[36margparse\u001b[39;49;00m\r\n",
      "\u001b[34mimport\u001b[39;49;00m \u001b[04m\u001b[36mjson\u001b[39;49;00m\r\n",
      "\u001b[34mimport\u001b[39;49;00m \u001b[04m\u001b[36mos\u001b[39;49;00m\r\n",
      "\u001b[34mimport\u001b[39;49;00m \u001b[04m\u001b[36mpickle\u001b[39;49;00m\r\n",
      "\u001b[34mimport\u001b[39;49;00m \u001b[04m\u001b[36msys\u001b[39;49;00m\r\n",
      "\u001b[34mimport\u001b[39;49;00m \u001b[04m\u001b[36msagemaker_containers\u001b[39;49;00m\r\n",
      "\u001b[34mimport\u001b[39;49;00m \u001b[04m\u001b[36mpandas\u001b[39;49;00m \u001b[34mas\u001b[39;49;00m \u001b[04m\u001b[36mpd\u001b[39;49;00m\r\n",
      "\u001b[34mimport\u001b[39;49;00m \u001b[04m\u001b[36mnumpy\u001b[39;49;00m \u001b[34mas\u001b[39;49;00m \u001b[04m\u001b[36mnp\u001b[39;49;00m\r\n",
      "\u001b[34mimport\u001b[39;49;00m \u001b[04m\u001b[36mtorch\u001b[39;49;00m\r\n",
      "\u001b[34mimport\u001b[39;49;00m \u001b[04m\u001b[36mtorch.nn\u001b[39;49;00m \u001b[34mas\u001b[39;49;00m \u001b[04m\u001b[36mnn\u001b[39;49;00m\r\n",
      "\u001b[34mimport\u001b[39;49;00m \u001b[04m\u001b[36mtorch.optim\u001b[39;49;00m \u001b[34mas\u001b[39;49;00m \u001b[04m\u001b[36moptim\u001b[39;49;00m\r\n",
      "\u001b[34mimport\u001b[39;49;00m \u001b[04m\u001b[36mtorch.utils.data\u001b[39;49;00m\r\n",
      "\r\n",
      "\u001b[34mfrom\u001b[39;49;00m \u001b[04m\u001b[36mmodel\u001b[39;49;00m \u001b[34mimport\u001b[39;49;00m LSTMClassifier\r\n",
      "\r\n",
      "\u001b[34mfrom\u001b[39;49;00m \u001b[04m\u001b[36mutils\u001b[39;49;00m \u001b[34mimport\u001b[39;49;00m review_to_words, convert_and_pad\r\n",
      "\r\n",
      "\u001b[34mdef\u001b[39;49;00m \u001b[32mmodel_fn\u001b[39;49;00m(model_dir):\r\n",
      "    \u001b[33m\"\"\"Load the PyTorch model from the `model_dir` directory.\"\"\"\u001b[39;49;00m\r\n",
      "    \u001b[34mprint\u001b[39;49;00m(\u001b[33m\"\u001b[39;49;00m\u001b[33mLoading model.\u001b[39;49;00m\u001b[33m\"\u001b[39;49;00m)\r\n",
      "\r\n",
      "    \u001b[37m# First, load the parameters used to create the model.\u001b[39;49;00m\r\n",
      "    model_info = {}\r\n",
      "    model_info_path = os.path.join(model_dir, \u001b[33m'\u001b[39;49;00m\u001b[33mmodel_info.pth\u001b[39;49;00m\u001b[33m'\u001b[39;49;00m)\r\n",
      "    \u001b[34mwith\u001b[39;49;00m \u001b[36mopen\u001b[39;49;00m(model_info_path, \u001b[33m'\u001b[39;49;00m\u001b[33mrb\u001b[39;49;00m\u001b[33m'\u001b[39;49;00m) \u001b[34mas\u001b[39;49;00m f:\r\n",
      "        model_info = torch.load(f)\r\n",
      "\r\n",
      "    \u001b[34mprint\u001b[39;49;00m(\u001b[33m\"\u001b[39;49;00m\u001b[33mmodel_info: {}\u001b[39;49;00m\u001b[33m\"\u001b[39;49;00m.format(model_info))\r\n",
      "\r\n",
      "    \u001b[37m# Determine the device and construct the model.\u001b[39;49;00m\r\n",
      "    device = torch.device(\u001b[33m\"\u001b[39;49;00m\u001b[33mcuda\u001b[39;49;00m\u001b[33m\"\u001b[39;49;00m \u001b[34mif\u001b[39;49;00m torch.cuda.is_available() \u001b[34melse\u001b[39;49;00m \u001b[33m\"\u001b[39;49;00m\u001b[33mcpu\u001b[39;49;00m\u001b[33m\"\u001b[39;49;00m)\r\n",
      "    model = LSTMClassifier(model_info[\u001b[33m'\u001b[39;49;00m\u001b[33membedding_dim\u001b[39;49;00m\u001b[33m'\u001b[39;49;00m], model_info[\u001b[33m'\u001b[39;49;00m\u001b[33mhidden_dim\u001b[39;49;00m\u001b[33m'\u001b[39;49;00m], model_info[\u001b[33m'\u001b[39;49;00m\u001b[33mvocab_size\u001b[39;49;00m\u001b[33m'\u001b[39;49;00m])\r\n",
      "\r\n",
      "    \u001b[37m# Load the store model parameters.\u001b[39;49;00m\r\n",
      "    model_path = os.path.join(model_dir, \u001b[33m'\u001b[39;49;00m\u001b[33mmodel.pth\u001b[39;49;00m\u001b[33m'\u001b[39;49;00m)\r\n",
      "    \u001b[34mwith\u001b[39;49;00m \u001b[36mopen\u001b[39;49;00m(model_path, \u001b[33m'\u001b[39;49;00m\u001b[33mrb\u001b[39;49;00m\u001b[33m'\u001b[39;49;00m) \u001b[34mas\u001b[39;49;00m f:\r\n",
      "        model.load_state_dict(torch.load(f))\r\n",
      "\r\n",
      "    \u001b[37m# Load the saved word_dict.\u001b[39;49;00m\r\n",
      "    word_dict_path = os.path.join(model_dir, \u001b[33m'\u001b[39;49;00m\u001b[33mword_dict.pkl\u001b[39;49;00m\u001b[33m'\u001b[39;49;00m)\r\n",
      "    \u001b[34mwith\u001b[39;49;00m \u001b[36mopen\u001b[39;49;00m(word_dict_path, \u001b[33m'\u001b[39;49;00m\u001b[33mrb\u001b[39;49;00m\u001b[33m'\u001b[39;49;00m) \u001b[34mas\u001b[39;49;00m f:\r\n",
      "        model.word_dict = pickle.load(f)\r\n",
      "\r\n",
      "    model.to(device).eval()\r\n",
      "\r\n",
      "    \u001b[34mprint\u001b[39;49;00m(\u001b[33m\"\u001b[39;49;00m\u001b[33mDone loading model.\u001b[39;49;00m\u001b[33m\"\u001b[39;49;00m)\r\n",
      "    \u001b[34mreturn\u001b[39;49;00m model\r\n",
      "\r\n",
      "\u001b[34mdef\u001b[39;49;00m \u001b[32minput_fn\u001b[39;49;00m(serialized_input_data, content_type):\r\n",
      "    \u001b[34mprint\u001b[39;49;00m(\u001b[33m'\u001b[39;49;00m\u001b[33mDeserializing the input data.\u001b[39;49;00m\u001b[33m'\u001b[39;49;00m)\r\n",
      "    \u001b[34mif\u001b[39;49;00m content_type == \u001b[33m'\u001b[39;49;00m\u001b[33mtext/plain\u001b[39;49;00m\u001b[33m'\u001b[39;49;00m:\r\n",
      "        data = serialized_input_data.decode(\u001b[33m'\u001b[39;49;00m\u001b[33mutf-8\u001b[39;49;00m\u001b[33m'\u001b[39;49;00m)\r\n",
      "        \u001b[34mreturn\u001b[39;49;00m data\r\n",
      "    \u001b[34mraise\u001b[39;49;00m \u001b[36mException\u001b[39;49;00m(\u001b[33m'\u001b[39;49;00m\u001b[33mRequested unsupported ContentType in content_type: \u001b[39;49;00m\u001b[33m'\u001b[39;49;00m + content_type)\r\n",
      "\r\n",
      "\u001b[34mdef\u001b[39;49;00m \u001b[32moutput_fn\u001b[39;49;00m(prediction_output, accept):\r\n",
      "    \u001b[34mprint\u001b[39;49;00m(\u001b[33m'\u001b[39;49;00m\u001b[33mSerializing the generated output.\u001b[39;49;00m\u001b[33m'\u001b[39;49;00m)\r\n",
      "    \u001b[34mreturn\u001b[39;49;00m \u001b[36mstr\u001b[39;49;00m(prediction_output)\r\n",
      "\r\n",
      "\u001b[34mdef\u001b[39;49;00m \u001b[32mpredict_fn\u001b[39;49;00m(input_data, model):\r\n",
      "    \u001b[34mprint\u001b[39;49;00m(\u001b[33m'\u001b[39;49;00m\u001b[33mInferring sentiment of input data.\u001b[39;49;00m\u001b[33m'\u001b[39;49;00m)\r\n",
      "\r\n",
      "    device = torch.device(\u001b[33m\"\u001b[39;49;00m\u001b[33mcuda\u001b[39;49;00m\u001b[33m\"\u001b[39;49;00m \u001b[34mif\u001b[39;49;00m torch.cuda.is_available() \u001b[34melse\u001b[39;49;00m \u001b[33m\"\u001b[39;49;00m\u001b[33mcpu\u001b[39;49;00m\u001b[33m\"\u001b[39;49;00m)\r\n",
      "    \r\n",
      "    \u001b[34mif\u001b[39;49;00m model.word_dict \u001b[35mis\u001b[39;49;00m \u001b[36mNone\u001b[39;49;00m:\r\n",
      "        \u001b[34mraise\u001b[39;49;00m \u001b[36mException\u001b[39;49;00m(\u001b[33m'\u001b[39;49;00m\u001b[33mModel has not been loaded properly, no word_dict.\u001b[39;49;00m\u001b[33m'\u001b[39;49;00m)\r\n",
      "    \r\n",
      "    \u001b[37m# TODO: Process input_data so that it is ready to be sent to our model.\u001b[39;49;00m\r\n",
      "    \u001b[37m#       You should produce two variables:\u001b[39;49;00m\r\n",
      "    \u001b[37m#         data_X   - A sequence of length 500 which represents the converted review\u001b[39;49;00m\r\n",
      "    \u001b[37m#         data_len - The length of the review\u001b[39;49;00m\r\n",
      "\r\n",
      "    input_words = review_to_words(input_data) \r\n",
      "    data_X, data_len = convert_and_pad(model.word_dict, input_words, pad=\u001b[34m500\u001b[39;49;00m)\r\n",
      "    \r\n",
      "    \u001b[37m# Using data_X and data_len we construct an appropriate input tensor. Remember\u001b[39;49;00m\r\n",
      "    \u001b[37m# that our model expects input data of the form 'len, review[500]'.\u001b[39;49;00m\r\n",
      "    data_pack = np.hstack((data_len, data_X))\r\n",
      "    data_pack = data_pack.reshape(\u001b[34m1\u001b[39;49;00m, -\u001b[34m1\u001b[39;49;00m)\r\n",
      "    \r\n",
      "    data = torch.from_numpy(data_pack)\r\n",
      "    data = data.to(device)\r\n",
      "\r\n",
      "    \u001b[37m# Make sure to put the model into evaluation mode\u001b[39;49;00m\r\n",
      "    model.eval()\r\n",
      "\r\n",
      "    \u001b[37m# TODO: Compute the result of applying the model to the input data. The variable `result` should\u001b[39;49;00m\r\n",
      "    \u001b[37m#       be a numpy array which contains a single integer which is either 1 or 0\u001b[39;49;00m\r\n",
      "\r\n",
      "    result = model.forward(data) \r\n",
      "    \r\n",
      "    result = np.int(np.round(result.cpu().detach().numpy()))\r\n",
      "    \r\n",
      "    \u001b[34mreturn\u001b[39;49;00m result\r\n"
     ]
    }
   ],
   "source": [
    "!pygmentize serve/predict.py"
   ]
  },
  {
   "cell_type": "markdown",
   "metadata": {},
   "source": [
    "As mentioned earlier, the `model_fn` method is the same as the one provided in the training code and the `input_fn` and `output_fn` methods are very simple and your task will be to complete the `predict_fn` method. Make sure that you save the completed file as `predict.py` in the `serve` directory.\n",
    "\n",
    "**TODO**: Complete the `predict_fn()` method in the `serve/predict.py` file."
   ]
  },
  {
   "cell_type": "markdown",
   "metadata": {},
   "source": [
    "### Deploying the model\n",
    "\n",
    "Now that the custom inference code has been written, we will create and deploy our model. To begin with, we need to construct a new PyTorchModel object which points to the model artifacts created during training and also points to the inference code that we wish to use. Then we can call the deploy method to launch the deployment container.\n",
    "\n",
    "**NOTE**: The default behaviour for a deployed PyTorch model is to assume that any input passed to the predictor is a `numpy` array. In our case we want to send a string so we need to construct a simple wrapper around the `RealTimePredictor` class to accomodate simple strings. In a more complicated situation you may want to provide a serialization object, for example if you wanted to sent image data."
   ]
  },
  {
   "cell_type": "code",
   "execution_count": 51,
   "metadata": {},
   "outputs": [
    {
     "name": "stdout",
     "output_type": "stream",
     "text": [
      "<sagemaker.pytorch.model.PyTorchModel object at 0x7f48af9e0cc0>\n",
      "-------------------------------------------------------------------------------------!"
     ]
    }
   ],
   "source": [
    "from sagemaker.predictor import RealTimePredictor\n",
    "from sagemaker.pytorch import PyTorchModel\n",
    "\n",
    "class StringPredictor(RealTimePredictor):\n",
    "    def __init__(self, endpoint_name, sagemaker_session):\n",
    "        super(StringPredictor, self).__init__(endpoint_name, sagemaker_session, content_type='text/plain')\n",
    "\n",
    "model = PyTorchModel(model_data=attached_estimator.model_data,\n",
    "                     role = role,\n",
    "                     framework_version='0.4.0',\n",
    "                     entry_point='predict.py',\n",
    "                     source_dir='serve',\n",
    "                     predictor_cls=StringPredictor)\n",
    "\n",
    "print(model)\n",
    " \n",
    "#attached_estimator = PyTorch.attach(training_job_name, sagemaker_session=sagemaker_session)\n",
    "#predictor = attached_estimator.deploy(initial_instance_count=1, instance_type='ml.m4.xlarge')\n",
    "\n",
    "predictor = model.deploy(initial_instance_count=1, instance_type='ml.m4.xlarge')"
   ]
  },
  {
   "cell_type": "markdown",
   "metadata": {},
   "source": [
    "### Testing the model\n",
    "\n",
    "Now that we have deployed our model with the custom inference code, we should test to see if everything is working. Here we test our model by loading the first `250` positive and negative reviews and send them to the endpoint, then collect the results. The reason for only sending some of the data is that the amount of time it takes for our model to process the input and then perform inference is quite long and so testing the entire data set would be prohibitive."
   ]
  },
  {
   "cell_type": "code",
   "execution_count": 52,
   "metadata": {},
   "outputs": [],
   "source": [
    "import glob\n",
    "\n",
    "def test_reviews(data_dir='../data/aclImdb', stop=250):\n",
    "    \n",
    "    results = []\n",
    "    ground = []\n",
    "    \n",
    "    # We make sure to test both positive and negative reviews    \n",
    "    for sentiment in ['pos', 'neg']:\n",
    "        \n",
    "        path = os.path.join(data_dir, 'test', sentiment, '*.txt')\n",
    "        files = glob.glob(path)\n",
    "        \n",
    "        files_read = 0\n",
    "        \n",
    "        print('Starting ', sentiment, ' files')\n",
    "        \n",
    "        # Iterate through the files and send them to the predictor\n",
    "        for f in files:\n",
    "            with open(f) as review:\n",
    "                # First, we store the ground truth (was the review positive or negative)\n",
    "                if sentiment == 'pos':\n",
    "                    ground.append(1)\n",
    "                else:\n",
    "                    ground.append(0)\n",
    "                # Read in the review and convert to 'utf-8' for transmission via HTTP\n",
    "                review_input = review.read().encode('utf-8')\n",
    "                # Send the review to the predictor and store the results \n",
    "                \n",
    "                \n",
    "                model_output = predictor.predict(review_input)\n",
    "                results.append(np.int(model_output))\n",
    "                \"\"\"\n",
    "                print(\"{} has type {}\".format(model_output, type(model_output))) \n",
    "                \n",
    "                if (len(model_output.decode('utf-8')) > 14):\n",
    "                    results.append(np.array(0))\n",
    "                else:\n",
    "                    results.append(np.round(np.float(model_output.decode('utf-8')[7:12]))) \n",
    "                \"\"\"\n",
    "            # Sending reviews to our endpoint one at a time takes a while so we\n",
    "            # only send a small number of reviews\n",
    "            files_read += 1\n",
    "            if files_read == stop:\n",
    "                break\n",
    "            \n",
    "    return ground, results"
   ]
  },
  {
   "cell_type": "code",
   "execution_count": 53,
   "metadata": {
    "scrolled": true
   },
   "outputs": [
    {
     "name": "stdout",
     "output_type": "stream",
     "text": [
      "Starting  pos  files\n",
      "Starting  neg  files\n"
     ]
    }
   ],
   "source": [
    "ground, results = test_reviews()"
   ]
  },
  {
   "cell_type": "code",
   "execution_count": 54,
   "metadata": {},
   "outputs": [
    {
     "data": {
      "text/plain": [
       "0.872"
      ]
     },
     "execution_count": 54,
     "metadata": {},
     "output_type": "execute_result"
    }
   ],
   "source": [
    "from sklearn.metrics import accuracy_score\n",
    "accuracy_score(ground, results)"
   ]
  },
  {
   "cell_type": "markdown",
   "metadata": {},
   "source": [
    "As an additional test, we can try sending the `test_review` that we looked at earlier."
   ]
  },
  {
   "cell_type": "code",
   "execution_count": 57,
   "metadata": {},
   "outputs": [
    {
     "data": {
      "text/plain": [
       "b'1'"
      ]
     },
     "execution_count": 57,
     "metadata": {},
     "output_type": "execute_result"
    }
   ],
   "source": [
    "predictor.predict(test_review)"
   ]
  },
  {
   "cell_type": "markdown",
   "metadata": {},
   "source": [
    "Now that we know our endpoint is working as expected, we can set up the web page that will interact with it. If you don't have time to finish the project now, make sure to skip down to the end of this notebook and shut down your endpoint. You can deploy it again when you come back."
   ]
  },
  {
   "cell_type": "markdown",
   "metadata": {},
   "source": [
    "## Step 7 (again): Use the model for the web app\n",
    "\n",
    "> **TODO:** This entire section and the next contain tasks for you to complete, mostly using the AWS console.\n",
    "\n",
    "So far we have been accessing our model endpoint by constructing a predictor object which uses the endpoint and then just using the predictor object to perform inference. What if we wanted to create a web app which accessed our model? The way things are set up currently makes that not possible since in order to access a SageMaker endpoint the app would first have to authenticate with AWS using an IAM role which included access to SageMaker endpoints. However, there is an easier way! We just need to use some additional AWS services.\n",
    "\n",
    "<img src=\"Web App Diagram.svg\">\n",
    "\n",
    "The diagram above gives an overview of how the various services will work together. On the far right is the model which we trained above and which is deployed using SageMaker. On the far left is our web app that collects a user's movie review, sends it off and expects a positive or negative sentiment in return.\n",
    "\n",
    "In the middle is where some of the magic happens. We will construct a Lambda function, which you can think of as a straightforward Python function that can be executed whenever a specified event occurs. We will give this function permission to send and recieve data from a SageMaker endpoint.\n",
    "\n",
    "Lastly, the method we will use to execute the Lambda function is a new endpoint that we will create using API Gateway. This endpoint will be a url that listens for data to be sent to it. Once it gets some data it will pass that data on to the Lambda function and then return whatever the Lambda function returns. Essentially it will act as an interface that lets our web app communicate with the Lambda function.\n",
    "\n",
    "### Setting up a Lambda function\n",
    "\n",
    "The first thing we are going to do is set up a Lambda function. This Lambda function will be executed whenever our public API has data sent to it. When it is executed it will receive the data, perform any sort of processing that is required, send the data (the review) to the SageMaker endpoint we've created and then return the result.\n",
    "\n",
    "#### Part A: Create an IAM Role for the Lambda function\n",
    "\n",
    "Since we want the Lambda function to call a SageMaker endpoint, we need to make sure that it has permission to do so. To do this, we will construct a role that we can later give the Lambda function.\n",
    "\n",
    "Using the AWS Console, navigate to the **IAM** page and click on **Roles**. Then, click on **Create role**. Make sure that the **AWS service** is the type of trusted entity selected and choose **Lambda** as the service that will use this role, then click **Next: Permissions**.\n",
    "\n",
    "In the search box type `sagemaker` and select the check box next to the **AmazonSageMakerFullAccess** policy. Then, click on **Next: Review**.\n",
    "\n",
    "Lastly, give this role a name. Make sure you use a name that you will remember later on, for example `LambdaSageMakerRole`. Then, click on **Create role**.\n",
    "\n",
    "#### Part B: Create a Lambda function\n",
    "\n",
    "Now it is time to actually create the Lambda function.\n",
    "\n",
    "Using the AWS Console, navigate to the AWS Lambda page and click on **Create a function**. When you get to the next page, make sure that **Author from scratch** is selected. Now, name your Lambda function, using a name that you will remember later on, for example `sentiment_analysis_func`. Make sure that the **Python 3.6** runtime is selected and then choose the role that you created in the previous part. Then, click on **Create Function**.\n",
    "\n",
    "On the next page you will see some information about the Lambda function you've just created. If you scroll down you should see an editor in which you can write the code that will be executed when your Lambda function is triggered. In our example, we will use the code below. \n",
    "\n",
    "```python\n",
    "# We need to use the low-level library to interact with SageMaker since the SageMaker API\n",
    "# is not available natively through Lambda.\n",
    "import boto3\n",
    "\n",
    "def lambda_handler(event, context):\n",
    "\n",
    "    # The SageMaker runtime is what allows us to invoke the endpoint that we've created.\n",
    "    runtime = boto3.Session().client('sagemaker-runtime')\n",
    "\n",
    "    # Now we use the SageMaker runtime to invoke our endpoint, sending the review we were given\n",
    "    response = runtime.invoke_endpoint(EndpointName = '**ENDPOINT NAME HERE**',    # The name of the endpoint we created\n",
    "                                       ContentType = 'text/plain',                 # The data format that is expected\n",
    "                                       Body = event['body'])                       # The actual review\n",
    "\n",
    "    # The response is an HTTP response whose body contains the result of our inference\n",
    "    result = response['Body'].read().decode('utf-8')\n",
    "\n",
    "    return {\n",
    "        'statusCode' : 200,\n",
    "        'headers' : { 'Content-Type' : 'text/plain', 'Access-Control-Allow-Origin' : '*' },\n",
    "        'body' : result\n",
    "    }\n",
    "```\n",
    "\n",
    "Once you have copy and pasted the code above into the Lambda code editor, replace the `**ENDPOINT NAME HERE**` portion with the name of the endpoint that we deployed earlier. You can determine the name of the endpoint using the code cell below."
   ]
  },
  {
   "cell_type": "code",
   "execution_count": 58,
   "metadata": {},
   "outputs": [
    {
     "data": {
      "text/plain": [
       "'sagemaker-pytorch-2019-08-01-09-30-27-426'"
      ]
     },
     "execution_count": 58,
     "metadata": {},
     "output_type": "execute_result"
    }
   ],
   "source": [
    "predictor.endpoint"
   ]
  },
  {
   "cell_type": "markdown",
   "metadata": {},
   "source": [
    "Once you have added the endpoint name to the Lambda function, click on **Save**. Your Lambda function is now up and running. Next we need to create a way for our web app to execute the Lambda function.\n",
    "\n",
    "### Setting up API Gateway\n",
    "\n",
    "Now that our Lambda function is set up, it is time to create a new API using API Gateway that will trigger the Lambda function we have just created.\n",
    "\n",
    "Using AWS Console, navigate to **Amazon API Gateway** and then click on **Get started**.\n",
    "\n",
    "On the next page, make sure that **New API** is selected and give the new api a name, for example, `sentiment_analysis_api`. Then, click on **Create API**.\n",
    "\n",
    "Now we have created an API, however it doesn't currently do anything. What we want it to do is to trigger the Lambda function that we created earlier.\n",
    "\n",
    "Select the **Actions** dropdown menu and click **Create Method**. A new blank method will be created, select its dropdown menu and select **POST**, then click on the check mark beside it.\n",
    "\n",
    "For the integration point, make sure that **Lambda Function** is selected and click on the **Use Lambda Proxy integration**. This option makes sure that the data that is sent to the API is then sent directly to the Lambda function with no processing. It also means that the return value must be a proper response object as it will also not be processed by API Gateway.\n",
    "\n",
    "Type the name of the Lambda function you created earlier into the **Lambda Function** text entry box and then click on **Save**. Click on **OK** in the pop-up box that then appears, giving permission to API Gateway to invoke the Lambda function you created.\n",
    "\n",
    "The last step in creating the API Gateway is to select the **Actions** dropdown and click on **Deploy API**. You will need to create a new Deployment stage and name it anything you like, for example `prod`.\n",
    "\n",
    "You have now successfully set up a public API to access your SageMaker model. Make sure to copy or write down the URL provided to invoke your newly created public API as this will be needed in the next step. This URL can be found at the top of the page, highlighted in blue next to the text **Invoke URL**."
   ]
  },
  {
   "cell_type": "markdown",
   "metadata": {},
   "source": [
    "## Step 4: Deploying our web app\n",
    "\n",
    "Now that we have a publicly available API, we can start using it in a web app. For our purposes, we have provided a simple static html file which can make use of the public api you created earlier.\n",
    "\n",
    "In the `website` folder there should be a file called `index.html`. Download the file to your computer and open that file up in a text editor of your choice. There should be a line which contains **\\*\\*REPLACE WITH PUBLIC API URL\\*\\***. Replace this string with the url that you wrote down in the last step and then save the file.\n",
    "\n",
    "Now, if you open `index.html` on your local computer, your browser will behave as a local web server and you can use the provided site to interact with your SageMaker model.\n",
    "\n",
    "If you'd like to go further, you can host this html file anywhere you'd like, for example using github or hosting a static site on Amazon's S3. Once you have done this you can share the link with anyone you'd like and have them play with it too!\n",
    "\n",
    "> **Important Note** In order for the web app to communicate with the SageMaker endpoint, the endpoint has to actually be deployed and running. This means that you are paying for it. Make sure that the endpoint is running when you want to use the web app but that you shut it down when you don't need it, otherwise you will end up with a surprisingly large AWS bill.\n",
    "\n",
    "**TODO:** Make sure that you include the edited `index.html` file in your project submission."
   ]
  },
  {
   "cell_type": "markdown",
   "metadata": {},
   "source": [
    "Now that your web app is working, trying playing around with it and see how well it works.\n",
    "\n",
    "**Question**: Give an example of a review that you entered into your web app. What was the predicted sentiment of your example review?"
   ]
  },
  {
   "cell_type": "markdown",
   "metadata": {},
   "source": [
    "**Answer:**\n",
    "\n",
    "**NEGATIVE** I would not recommend this movie to my worst enemy\n",
    "\n",
    "**POSITIVE**  This must be the movie I was looking for my whole life\n"
   ]
  },
  {
   "cell_type": "code",
   "execution_count": null,
   "metadata": {},
   "outputs": [],
   "source": []
  },
  {
   "cell_type": "markdown",
   "metadata": {},
   "source": [
    "### Delete the endpoint\n",
    "\n",
    "Remember to always shut down your endpoint if you are no longer using it. You are charged for the length of time that the endpoint is running so if you forget and leave it on you could end up with an unexpectedly large bill."
   ]
  },
  {
   "cell_type": "code",
   "execution_count": 59,
   "metadata": {},
   "outputs": [],
   "source": [
    "predictor.delete_endpoint()"
   ]
  },
  {
   "cell_type": "code",
   "execution_count": null,
   "metadata": {},
   "outputs": [],
   "source": []
  }
 ],
 "metadata": {
  "kernelspec": {
   "display_name": "conda_pytorch_p36",
   "language": "python",
   "name": "conda_pytorch_p36"
  },
  "language_info": {
   "codemirror_mode": {
    "name": "ipython",
    "version": 3
   },
   "file_extension": ".py",
   "mimetype": "text/x-python",
   "name": "python",
   "nbconvert_exporter": "python",
   "pygments_lexer": "ipython3",
   "version": "3.6.5"
  }
 },
 "nbformat": 4,
 "nbformat_minor": 2
}
